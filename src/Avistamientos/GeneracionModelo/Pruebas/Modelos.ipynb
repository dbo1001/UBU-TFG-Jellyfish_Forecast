{
 "cells": [
  {
   "cell_type": "markdown",
   "metadata": {},
   "source": [
    "## imports"
   ]
  },
  {
   "cell_type": "code",
   "execution_count": 3,
   "metadata": {},
   "outputs": [
    {
     "name": "stderr",
     "output_type": "stream",
     "text": [
      "/home/pst0004/anaconda3/envs/entornoPrueba/lib/python3.7/importlib/_bootstrap.py:219: RuntimeWarning: numpy.ufunc size changed, may indicate binary incompatibility. Expected 192 from C header, got 216 from PyObject\n",
      "  return f(*args, **kwds)\n"
     ]
    }
   ],
   "source": [
    "import pandas as pd\n",
    "import matplotlib.pyplot as plt\n",
    "import numpy as np\n",
    "import xarray as xr\n",
    "# scikit\n",
    "from sklearn import datasets, linear_model\n",
    "from sklearn.metrics import mean_squared_error, r2_score\n",
    "from sklearn.model_selection import train_test_split\n",
    "\n",
    "from sklearn.datasets import make_regression\n",
    "from sklearn.neighbors import KNeighborsRegressor\n",
    "import time"
   ]
  },
  {
   "cell_type": "markdown",
   "metadata": {},
   "source": [
    "## carga de datos"
   ]
  },
  {
   "cell_type": "code",
   "execution_count": 11,
   "metadata": {
    "scrolled": false
   },
   "outputs": [
    {
     "data": {
      "text/html": [
       "<div>\n",
       "<style scoped>\n",
       "    .dataframe tbody tr th:only-of-type {\n",
       "        vertical-align: middle;\n",
       "    }\n",
       "\n",
       "    .dataframe tbody tr th {\n",
       "        vertical-align: top;\n",
       "    }\n",
       "\n",
       "    .dataframe thead th {\n",
       "        text-align: right;\n",
       "    }\n",
       "</style>\n",
       "<table border=\"1\" class=\"dataframe\">\n",
       "  <thead>\n",
       "    <tr style=\"text-align: right;\">\n",
       "      <th></th>\n",
       "      <th>mlotst_0</th>\n",
       "      <th>zos_0</th>\n",
       "      <th>bottomT_0</th>\n",
       "      <th>thetao_0</th>\n",
       "      <th>so_0</th>\n",
       "      <th>uo_0</th>\n",
       "      <th>vo_0</th>\n",
       "      <th>mlotst_izq_1_0</th>\n",
       "      <th>zos_izq_1_0</th>\n",
       "      <th>bottomT_izq_1_0</th>\n",
       "      <th>...</th>\n",
       "      <th>so_inf_2.1_10</th>\n",
       "      <th>uo_inf_2.1_10</th>\n",
       "      <th>vo_inf_2.1_10</th>\n",
       "      <th>mlotst_inf_2.2_10</th>\n",
       "      <th>zos_inf_2.2_10</th>\n",
       "      <th>bottomT_inf_2.2_10</th>\n",
       "      <th>thetao_inf_2.2_10</th>\n",
       "      <th>so_inf_2.2_10</th>\n",
       "      <th>uo_inf_2.2_10</th>\n",
       "      <th>vo_inf_2.2_10</th>\n",
       "    </tr>\n",
       "  </thead>\n",
       "  <tbody>\n",
       "    <tr>\n",
       "      <th>0</th>\n",
       "      <td>0.028272</td>\n",
       "      <td>0.484909</td>\n",
       "      <td>0.593375</td>\n",
       "      <td>0.393488</td>\n",
       "      <td>0.753866</td>\n",
       "      <td>0.265495</td>\n",
       "      <td>0.377426</td>\n",
       "      <td>0.044560</td>\n",
       "      <td>0.470527</td>\n",
       "      <td>0.578919</td>\n",
       "      <td>...</td>\n",
       "      <td>0.703526</td>\n",
       "      <td>0.535836</td>\n",
       "      <td>0.402959</td>\n",
       "      <td>0.017508</td>\n",
       "      <td>0.430021</td>\n",
       "      <td>0.320409</td>\n",
       "      <td>0.476941</td>\n",
       "      <td>0.670427</td>\n",
       "      <td>0.524089</td>\n",
       "      <td>0.240149</td>\n",
       "    </tr>\n",
       "    <tr>\n",
       "      <th>1</th>\n",
       "      <td>0.028272</td>\n",
       "      <td>0.564889</td>\n",
       "      <td>0.748738</td>\n",
       "      <td>0.600051</td>\n",
       "      <td>0.778454</td>\n",
       "      <td>0.335800</td>\n",
       "      <td>0.493170</td>\n",
       "      <td>0.023834</td>\n",
       "      <td>0.563082</td>\n",
       "      <td>0.792167</td>\n",
       "      <td>...</td>\n",
       "      <td>0.755449</td>\n",
       "      <td>0.484642</td>\n",
       "      <td>0.517160</td>\n",
       "      <td>0.015448</td>\n",
       "      <td>0.558761</td>\n",
       "      <td>0.207604</td>\n",
       "      <td>0.861387</td>\n",
       "      <td>0.755555</td>\n",
       "      <td>0.509988</td>\n",
       "      <td>0.422790</td>\n",
       "    </tr>\n",
       "    <tr>\n",
       "      <th>2</th>\n",
       "      <td>0.028272</td>\n",
       "      <td>0.430584</td>\n",
       "      <td>0.701932</td>\n",
       "      <td>0.391888</td>\n",
       "      <td>0.746007</td>\n",
       "      <td>0.418131</td>\n",
       "      <td>0.514019</td>\n",
       "      <td>0.022798</td>\n",
       "      <td>0.425026</td>\n",
       "      <td>0.727978</td>\n",
       "      <td>...</td>\n",
       "      <td>0.682051</td>\n",
       "      <td>0.395904</td>\n",
       "      <td>0.635503</td>\n",
       "      <td>0.003090</td>\n",
       "      <td>0.431624</td>\n",
       "      <td>0.305412</td>\n",
       "      <td>0.452228</td>\n",
       "      <td>0.659829</td>\n",
       "      <td>0.545241</td>\n",
       "      <td>0.567625</td>\n",
       "    </tr>\n",
       "    <tr>\n",
       "      <th>3</th>\n",
       "      <td>0.028272</td>\n",
       "      <td>0.425553</td>\n",
       "      <td>0.701025</td>\n",
       "      <td>0.380565</td>\n",
       "      <td>0.747275</td>\n",
       "      <td>0.455134</td>\n",
       "      <td>0.485262</td>\n",
       "      <td>0.022798</td>\n",
       "      <td>0.417787</td>\n",
       "      <td>0.729441</td>\n",
       "      <td>...</td>\n",
       "      <td>0.678205</td>\n",
       "      <td>0.408419</td>\n",
       "      <td>0.634911</td>\n",
       "      <td>0.003090</td>\n",
       "      <td>0.422543</td>\n",
       "      <td>0.300898</td>\n",
       "      <td>0.414153</td>\n",
       "      <td>0.655727</td>\n",
       "      <td>0.508813</td>\n",
       "      <td>0.598509</td>\n",
       "    </tr>\n",
       "    <tr>\n",
       "      <th>4</th>\n",
       "      <td>0.028272</td>\n",
       "      <td>0.450201</td>\n",
       "      <td>0.694401</td>\n",
       "      <td>0.550601</td>\n",
       "      <td>0.777440</td>\n",
       "      <td>0.284921</td>\n",
       "      <td>0.498922</td>\n",
       "      <td>0.023834</td>\n",
       "      <td>0.450879</td>\n",
       "      <td>0.802019</td>\n",
       "      <td>...</td>\n",
       "      <td>0.732692</td>\n",
       "      <td>0.439135</td>\n",
       "      <td>0.716568</td>\n",
       "      <td>0.006179</td>\n",
       "      <td>0.476496</td>\n",
       "      <td>0.198927</td>\n",
       "      <td>0.749822</td>\n",
       "      <td>0.719316</td>\n",
       "      <td>0.534665</td>\n",
       "      <td>0.571352</td>\n",
       "    </tr>\n",
       "  </tbody>\n",
       "</table>\n",
       "<p>5 rows × 231 columns</p>\n",
       "</div>"
      ],
      "text/plain": [
       "   mlotst_0     zos_0  bottomT_0  thetao_0      so_0      uo_0      vo_0  \\\n",
       "0  0.028272  0.484909   0.593375  0.393488  0.753866  0.265495  0.377426   \n",
       "1  0.028272  0.564889   0.748738  0.600051  0.778454  0.335800  0.493170   \n",
       "2  0.028272  0.430584   0.701932  0.391888  0.746007  0.418131  0.514019   \n",
       "3  0.028272  0.425553   0.701025  0.380565  0.747275  0.455134  0.485262   \n",
       "4  0.028272  0.450201   0.694401  0.550601  0.777440  0.284921  0.498922   \n",
       "\n",
       "   mlotst_izq_1_0  zos_izq_1_0  bottomT_izq_1_0  ...  so_inf_2.1_10  \\\n",
       "0        0.044560     0.470527         0.578919  ...       0.703526   \n",
       "1        0.023834     0.563082         0.792167  ...       0.755449   \n",
       "2        0.022798     0.425026         0.727978  ...       0.682051   \n",
       "3        0.022798     0.417787         0.729441  ...       0.678205   \n",
       "4        0.023834     0.450879         0.802019  ...       0.732692   \n",
       "\n",
       "   uo_inf_2.1_10  vo_inf_2.1_10  mlotst_inf_2.2_10  zos_inf_2.2_10  \\\n",
       "0       0.535836       0.402959           0.017508        0.430021   \n",
       "1       0.484642       0.517160           0.015448        0.558761   \n",
       "2       0.395904       0.635503           0.003090        0.431624   \n",
       "3       0.408419       0.634911           0.003090        0.422543   \n",
       "4       0.439135       0.716568           0.006179        0.476496   \n",
       "\n",
       "   bottomT_inf_2.2_10  thetao_inf_2.2_10  so_inf_2.2_10  uo_inf_2.2_10  \\\n",
       "0            0.320409           0.476941       0.670427       0.524089   \n",
       "1            0.207604           0.861387       0.755555       0.509988   \n",
       "2            0.305412           0.452228       0.659829       0.545241   \n",
       "3            0.300898           0.414153       0.655727       0.508813   \n",
       "4            0.198927           0.749822       0.719316       0.534665   \n",
       "\n",
       "   vo_inf_2.2_10  \n",
       "0       0.240149  \n",
       "1       0.422790  \n",
       "2       0.567625  \n",
       "3       0.598509  \n",
       "4       0.571352  \n",
       "\n",
       "[5 rows x 231 columns]"
      ]
     },
     "execution_count": 11,
     "metadata": {},
     "output_type": "execute_result"
    }
   ],
   "source": [
    "#  CARGA DATAFRAME ATRIBUTOS\n",
    "df_atributos = pd.read_pickle('../pkls/dfAtributosNormalizado_0_dias_2_celdas.pkl')#.drop('Unnamed: 0',axis=1)\n",
    "df_atributos.head()"
   ]
  },
  {
   "cell_type": "code",
   "execution_count": 10,
   "metadata": {},
   "outputs": [
    {
     "data": {
      "text/html": [
       "<div>\n",
       "<style scoped>\n",
       "    .dataframe tbody tr th:only-of-type {\n",
       "        vertical-align: middle;\n",
       "    }\n",
       "\n",
       "    .dataframe tbody tr th {\n",
       "        vertical-align: top;\n",
       "    }\n",
       "\n",
       "    .dataframe thead th {\n",
       "        text-align: right;\n",
       "    }\n",
       "</style>\n",
       "<table border=\"1\" class=\"dataframe\">\n",
       "  <thead>\n",
       "    <tr style=\"text-align: right;\">\n",
       "      <th></th>\n",
       "      <th>Avistamientos</th>\n",
       "    </tr>\n",
       "  </thead>\n",
       "  <tbody>\n",
       "    <tr>\n",
       "      <th>0</th>\n",
       "      <td>1</td>\n",
       "    </tr>\n",
       "    <tr>\n",
       "      <th>1</th>\n",
       "      <td>1</td>\n",
       "    </tr>\n",
       "    <tr>\n",
       "      <th>2</th>\n",
       "      <td>13</td>\n",
       "    </tr>\n",
       "    <tr>\n",
       "      <th>3</th>\n",
       "      <td>23</td>\n",
       "    </tr>\n",
       "    <tr>\n",
       "      <th>4</th>\n",
       "      <td>15</td>\n",
       "    </tr>\n",
       "  </tbody>\n",
       "</table>\n",
       "</div>"
      ],
      "text/plain": [
       "   Avistamientos\n",
       "0              1\n",
       "1              1\n",
       "2             13\n",
       "3             23\n",
       "4             15"
      ]
     },
     "execution_count": 10,
     "metadata": {},
     "output_type": "execute_result"
    }
   ],
   "source": [
    "#  CARGA DATAFRAME AVISTAMIENTOS\n",
    "df_avistamientos = pd.read_pickle('../pkls/dfAvistamientos.pkl')#.drop('Unnamed: 0',axis=1)\n",
    "df_avistamientos.head()"
   ]
  },
  {
   "cell_type": "code",
   "execution_count": 24,
   "metadata": {},
   "outputs": [
    {
     "data": {
      "text/plain": [
       "(534,)"
      ]
     },
     "execution_count": 24,
     "metadata": {},
     "output_type": "execute_result"
    }
   ],
   "source": [
    "# DATAFRAMES A LISTAS\n",
    "listado_atributos = df_atributos.values.tolist()\n",
    "listado_avistamientos = df_avistamientos.values.tolist()\n",
    "# CONJUNTOS DE ENTRENAMIENTO Y TEST\n",
    "atributos_train, atributos_test, avistamientos_train, avistamientos_test = train_test_split(listado_atributos,listado_avistamientos,test_size=0.2)\n",
    "atributos_train = np.array(atributos_train)\n",
    "atributos_test = np.array(atributos_test)\n",
    "avistamientos_train = np.ravel(np.array(avistamientos_train))\n",
    "avistamientos_test = np.ravel(np.array(avistamientos_test))\n",
    "type(avistamientos_train)\n",
    "avistamientos_train.shape"
   ]
  },
  {
   "cell_type": "code",
   "execution_count": null,
   "metadata": {},
   "outputs": [],
   "source": []
  },
  {
   "cell_type": "code",
   "execution_count": 10,
   "metadata": {},
   "outputs": [],
   "source": [
    "def imprimir(mod,X_test,Y_test,Y_prediccion):\n",
    "    # COEFICIENTES (pendientes)\n",
    "    print('Coeficientes:')\n",
    "    print(mod.coef_)\n",
    "    print(mod.intercept_)\n",
    "    # The mean squared error\n",
    "    print('Error cuadrático medio: %.2f'% mean_squared_error(Y_test, Y_prediccion))\n",
    "    # The coefficient of determination: 1 is perfect prediction\n",
    "    print('Coeficiente de determinación con datos test: %.2f'% mod.score(X_test, Y_test)) \n",
    "    print('Coeficiente de determinación con datos train: %.2f'% mod.score(atributos_train, avistamientos_train)) \n",
    "    print(r2_score(Y_test, Y_prediccion))\n",
    "\n",
    "    plt.plot(Y_test,'r')\n",
    "    plt.plot(Y_prediccion,'g')\n",
    "    plt.show()\n",
    "    \n",
    "    # datos que teniamos y los uqe hemos obtenido\n",
    "    # [print(Y_test[i],Y_pred[i]) for i in range(len(Y_pred))]"
   ]
  },
  {
   "attachments": {
    "image.png": {
     "image/png": "[encoded data removed]"
    }
   },
   "cell_type": "markdown",
   "metadata": {},
   "source": [
    "### Regresion Lineal\n",
    "![image.png](attachment:image.png)"
   ]
  },
  {
   "cell_type": "code",
   "execution_count": 6,
   "metadata": {},
   "outputs": [],
   "source": [
    "# # REGRESION LINEAL\n",
    "# lr = linear_model.LinearRegression()\n",
    "# # se entrena al modelo\n",
    "# lr.fit(atributos_train,avistamientos_train)\n",
    "# # prediccion\n",
    "# avistamientos_prediccion_lineal = lr.predict(atributos_test)"
   ]
  },
  {
   "cell_type": "code",
   "execution_count": 7,
   "metadata": {},
   "outputs": [
    {
     "data": {
      "text/plain": [
       "137964.37608665373"
      ]
     },
     "execution_count": 7,
     "metadata": {},
     "output_type": "execute_result"
    }
   ],
   "source": [
    "# scores_regr = mean_squared_error(avistamientos_test, avistamientos_prediccion_lineal)\n",
    "# scores_regr"
   ]
  },
  {
   "cell_type": "code",
   "execution_count": 1,
   "metadata": {},
   "outputs": [],
   "source": [
    "# imprimir(lr,atributos_test,avistamientos_test,avistamientos_prediccion_lineal)"
   ]
  },
  {
   "cell_type": "markdown",
   "metadata": {},
   "source": [
    "### Polinomial"
   ]
  },
  {
   "cell_type": "code",
   "execution_count": 9,
   "metadata": {
    "collapsed": true
   },
   "outputs": [
    {
     "ename": "KeyboardInterrupt",
     "evalue": "",
     "output_type": "error",
     "traceback": [
      "\u001b[0;31m---------------------------------------------------------------------------\u001b[0m",
      "\u001b[0;31mKeyboardInterrupt\u001b[0m                         Traceback (most recent call last)",
      "\u001b[0;32m<ipython-input-9-5447088e256c>\u001b[0m in \u001b[0;36m<module>\u001b[0;34m\u001b[0m\n\u001b[1;32m      5\u001b[0m model = Pipeline([('poly', PolynomialFeatures(degree=5)),\n\u001b[1;32m      6\u001b[0m                   ('linear', LinearRegression(fit_intercept=False))])\n\u001b[0;32m----> 7\u001b[0;31m \u001b[0mmodel\u001b[0m \u001b[0;34m=\u001b[0m \u001b[0mmodel\u001b[0m\u001b[0;34m.\u001b[0m\u001b[0mfit\u001b[0m\u001b[0;34m(\u001b[0m\u001b[0matributos_train\u001b[0m\u001b[0;34m,\u001b[0m\u001b[0mavistamientos_train\u001b[0m\u001b[0;34m)\u001b[0m\u001b[0;34m\u001b[0m\u001b[0;34m\u001b[0m\u001b[0m\n\u001b[0m\u001b[1;32m      8\u001b[0m \u001b[0;34m\u001b[0m\u001b[0m\n\u001b[1;32m      9\u001b[0m \u001b[0mmodel\u001b[0m\u001b[0;34m.\u001b[0m\u001b[0mnamed_steps\u001b[0m\u001b[0;34m[\u001b[0m\u001b[0;34m'linear'\u001b[0m\u001b[0;34m]\u001b[0m\u001b[0;34m.\u001b[0m\u001b[0mcoef_\u001b[0m\u001b[0;34m\u001b[0m\u001b[0;34m\u001b[0m\u001b[0m\n",
      "\u001b[0;32m~/anaconda3/envs/entornoPrueba/lib/python3.7/site-packages/sklearn/pipeline.py\u001b[0m in \u001b[0;36mfit\u001b[0;34m(self, X, y, **fit_params)\u001b[0m\n\u001b[1;32m    348\u001b[0m             \u001b[0mThis\u001b[0m \u001b[0mestimator\u001b[0m\u001b[0;34m\u001b[0m\u001b[0;34m\u001b[0m\u001b[0m\n\u001b[1;32m    349\u001b[0m         \"\"\"\n\u001b[0;32m--> 350\u001b[0;31m         \u001b[0mXt\u001b[0m\u001b[0;34m,\u001b[0m \u001b[0mfit_params\u001b[0m \u001b[0;34m=\u001b[0m \u001b[0mself\u001b[0m\u001b[0;34m.\u001b[0m\u001b[0m_fit\u001b[0m\u001b[0;34m(\u001b[0m\u001b[0mX\u001b[0m\u001b[0;34m,\u001b[0m \u001b[0my\u001b[0m\u001b[0;34m,\u001b[0m \u001b[0;34m**\u001b[0m\u001b[0mfit_params\u001b[0m\u001b[0;34m)\u001b[0m\u001b[0;34m\u001b[0m\u001b[0;34m\u001b[0m\u001b[0m\n\u001b[0m\u001b[1;32m    351\u001b[0m         with _print_elapsed_time('Pipeline',\n\u001b[1;32m    352\u001b[0m                                  self._log_message(len(self.steps) - 1)):\n",
      "\u001b[0;32m~/anaconda3/envs/entornoPrueba/lib/python3.7/site-packages/sklearn/pipeline.py\u001b[0m in \u001b[0;36m_fit\u001b[0;34m(self, X, y, **fit_params)\u001b[0m\n\u001b[1;32m    313\u001b[0m                 \u001b[0mmessage_clsname\u001b[0m\u001b[0;34m=\u001b[0m\u001b[0;34m'Pipeline'\u001b[0m\u001b[0;34m,\u001b[0m\u001b[0;34m\u001b[0m\u001b[0;34m\u001b[0m\u001b[0m\n\u001b[1;32m    314\u001b[0m                 \u001b[0mmessage\u001b[0m\u001b[0;34m=\u001b[0m\u001b[0mself\u001b[0m\u001b[0;34m.\u001b[0m\u001b[0m_log_message\u001b[0m\u001b[0;34m(\u001b[0m\u001b[0mstep_idx\u001b[0m\u001b[0;34m)\u001b[0m\u001b[0;34m,\u001b[0m\u001b[0;34m\u001b[0m\u001b[0;34m\u001b[0m\u001b[0m\n\u001b[0;32m--> 315\u001b[0;31m                 **fit_params_steps[name])\n\u001b[0m\u001b[1;32m    316\u001b[0m             \u001b[0;31m# Replace the transformer of the step with the fitted\u001b[0m\u001b[0;34m\u001b[0m\u001b[0;34m\u001b[0m\u001b[0;34m\u001b[0m\u001b[0m\n\u001b[1;32m    317\u001b[0m             \u001b[0;31m# transformer. This is necessary when loading the transformer\u001b[0m\u001b[0;34m\u001b[0m\u001b[0;34m\u001b[0m\u001b[0;34m\u001b[0m\u001b[0m\n",
      "\u001b[0;32m~/anaconda3/envs/entornoPrueba/lib/python3.7/site-packages/joblib/memory.py\u001b[0m in \u001b[0;36m__call__\u001b[0;34m(self, *args, **kwargs)\u001b[0m\n\u001b[1;32m    353\u001b[0m \u001b[0;34m\u001b[0m\u001b[0m\n\u001b[1;32m    354\u001b[0m     \u001b[0;32mdef\u001b[0m \u001b[0m__call__\u001b[0m\u001b[0;34m(\u001b[0m\u001b[0mself\u001b[0m\u001b[0;34m,\u001b[0m \u001b[0;34m*\u001b[0m\u001b[0margs\u001b[0m\u001b[0;34m,\u001b[0m \u001b[0;34m**\u001b[0m\u001b[0mkwargs\u001b[0m\u001b[0;34m)\u001b[0m\u001b[0;34m:\u001b[0m\u001b[0;34m\u001b[0m\u001b[0;34m\u001b[0m\u001b[0m\n\u001b[0;32m--> 355\u001b[0;31m         \u001b[0;32mreturn\u001b[0m \u001b[0mself\u001b[0m\u001b[0;34m.\u001b[0m\u001b[0mfunc\u001b[0m\u001b[0;34m(\u001b[0m\u001b[0;34m*\u001b[0m\u001b[0margs\u001b[0m\u001b[0;34m,\u001b[0m \u001b[0;34m**\u001b[0m\u001b[0mkwargs\u001b[0m\u001b[0;34m)\u001b[0m\u001b[0;34m\u001b[0m\u001b[0;34m\u001b[0m\u001b[0m\n\u001b[0m\u001b[1;32m    356\u001b[0m \u001b[0;34m\u001b[0m\u001b[0m\n\u001b[1;32m    357\u001b[0m     \u001b[0;32mdef\u001b[0m \u001b[0mcall_and_shelve\u001b[0m\u001b[0;34m(\u001b[0m\u001b[0mself\u001b[0m\u001b[0;34m,\u001b[0m \u001b[0;34m*\u001b[0m\u001b[0margs\u001b[0m\u001b[0;34m,\u001b[0m \u001b[0;34m**\u001b[0m\u001b[0mkwargs\u001b[0m\u001b[0;34m)\u001b[0m\u001b[0;34m:\u001b[0m\u001b[0;34m\u001b[0m\u001b[0;34m\u001b[0m\u001b[0m\n",
      "\u001b[0;32m~/anaconda3/envs/entornoPrueba/lib/python3.7/site-packages/sklearn/pipeline.py\u001b[0m in \u001b[0;36m_fit_transform_one\u001b[0;34m(transformer, X, y, weight, message_clsname, message, **fit_params)\u001b[0m\n\u001b[1;32m    726\u001b[0m     \u001b[0;32mwith\u001b[0m \u001b[0m_print_elapsed_time\u001b[0m\u001b[0;34m(\u001b[0m\u001b[0mmessage_clsname\u001b[0m\u001b[0;34m,\u001b[0m \u001b[0mmessage\u001b[0m\u001b[0;34m)\u001b[0m\u001b[0;34m:\u001b[0m\u001b[0;34m\u001b[0m\u001b[0;34m\u001b[0m\u001b[0m\n\u001b[1;32m    727\u001b[0m         \u001b[0;32mif\u001b[0m \u001b[0mhasattr\u001b[0m\u001b[0;34m(\u001b[0m\u001b[0mtransformer\u001b[0m\u001b[0;34m,\u001b[0m \u001b[0;34m'fit_transform'\u001b[0m\u001b[0;34m)\u001b[0m\u001b[0;34m:\u001b[0m\u001b[0;34m\u001b[0m\u001b[0;34m\u001b[0m\u001b[0m\n\u001b[0;32m--> 728\u001b[0;31m             \u001b[0mres\u001b[0m \u001b[0;34m=\u001b[0m \u001b[0mtransformer\u001b[0m\u001b[0;34m.\u001b[0m\u001b[0mfit_transform\u001b[0m\u001b[0;34m(\u001b[0m\u001b[0mX\u001b[0m\u001b[0;34m,\u001b[0m \u001b[0my\u001b[0m\u001b[0;34m,\u001b[0m \u001b[0;34m**\u001b[0m\u001b[0mfit_params\u001b[0m\u001b[0;34m)\u001b[0m\u001b[0;34m\u001b[0m\u001b[0;34m\u001b[0m\u001b[0m\n\u001b[0m\u001b[1;32m    729\u001b[0m         \u001b[0;32melse\u001b[0m\u001b[0;34m:\u001b[0m\u001b[0;34m\u001b[0m\u001b[0;34m\u001b[0m\u001b[0m\n\u001b[1;32m    730\u001b[0m             \u001b[0mres\u001b[0m \u001b[0;34m=\u001b[0m \u001b[0mtransformer\u001b[0m\u001b[0;34m.\u001b[0m\u001b[0mfit\u001b[0m\u001b[0;34m(\u001b[0m\u001b[0mX\u001b[0m\u001b[0;34m,\u001b[0m \u001b[0my\u001b[0m\u001b[0;34m,\u001b[0m \u001b[0;34m**\u001b[0m\u001b[0mfit_params\u001b[0m\u001b[0;34m)\u001b[0m\u001b[0;34m.\u001b[0m\u001b[0mtransform\u001b[0m\u001b[0;34m(\u001b[0m\u001b[0mX\u001b[0m\u001b[0;34m)\u001b[0m\u001b[0;34m\u001b[0m\u001b[0;34m\u001b[0m\u001b[0m\n",
      "\u001b[0;32m~/anaconda3/envs/entornoPrueba/lib/python3.7/site-packages/sklearn/base.py\u001b[0m in \u001b[0;36mfit_transform\u001b[0;34m(self, X, y, **fit_params)\u001b[0m\n\u001b[1;32m    572\u001b[0m         \u001b[0;32melse\u001b[0m\u001b[0;34m:\u001b[0m\u001b[0;34m\u001b[0m\u001b[0;34m\u001b[0m\u001b[0m\n\u001b[1;32m    573\u001b[0m             \u001b[0;31m# fit method of arity 2 (supervised transformation)\u001b[0m\u001b[0;34m\u001b[0m\u001b[0;34m\u001b[0m\u001b[0;34m\u001b[0m\u001b[0m\n\u001b[0;32m--> 574\u001b[0;31m             \u001b[0;32mreturn\u001b[0m \u001b[0mself\u001b[0m\u001b[0;34m.\u001b[0m\u001b[0mfit\u001b[0m\u001b[0;34m(\u001b[0m\u001b[0mX\u001b[0m\u001b[0;34m,\u001b[0m \u001b[0my\u001b[0m\u001b[0;34m,\u001b[0m \u001b[0;34m**\u001b[0m\u001b[0mfit_params\u001b[0m\u001b[0;34m)\u001b[0m\u001b[0;34m.\u001b[0m\u001b[0mtransform\u001b[0m\u001b[0;34m(\u001b[0m\u001b[0mX\u001b[0m\u001b[0;34m)\u001b[0m\u001b[0;34m\u001b[0m\u001b[0;34m\u001b[0m\u001b[0m\n\u001b[0m\u001b[1;32m    575\u001b[0m \u001b[0;34m\u001b[0m\u001b[0m\n\u001b[1;32m    576\u001b[0m \u001b[0;34m\u001b[0m\u001b[0m\n",
      "\u001b[0;32m~/anaconda3/envs/entornoPrueba/lib/python3.7/site-packages/sklearn/preprocessing/_data.py\u001b[0m in \u001b[0;36mfit\u001b[0;34m(self, X, y)\u001b[0m\n\u001b[1;32m   1511\u001b[0m                                           self.include_bias)\n\u001b[1;32m   1512\u001b[0m         \u001b[0mself\u001b[0m\u001b[0;34m.\u001b[0m\u001b[0mn_input_features_\u001b[0m \u001b[0;34m=\u001b[0m \u001b[0mn_features\u001b[0m\u001b[0;34m\u001b[0m\u001b[0;34m\u001b[0m\u001b[0m\n\u001b[0;32m-> 1513\u001b[0;31m         \u001b[0mself\u001b[0m\u001b[0;34m.\u001b[0m\u001b[0mn_output_features_\u001b[0m \u001b[0;34m=\u001b[0m \u001b[0msum\u001b[0m\u001b[0;34m(\u001b[0m\u001b[0;36m1\u001b[0m \u001b[0;32mfor\u001b[0m \u001b[0m_\u001b[0m \u001b[0;32min\u001b[0m \u001b[0mcombinations\u001b[0m\u001b[0;34m)\u001b[0m\u001b[0;34m\u001b[0m\u001b[0;34m\u001b[0m\u001b[0m\n\u001b[0m\u001b[1;32m   1514\u001b[0m         \u001b[0;32mreturn\u001b[0m \u001b[0mself\u001b[0m\u001b[0;34m\u001b[0m\u001b[0;34m\u001b[0m\u001b[0m\n\u001b[1;32m   1515\u001b[0m \u001b[0;34m\u001b[0m\u001b[0m\n",
      "\u001b[0;32m~/anaconda3/envs/entornoPrueba/lib/python3.7/site-packages/sklearn/preprocessing/_data.py\u001b[0m in \u001b[0;36m<genexpr>\u001b[0;34m(.0)\u001b[0m\n\u001b[1;32m   1511\u001b[0m                                           self.include_bias)\n\u001b[1;32m   1512\u001b[0m         \u001b[0mself\u001b[0m\u001b[0;34m.\u001b[0m\u001b[0mn_input_features_\u001b[0m \u001b[0;34m=\u001b[0m \u001b[0mn_features\u001b[0m\u001b[0;34m\u001b[0m\u001b[0;34m\u001b[0m\u001b[0m\n\u001b[0;32m-> 1513\u001b[0;31m         \u001b[0mself\u001b[0m\u001b[0;34m.\u001b[0m\u001b[0mn_output_features_\u001b[0m \u001b[0;34m=\u001b[0m \u001b[0msum\u001b[0m\u001b[0;34m(\u001b[0m\u001b[0;36m1\u001b[0m \u001b[0;32mfor\u001b[0m \u001b[0m_\u001b[0m \u001b[0;32min\u001b[0m \u001b[0mcombinations\u001b[0m\u001b[0;34m)\u001b[0m\u001b[0;34m\u001b[0m\u001b[0;34m\u001b[0m\u001b[0m\n\u001b[0m\u001b[1;32m   1514\u001b[0m         \u001b[0;32mreturn\u001b[0m \u001b[0mself\u001b[0m\u001b[0;34m\u001b[0m\u001b[0;34m\u001b[0m\u001b[0m\n\u001b[1;32m   1515\u001b[0m \u001b[0;34m\u001b[0m\u001b[0m\n",
      "\u001b[0;31mKeyboardInterrupt\u001b[0m: "
     ]
    }
   ],
   "source": [
    "# from sklearn.preprocessing import PolynomialFeatures\n",
    "# from sklearn.pipeline import Pipeline\n",
    "# from sklearn.linear_model import LinearRegression\n",
    "\n",
    "# model = Pipeline([('poly', PolynomialFeatures(degree=5)),\n",
    "#                   ('linear', LinearRegression(fit_intercept=False))])\n",
    "# model = model.fit(atributos_train,avistamientos_train)\n",
    "\n",
    "# model.named_steps['linear'].coef_\n",
    "\n",
    "# avistamientos_pred_pol = model.predict(atributos_test)\n"
   ]
  },
  {
   "cell_type": "code",
   "execution_count": null,
   "metadata": {},
   "outputs": [],
   "source": [
    "# print(model.score(atributos_test,avistamientos_test))\n",
    "# plt.plot(avistamientos_test,'r')\n",
    "# plt.plot(avistamientos_pred_pol,'g')\n",
    "# plt.show()"
   ]
  },
  {
   "cell_type": "markdown",
   "metadata": {},
   "source": [
    "### Random Forest"
   ]
  },
  {
   "cell_type": "code",
   "execution_count": 10,
   "metadata": {},
   "outputs": [
    {
     "data": {
      "text/plain": [
       "0.21058732570110938"
      ]
     },
     "execution_count": 10,
     "metadata": {},
     "output_type": "execute_result"
    }
   ],
   "source": [
    "# from sklearn.ensemble import RandomForestRegressor\n",
    "# rf = RandomForestRegressor(n_estimators=100)\n",
    "# rf.fit(atributos_train,avistamientos_train)\n",
    "\n",
    "# avistamientos_prediccion_rf = rf.predict(atributos_test)\n",
    "# rf.score(atributos_test,avistamientos_test)"
   ]
  },
  {
   "cell_type": "code",
   "execution_count": 11,
   "metadata": {},
   "outputs": [
    {
     "data": {
      "text/plain": [
       "0.17793253494897532"
      ]
     },
     "execution_count": 11,
     "metadata": {},
     "output_type": "execute_result"
    }
   ],
   "source": [
    "# rf = RandomForestRegressor(n_estimators=1000,max_features=3,max_depth=100)\n",
    "# rf.fit(atributos_train,avistamientos_train)\n",
    "\n",
    "# avistamientos_prediccion_rf = rf.predict(atributos_test)\n",
    "# rf.score(atributos_test,avistamientos_test)\n"
   ]
  },
  {
   "cell_type": "code",
   "execution_count": 28,
   "metadata": {},
   "outputs": [],
   "source": [
    "## RandomizedSearchCV\n",
    "inicio = time.time()\n",
    "from sklearn.datasets import fetch_california_housing\n",
    "from sklearn.ensemble import RandomForestRegressor\n",
    "from sklearn.model_selection import RandomizedSearchCV\n",
    "from sklearn.model_selection import train_test_split\n",
    "from scipy.stats import randint\n",
    "def forest(atributos_train, avistamientos_trainatributos_test,avistamientos_test,n):\n",
    "    # define the parameter space that will be searched over\n",
    "    param_distributions = {'n_estimators': randint(1, 500),\n",
    "                           'max_depth': randint(1, 100),\n",
    "                          'max_features': randint(1,atributos_train.shape[1])}\n",
    "\n",
    "    busqueda = RandomizedSearchCV(estimator=RandomForestRegressor(random_state=0),\n",
    "                                n_iter=n,\n",
    "                                param_distributions=param_distributions,\n",
    "                                random_state=0)\n",
    "    busqueda.fit(atributos_train, avistamientos_train)\n",
    "\n",
    "\n",
    "\n",
    "\n",
    "    print(busqueda.best_params_)\n",
    "\n",
    "\n",
    "\n",
    "    # the search object now acts like a normal random forest estimator\n",
    "    # with max_depth=9 and n_estimators=4\n",
    "    busqueda.score(atributos_test, avistamientos_test)\n",
    "    fin= time.time()\n",
    "    print('tiempo requerido {} minutos'.format((fin-inicio)/60))\n",
    "    busqueda.best_score_\n",
    "    return [busqueda.score(atributos_test, avistamientos_test),busqueda.best_params_]\n"
   ]
  },
  {
   "cell_type": "code",
   "execution_count": 14,
   "metadata": {},
   "outputs": [
    {
     "data": {
      "text/plain": [
       "0.1684101676121953"
      ]
     },
     "execution_count": 14,
     "metadata": {},
     "output_type": "execute_result"
    }
   ],
   "source": [
    "# rf = RandomForestRegressor(n_estimators=183,max_features=1,max_depth=81)\n",
    "# rf.fit(atributos_train,avistamientos_train)\n",
    "\n",
    "# avistamientos_prediccion_rf = rf.predict(atributos_test)\n",
    "# rf.score(atributos_test,avistamientos_test)"
   ]
  },
  {
   "cell_type": "code",
   "execution_count": 30,
   "metadata": {},
   "outputs": [],
   "source": [
    "# rf = RandomForestRegressor(n_estimators=183,max_features=1,max_depth=81)\n",
    "# rf.fit(atributos_train,avistamientos_train)\n",
    "\n",
    "# avistamientos_prediccion_rf = rf.predict(atributos_test)\n",
    "# print(rf.score(atributos_test,avistamientos_test)\n",
    "# )\n",
    "# plt.plot(avistamientos_test,'r')\n",
    "# plt.plot(avistamientos_prediccion_rf,'g')\n",
    "# plt.show()"
   ]
  },
  {
   "cell_type": "markdown",
   "metadata": {},
   "source": [
    "### Vecino más cercano"
   ]
  },
  {
   "cell_type": "code",
   "execution_count": 31,
   "metadata": {
    "scrolled": true
   },
   "outputs": [],
   "source": [
    "\n",
    "# neigh = KNeighborsRegressor(n_neighbors=10)\n",
    "# neigh.fit(atributos_train,avistamientos_train)\n",
    "\n",
    "# avistamientos_prediccion_vecinos = neigh.predict(atributos_test)\n",
    "# print(neigh.score(atributos_test,avistamientos_test))\n",
    "\n",
    "# plt.plot(avistamientos_test,'r')\n",
    "# plt.plot(avistamientos_prediccion_vecinos,'g')\n",
    "# plt.show()\n",
    "# [print('{} - {}'.format(avistamientos_test[i],avistamientos_prediccion_vecinos[i])) for i in range(len(avistamientos_test))]"
   ]
  },
  {
   "cell_type": "code",
   "execution_count": 33,
   "metadata": {},
   "outputs": [],
   "source": [
    "\n",
    "def vecino(atributos_train, avistamientos_trainatributos_test,avistamientos_test,n):\n",
    "    k_range=list(range(1,atributos_train.shape[1]))\n",
    "    # options=['uniform', 'distance']\n",
    "\n",
    "    #specify \"parameter distribution\" rather than \"parameter grid\"\n",
    "    param_grid=dict(n_neighbors=k_range)\n",
    "\n",
    "    knn=KNeighborsRegressor()\n",
    "    # rand = RandomizedSearchCV(knn, param_grid, cv=10, scoring='accuracy', n_iter=10, random_state=5)\n",
    "    rand = RandomizedSearchCV(knn, param_grid, n_iter=n, random_state=1)\n",
    "    rand.fit(atributos_train,avistamientos_train)\n",
    "    return[rand.score(atributos_test, avistamientos_test),rand.best_params_]"
   ]
  },
  {
   "cell_type": "markdown",
   "metadata": {},
   "source": [
    "### SVM"
   ]
  },
  {
   "cell_type": "code",
   "execution_count": 56,
   "metadata": {},
   "outputs": [
    {
     "name": "stdout",
     "output_type": "stream",
     "text": [
      "-0.07139607682780325\n"
     ]
    },
    {
     "data": {
      "image/png": "[encoded data removed]",
      "text/plain": [
       "<Figure size 432x288 with 1 Axes>"
      ]
     },
     "metadata": {
      "needs_background": "light"
     },
     "output_type": "display_data"
    }
   ],
   "source": [
    "from sklearn import svm\n",
    "def svm(atributos_train, avistamientos_trainatributos_test,avistamientos_test,n):\n",
    "    svm_reg = svm.SVR()\n",
    "    svm_reg.fit(atributos_train,avistamientos_train)\n",
    "\n",
    "    avistamientos_prediccion_svm = svm_reg.predict(atributos_test)\n",
    "    print(svm_reg.score(atributos_test,avistamientos_test))\n",
    "\n",
    "#     plt.plot(avistamientos_test,'r')\n",
    "#     plt.plot(avistamientos_prediccion_svm,'g')\n",
    "#     plt.show()"
   ]
  },
  {
   "cell_type": "markdown",
   "metadata": {},
   "source": [
    "### arboles de decision"
   ]
  },
  {
   "cell_type": "code",
   "execution_count": 57,
   "metadata": {},
   "outputs": [
    {
     "name": "stdout",
     "output_type": "stream",
     "text": [
      "-0.7325404683300718\n"
     ]
    },
    {
     "data": {
      "image/png": "[encoded data removed]",
      "text/plain": [
       "<Figure size 432x288 with 1 Axes>"
      ]
     },
     "metadata": {
      "needs_background": "light"
     },
     "output_type": "display_data"
    }
   ],
   "source": [
    "from sklearn.tree import DecisionTreeRegressor\n",
    "dectree = DecisionTreeRegressor(max_depth= 50 )\n",
    "\n",
    "dectree.fit(atributos_train,avistamientos_train)\n",
    "\n",
    "avistamientos_prediccion_dectree = dectree.predict(atributos_test)\n",
    "print(dectree.score(atributos_test,avistamientos_test))\n",
    "\n",
    "plt.plot(avistamientos_test,'r')\n",
    "plt.plot(avistamientos_prediccion_dectree,'g')\n",
    "plt.show()"
   ]
  },
  {
   "cell_type": "code",
   "execution_count": 27,
   "metadata": {},
   "outputs": [
    {
     "name": "stdout",
     "output_type": "stream",
     "text": [
      "random_forest 1 2 3 hola\n",
      "nearest_neighbor 1 2 4 adios\n",
      "SVR 2 2 4 salu2\n"
     ]
    },
    {
     "data": {
      "text/html": [
       "<div>\n",
       "<style scoped>\n",
       "    .dataframe tbody tr th:only-of-type {\n",
       "        vertical-align: middle;\n",
       "    }\n",
       "\n",
       "    .dataframe tbody tr th {\n",
       "        vertical-align: top;\n",
       "    }\n",
       "\n",
       "    .dataframe thead th {\n",
       "        text-align: right;\n",
       "    }\n",
       "</style>\n",
       "<table border=\"1\" class=\"dataframe\">\n",
       "  <thead>\n",
       "    <tr style=\"text-align: right;\">\n",
       "      <th></th>\n",
       "    </tr>\n",
       "  </thead>\n",
       "  <tbody>\n",
       "    <tr>\n",
       "      <th>random_forest</th>\n",
       "    </tr>\n",
       "    <tr>\n",
       "      <th>nearest_neighbor</th>\n",
       "    </tr>\n",
       "    <tr>\n",
       "      <th>nearest_neighbor_grid</th>\n",
       "    </tr>\n",
       "    <tr>\n",
       "      <th>SVR</th>\n",
       "    </tr>\n",
       "    <tr>\n",
       "      <th>SVR_grid</th>\n",
       "    </tr>\n",
       "    <tr>\n",
       "      <th>arbol_decision</th>\n",
       "    </tr>\n",
       "    <tr>\n",
       "      <th>arbol_decision_grid</th>\n",
       "    </tr>\n",
       "    <tr>\n",
       "      <th>MLP</th>\n",
       "    </tr>\n",
       "    <tr>\n",
       "      <th>Boosting</th>\n",
       "    </tr>\n",
       "    <tr>\n",
       "      <th>ensembles</th>\n",
       "    </tr>\n",
       "  </tbody>\n",
       "</table>\n",
       "</div>"
      ],
      "text/plain": [
       "Empty DataFrame\n",
       "Columns: []\n",
       "Index: [random_forest, nearest_neighbor, nearest_neighbor_grid, SVR, SVR_grid, arbol_decision, arbol_decision_grid, MLP, Boosting, ensembles]"
      ]
     },
     "execution_count": 27,
     "metadata": {},
     "output_type": "execute_result"
    }
   ],
   "source": [
    "# df para guardar resultados\n",
    "algoritmos  = ['random_forest','nearest_neighbor','nearest_neighbor_grid',\n",
    "               'SVR','SVR_grid','arbol_decision', 'arbol_decision_grid',\n",
    "               'MLP','Boosting','ensembles']\n",
    "df = pd.DataFrame(index=algoritmos)\n",
    "df.to_pickle('resultados_normales.pkl')\n",
    "\n",
    "def reinicia_df():\n",
    "    df = pd.DataFrame(index=algoritmos)\n",
    "    df.to_pickle('resultados_normales.pkl')\n",
    "\n",
    "def guarda_resultado(alg,dias,celdas,split,resultado,params):\n",
    "    df = pd.read_pickle('resultados_normales.pkl')\n",
    "    print(alg,dias,celdas,resultado,params)\n",
    "    nombre_col = '{}_dias_{}_celdas_{}_splits'.format(dias,celdas,split)\n",
    "    if not nombre_col in df.columns:\n",
    "        df[nombre_col] = np.nan\n",
    "        df[nombre_col + '_params'] = np.nan\n",
    "    df.loc[alg,nombre_col] = resultado\n",
    "    df.loc[alg,nombre_col + '_params'] = params\n",
    "    df.to_pickle('resultados_normales.pkl')\n",
    "    \n",
    "guarda_resultado('random_forest',1,2,0,3,'hola')\n",
    "guarda_resultado('nearest_neighbor',1,2,0,4,'adios')\n",
    "guarda_resultado('SVR',2,2,0,4,'salu2')\n",
    "df "
   ]
  },
  {
   "cell_type": "code",
   "execution_count": null,
   "metadata": {},
   "outputs": [],
   "source": [
    "import os\n",
    "from sklearn.model_selection import TimeSeriesSplit\n",
    "import datetime\n",
    "\n",
    "splits = [2,5,10]\n",
    "\n",
    "res = ''\n",
    "reinicia_df()\n",
    "avistamientos = pd.read_pickle('../pkls/dfAvistamientos.pkl')\n",
    "resultado = np.ravel(df_avistamientos)\n",
    "\n",
    "listado_archivos = os.listdir('../pkls/')\n",
    "df = pd.DataFrame(index=algoritmos)\n",
    "for i in listado_archivos:\n",
    "        if 'dfAtributosNormalizado' in i :\n",
    "            atributos = pd.read_pickle('../pkls/{}'.format(i))\n",
    "            n_iter = 1\n",
    "            print('\\n\\n' + i + '\\n', flush=True)\n",
    "\n",
    "            # concateno y guardo en log\n",
    "            res += str(datetime.datetime.now()) + ' --------- ' +  str(i) + '\\n'\n",
    "\n",
    "            model_result = forest(atributos,resultado,n_iter,tscv)\n",
    "            guarda_resultado('random_forest',dias,celdas,split,model_result[2],str(model_result[1]))\n",
    "            res += '--> Random Forest ' + str(model_result) + '\\n'\n",
    "\n",
    "            model_result = vecino(atributos,resultado,n_iter,tscv)\n",
    "            guarda_resultado('nearest_neighbor',dias,celdas,split,model_result[2],str(model_result[1]))\n",
    "            res += '--> Vecino mas cercano ' + str(model_result) + '\\n'\n",
    "\n",
    "            model_result = vecino_grid(atributos,resultado,n_iter,tscv)\n",
    "            guarda_resultado('nearest_neighbor_grid',dias,celdas,split,model_result[2],str(model_result[1]))\n",
    "            res += '--> Vecino mas cercano gridSearch ' + str(model_result) + '\\n'\n",
    "\n",
    "            model_result = SVR(atributos,resultado,n_iter,tscv)\n",
    "            guarda_resultado('SVR',dias,celdas,split,model_result[2],str(model_result[1]))\n",
    "            res += '--> SVR ' + str(model_result) + '\\n'\n",
    "\n",
    "            model_result = SVR_grid(atributos,resultado,n_iter,tscv)\n",
    "            guarda_resultado('SVR_grid',dias,celdas,split,model_result[2],str(model_result[1]))\n",
    "            res += '--> SVR_grid ' + str(model_result) + '\\n'\n",
    "\n",
    "            model_result = arbol_decision(atributos,resultado,n_iter,tscv)\n",
    "            guarda_resultado('arbol_decision',dias,celdas,split,model_result[2],str(model_result[1]))\n",
    "            res += '--> arbol_decision ' + str(model_result) + '\\n'\n",
    "\n",
    "            model_result = arbol_decision_grid(atributos,resultado,n_iter,tscv)\n",
    "            guarda_resultado('arbol_decision_grid',dias,celdas,split,model_result[2],str(model_result[1]))\n",
    "            res += '--> arbol_decision_grid ' + str(model_result) + '\\n'\n",
    "            \n",
    "            model_result = boosting(atributos,resultado,n_iter,tscv)\n",
    "            guarda_resultado('Boosting',dias,celdas,split,model_result[2],str(model_result[1]))\n",
    "            res += '--> Boosting ' + str(model_result) + '\\n'\n",
    "\n",
    "        f = open ('log.txt','wb')\n",
    "\n",
    "        f.write(bytes(res, encoding='utf-8'))\n",
    "        f.close()"
   ]
  },
  {
   "cell_type": "code",
   "execution_count": 23,
   "metadata": {},
   "outputs": [],
   "source": [
    "# import matplotlib.pyplot as plt\n",
    "# import numpy as np\n",
    "# from sklearn import datasets, ensemble\n",
    "# from sklearn.inspection import permutation_importance\n",
    "# from sklearn.metrics import mean_squared_error\n",
    "# from sklearn.model_selection import train_test_split\n",
    "\n",
    "# X_train, X_test, y_train, y_test = atributos_train, atributos_test, avistamientos_train, avistamientos_test\n",
    "\n",
    "# params = {'n_estimators': 500,\n",
    "#           'max_depth': 4,\n",
    "#           'min_samples_split': 5,\n",
    "#           'learning_rate': 0.01,\n",
    "#           'loss': 'ls'}\n",
    "\n",
    "# reg = ensemble.GradientBoostingRegressor(**params)\n",
    "# reg.fit(X_train, y_train)\n",
    "\n",
    "# mse = mean_squared_error(y_test, reg.predict(X_test))\n",
    "# print(\"The mean squared error (MSE) on test set: {:.4f}\".format(mse))\n",
    "\n",
    "# feature_importance = reg.feature_importances_\n",
    "# sorted_idx = np.argsort(feature_importance)\n",
    "# pos = np.arange(sorted_idx.shape[0]) + .5\n",
    "# fig = plt.figure(figsize=(50, 20))\n",
    "# plt.subplot(1, 2, 1)\n",
    "# plt.barh(pos, feature_importance[sorted_idx], align='center')\n",
    "# plt.yticks(pos, np.array(df_atributos.columns)[sorted_idx])\n",
    "# plt.title('Feature Importance (MDI)')\n",
    "\n",
    "# result = permutation_importance(reg, X_test, y_test, n_repeats=10,\n",
    "#                                 random_state=42, n_jobs=2)\n",
    "# sorted_idx = result.importances_mean.argsort()\n",
    "# plt.subplot(1, 2, 2)\n",
    "# plt.boxplot(result.importances[sorted_idx].T,\n",
    "#             vert=False, labels=np.array(df_atributos.columns)[sorted_idx])\n",
    "# plt.title(\"Permutation Importance (test set)\")\n",
    "# fig.tight_layout()\n",
    "# plt.show()"
   ]
  },
  {
   "cell_type": "code",
   "execution_count": 25,
   "metadata": {},
   "outputs": [],
   "source": [
    "# df_atributos.columns\n",
    "# result.importances\n",
    "# labels=np.array(df_atributos.columns)[sorted_idx]\n",
    "# labels"
   ]
  }
 ],
 "metadata": {
  "kernelspec": {
   "display_name": "Python 3",
   "language": "python",
   "name": "python3"
  },
  "language_info": {
   "codemirror_mode": {
    "name": "ipython",
    "version": 3
   },
   "file_extension": ".py",
   "mimetype": "text/x-python",
   "name": "python",
   "nbconvert_exporter": "python",
   "pygments_lexer": "ipython3",
   "version": "3.7.6"
  }
 },
 "nbformat": 4,
 "nbformat_minor": 4
}
