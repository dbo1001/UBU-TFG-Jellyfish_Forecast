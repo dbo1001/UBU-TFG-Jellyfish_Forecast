{
 "cells": [
  {
   "cell_type": "code",
   "execution_count": 1,
   "metadata": {},
   "outputs": [],
   "source": [
    "import pandas as pd\n",
    "import numpy as np\n",
    "import random\n",
    "from sklearn.model_selection import GridSearchCV\n",
    "from time import time\n"
   ]
  },
  {
   "cell_type": "markdown",
   "metadata": {},
   "source": [
    "# Pruebas"
   ]
  },
  {
   "cell_type": "code",
   "execution_count": 2,
   "metadata": {},
   "outputs": [],
   "source": [
    "# # pruebas\n",
    "\n",
    "# from sklearn import datasets\n",
    "# from sklearn import svm\n",
    "\n",
    "# X, y = datasets.load_iris(return_X_y=True)\n",
    "# X.shape, y.shape\n",
    "\n",
    "# from sklearn.model_selection import cross_val_score\n",
    "# clf = svm.SVC(kernel='linear', C=1)\n",
    "# scores = cross_val_score(clf, X, y, cv=5)\n",
    "# scores"
   ]
  },
  {
   "cell_type": "code",
   "execution_count": 3,
   "metadata": {},
   "outputs": [],
   "source": [
    "# # con datos de medusas\n",
    "\n",
    "# X = pd.read_pickle('../pkls/dfAtributosNormalizado_0_dias_2_celdas.pkl')\n",
    "# Y = pd.read_pickle('../pkls/dfAvistamientos.pkl')\n",
    "# Y = np.ravel(Y)\n",
    "\n",
    "# clf = svm.SVR(kernel='linear', C=1)\n",
    "# scores = cross_val_score(clf, X, Y, cv=5)\n",
    "# scores"
   ]
  },
  {
   "cell_type": "code",
   "execution_count": 4,
   "metadata": {},
   "outputs": [],
   "source": [
    "# from sklearn.model_selection import KFold\n",
    "\n",
    "# kf = KFold(n_splits=2)\n",
    "# kf.get_n_splits(X)\n",
    "\n",
    "# print(kf)\n",
    "\n",
    "# for train_index, test_index in kf.split(X):\n",
    "# #     print(\"TRAIN:\", train_index, \"TEST:\", test_index)\n",
    "#     X_train, X_test = X.loc[train_index], X.loc[test_index]\n",
    "#     y_train, y_test = Y[train_index], Y[test_index]"
   ]
  },
  {
   "cell_type": "markdown",
   "metadata": {},
   "source": [
    "# Algoritmos"
   ]
  },
  {
   "cell_type": "code",
   "execution_count": 5,
   "metadata": {},
   "outputs": [
    {
     "data": {
      "text/plain": [
       "((668, 231), (668,))"
      ]
     },
     "execution_count": 5,
     "metadata": {},
     "output_type": "execute_result"
    }
   ],
   "source": [
    "# Carga datos\n",
    "\n",
    "X = pd.read_pickle('../pkls/dfAtributosNormalizado_0_dias_2_celdas.pkl')\n",
    "Y = pd.read_pickle('../pkls/dfAvistamientos.pkl')\n",
    "Y = np.ravel(Y)\n",
    "X.shape,Y.shape"
   ]
  },
  {
   "cell_type": "code",
   "execution_count": 6,
   "metadata": {},
   "outputs": [
    {
     "data": {
      "text/plain": [
       "3"
      ]
     },
     "execution_count": 6,
     "metadata": {},
     "output_type": "execute_result"
    }
   ],
   "source": [
    "# Validacion cruzada\n",
    "\n",
    "from sklearn.model_selection import KFold\n",
    "\n",
    "kf = KFold(n_splits=3)\n",
    "kf.get_n_splits()"
   ]
  },
  {
   "cell_type": "markdown",
   "metadata": {},
   "source": [
    "## Random forest"
   ]
  },
  {
   "cell_type": "code",
   "execution_count": 7,
   "metadata": {},
   "outputs": [],
   "source": [
    "from sklearn.ensemble import RandomForestRegressor"
   ]
  },
  {
   "cell_type": "code",
   "execution_count": 8,
   "metadata": {},
   "outputs": [],
   "source": [
    "def forest(atributos,resultado,k_n):\n",
    "    params = {'n_estimators': [100,500,1000],\n",
    "            'max_depth': [None,10,50,100],\n",
    "            'max_features': ['auto','sqrt', 'log2']}\n",
    "    inicio = time()\n",
    "    model_random = GridSearchCV(estimator=RandomForestRegressor(), \n",
    "                           cv=k_n,\n",
    "                           param_grid =params,\n",
    "                           n_jobs = -1)\n",
    "\n",
    "    model_random.fit(atributos, resultado)\n",
    "    \n",
    "    fin = time()\n",
    "    tiempo = (fin - inicio)/60\n",
    "    print('-Tiempo empleado para Random Forest: {} minutos'.format(tiempo), flush=True)\n",
    "    print('Best_params: {}\\nBest_score: {}'.format(model_random.best_params_,model_random.best_score_), flush=True)\n",
    "    \n",
    "    return tiempo,model_random"
   ]
  },
  {
   "cell_type": "code",
   "execution_count": 9,
   "metadata": {},
   "outputs": [],
   "source": [
    "# tiempo , modelo = forest(X,Y,3)"
   ]
  },
  {
   "cell_type": "markdown",
   "metadata": {},
   "source": [
    "# Nearest Neighbor"
   ]
  },
  {
   "cell_type": "code",
   "execution_count": 10,
   "metadata": {},
   "outputs": [],
   "source": [
    "from sklearn.neighbors import KNeighborsRegressor"
   ]
  },
  {
   "cell_type": "code",
   "execution_count": 36,
   "metadata": {},
   "outputs": [],
   "source": [
    "def vecino(atributos,resultado,k_n):\n",
    "\n",
    "    # params = {'n_neighbors' : list(range(1,atributos.shape[1]))}\n",
    "    \n",
    "    maxx = int(((atributos.shape[1]-1)/k_n.get_n_splits())*(k_n.get_n_splits()-1))\n",
    "    params = {'n_neighbors' : random.sample(range(3, maxx), 10) ,\n",
    "             'weights':['uniform', 'distance']}\n",
    "\n",
    "    inicio = time()\n",
    "    model_vecinos = GridSearchCV(estimator=KNeighborsRegressor(), \n",
    "                               cv=k_n,\n",
    "                               param_grid=params,\n",
    "                                n_jobs = -1)\n",
    "\n",
    "\n",
    "    model_vecinos.fit(atributos, resultado)\n",
    "    \n",
    "    fin = time()\n",
    "    tiempo = (fin - inicio)/60\n",
    "    print('-Tiempo empleado para nearest neighbor: {} minutos'.format(tiempo), flush=True)\n",
    "    print('Best_params: {}\\nBest_score: {}'.format(model_vecinos.best_params_,model_vecinos.best_score_), flush=True)\n",
    "    \n",
    "    return tiempo,model_vecinos"
   ]
  },
  {
   "cell_type": "code",
   "execution_count": 12,
   "metadata": {},
   "outputs": [],
   "source": [
    "# tiempo , modelo = vecino(X,Y,3)"
   ]
  },
  {
   "cell_type": "markdown",
   "metadata": {},
   "source": [
    "# SVM"
   ]
  },
  {
   "cell_type": "code",
   "execution_count": 13,
   "metadata": {},
   "outputs": [],
   "source": [
    "from sklearn import svm"
   ]
  },
  {
   "cell_type": "code",
   "execution_count": 14,
   "metadata": {},
   "outputs": [],
   "source": [
    "def SVR(atributos,resultado,k_n):\n",
    "\n",
    "    params = {'kernel':('linear', 'rbf', 'poly', 'sigmoid'),\n",
    "              'C' : [0.5,1.0,10,100],\n",
    "              'gamma':['scale', 'auto'],\n",
    "              'epsilon':[0.2]}\n",
    "\n",
    "    inicio = time()\n",
    "\n",
    "    model_SVR= GridSearchCV(estimator=svm.SVR(), \n",
    "                           cv=k_n,\n",
    "                           param_grid=params,\n",
    "                                n_jobs = -1)\n",
    "\n",
    "    model_SVR.fit(atributos, resultado)\n",
    "    \n",
    "    fin = time()\n",
    "    tiempo = (fin - inicio)/60\n",
    "    print('-Tiempo empleado para SVR: {} minutos'.format(tiempo), flush=True)\n",
    "    print('Best_params: {}\\nBest_score: {}'.format(model_SVR.best_params_,model_SVR.best_score_), flush=True)\n",
    "    \n",
    "    return tiempo,model_SVR"
   ]
  },
  {
   "cell_type": "code",
   "execution_count": 15,
   "metadata": {},
   "outputs": [],
   "source": [
    "# tiempo , modelo = SVR(X,Y,3)"
   ]
  },
  {
   "cell_type": "markdown",
   "metadata": {},
   "source": [
    "# Arboles de decision"
   ]
  },
  {
   "cell_type": "code",
   "execution_count": 16,
   "metadata": {},
   "outputs": [],
   "source": [
    "from sklearn.tree import DecisionTreeRegressor"
   ]
  },
  {
   "cell_type": "code",
   "execution_count": 17,
   "metadata": {},
   "outputs": [],
   "source": [
    "def arbol_decision(atributos,resultado,k_n):\n",
    "    \n",
    "    params = {'max_depth': random.sample(range(3, 200), 20),\n",
    "              'max_features' : ['auto', 'sqrt', 'log2',None]}\n",
    "\n",
    "    inicio = time()\n",
    "    \n",
    "    model_tree= GridSearchCV(estimator=DecisionTreeRegressor(), \n",
    "                           cv=k_n,\n",
    "                           param_grid=params,\n",
    "                            n_jobs = -1)\n",
    "\n",
    "\n",
    "    model_tree.fit(atributos, resultado)\n",
    "    \n",
    "    fin = time()\n",
    "    tiempo = (fin - inicio)/60\n",
    "    print('-Tiempo empleado para arboles decision: {} minutos'.format(tiempo), flush=True)\n",
    "    print('Best_params: {}\\nBest_score: {}'.format(model_tree.best_params_,model_tree.best_score_), flush=True)\n",
    "    \n",
    "    return tiempo,model_tree"
   ]
  },
  {
   "cell_type": "code",
   "execution_count": 18,
   "metadata": {},
   "outputs": [],
   "source": [
    "# tiempo , modelo = arbol_decision(X,Y,3)"
   ]
  },
  {
   "cell_type": "markdown",
   "metadata": {},
   "source": [
    "# Boosting"
   ]
  },
  {
   "cell_type": "code",
   "execution_count": 19,
   "metadata": {},
   "outputs": [],
   "source": [
    "from sklearn.ensemble import GradientBoostingRegressor"
   ]
  },
  {
   "cell_type": "code",
   "execution_count": 20,
   "metadata": {},
   "outputs": [],
   "source": [
    "def boosting(atributos,resultado,k_n):\n",
    "    \n",
    "    params = {'n_estimators': random.sample(range(3, 500), 5),\n",
    "              'max_depth': random.sample(range(10, 200), 5)}\n",
    "\n",
    "    inicio = time()\n",
    "    \n",
    "    model_boos= GridSearchCV(estimator=GradientBoostingRegressor(), \n",
    "                           cv=k_n,\n",
    "                           param_grid=params,\n",
    "                           n_jobs = -1)\n",
    "\n",
    "\n",
    "    model_boos.fit(atributos, resultado)\n",
    "    \n",
    "    fin = time()\n",
    "    tiempo = (fin - inicio)/60\n",
    "    print('-Tiempo empleado para boosting: {} minutos'.format(tiempo), flush=True)\n",
    "    print('Best_params: {}\\nBest_score: {}'.format(model_boos.best_params_,model_boos.best_score_), flush=True)\n",
    "    \n",
    "    return tiempo,model_boos"
   ]
  },
  {
   "cell_type": "code",
   "execution_count": 21,
   "metadata": {},
   "outputs": [],
   "source": [
    "# tiempo , modelo = boosting(X,Y,3)"
   ]
  },
  {
   "cell_type": "markdown",
   "metadata": {},
   "source": [
    "# Adasboost"
   ]
  },
  {
   "cell_type": "code",
   "execution_count": 22,
   "metadata": {},
   "outputs": [],
   "source": [
    "from sklearn.ensemble import AdaBoostRegressor"
   ]
  },
  {
   "cell_type": "code",
   "execution_count": 23,
   "metadata": {},
   "outputs": [],
   "source": [
    "def adaboost(atributos,resultado,k_n):\n",
    "    \n",
    "    params = {'n_estimators': random.sample(range(3, 500), 10),\n",
    "              'loss': ['linear', 'square', 'exponential'],\n",
    "             'random_state': [None,1,5,10]}\n",
    "\n",
    "    inicio = time()\n",
    "    \n",
    "    model_boos= GridSearchCV(estimator=AdaBoostRegressor(), \n",
    "                           cv=k_n,\n",
    "                           param_grid=params,\n",
    "                           n_jobs = -1)\n",
    "\n",
    "\n",
    "    model_boos.fit(atributos, resultado)\n",
    "    \n",
    "    fin = time()\n",
    "    tiempo = (fin - inicio)/60\n",
    "    print('-Tiempo empleado para adaboost: {} minutos'.format(tiempo), flush=True)\n",
    "    print('Best_params: {}\\nBest_score: {}'.format(model_boos.best_params_,model_boos.best_score_), flush=True)\n",
    "    \n",
    "    return tiempo,model_boos"
   ]
  },
  {
   "cell_type": "code",
   "execution_count": 24,
   "metadata": {},
   "outputs": [],
   "source": [
    "# tiempo , modelo = adaboost(X,Y,3)"
   ]
  },
  {
   "cell_type": "markdown",
   "metadata": {},
   "source": [
    "# GradientBoostingRegressor"
   ]
  },
  {
   "cell_type": "code",
   "execution_count": 25,
   "metadata": {},
   "outputs": [],
   "source": [
    "from sklearn.ensemble import GradientBoostingRegressor"
   ]
  },
  {
   "cell_type": "code",
   "execution_count": 26,
   "metadata": {},
   "outputs": [],
   "source": [
    "def grad_boosting(atributos,resultado,k_n):\n",
    "    \n",
    "    params = {'n_estimators': random.sample(range(3, 50), 5),\n",
    "              'max_depth': random.sample(range(3, 50), 10), \n",
    "              'max_features':['auto', 'sqrt', 'log2',None],\n",
    "             'random_state': [None,1,5,10]}\n",
    "\n",
    "    inicio = time()\n",
    "    \n",
    "    model_boos= GridSearchCV(estimator=GradientBoostingRegressor(), \n",
    "                           cv=k_n,\n",
    "                           param_grid=params,\n",
    "                           n_jobs = -1)\n",
    "\n",
    "\n",
    "    model_boos.fit(atributos, resultado)\n",
    "    \n",
    "    fin = time()\n",
    "    tiempo = (fin - inicio)/60\n",
    "    print('-Tiempo empleado para gradient boosting: {} minutos'.format(tiempo), flush=True)\n",
    "    print('Best_params: {}\\nBest_score: {}'.format(model_boos.best_params_,model_boos.best_score_), flush=True)\n",
    "    \n",
    "    return tiempo,model_boos"
   ]
  },
  {
   "cell_type": "code",
   "execution_count": 27,
   "metadata": {},
   "outputs": [],
   "source": [
    "# tiempo , modelo = grad_boosting(X,Y,3)"
   ]
  },
  {
   "cell_type": "markdown",
   "metadata": {},
   "source": [
    "# MLP (red neuronal)"
   ]
  },
  {
   "cell_type": "code",
   "execution_count": 28,
   "metadata": {},
   "outputs": [],
   "source": [
    "from sklearn.neural_network import MLPRegressor"
   ]
  },
  {
   "cell_type": "code",
   "execution_count": 29,
   "metadata": {},
   "outputs": [],
   "source": [
    "def MLP(atributos,resultado,k_n):\n",
    "\n",
    "    params = {'alpha' : [0.00001,0.0001,0.001],\n",
    "            'max_iter' : [1000,2000,5000],\n",
    "            'random_state': [0,1,10]}\n",
    "\n",
    "    inicio = time()\n",
    "\n",
    "    model_MLP= GridSearchCV(estimator=MLPRegressor(), \n",
    "                           cv=k_n,\n",
    "                           param_grid=params)\n",
    "\n",
    "\n",
    "    model_MLP.fit(atributos, resultado)\n",
    "    \n",
    "    fin = time()\n",
    "    tiempo = (fin - inicio)/60\n",
    "    print('-Tiempo empleado para MLP: {} minutos'.format(tiempo), flush=True)\n",
    "    print('Best_params: {}\\nBest_score: {}'.format(model_MLP.best_params_,model_MLP.best_score_), flush=True)\n",
    "    \n",
    "    return tiempo,model_MLP"
   ]
  },
  {
   "cell_type": "code",
   "execution_count": 30,
   "metadata": {},
   "outputs": [],
   "source": [
    "# tiempo , modelo = MLP(X,Y,3)"
   ]
  },
  {
   "cell_type": "markdown",
   "metadata": {},
   "source": [
    "## Ejecutar todos los algoritmos con diferentes combinaciones"
   ]
  },
  {
   "cell_type": "code",
   "execution_count": 31,
   "metadata": {},
   "outputs": [
    {
     "name": "stdout",
     "output_type": "stream",
     "text": [
      "random_forest 1 2 3 hola\n",
      "nearest_neighbor 1 2 4 adios\n",
      "SVR 2 2 4 salu2\n"
     ]
    },
    {
     "data": {
      "text/html": [
       "<div>\n",
       "<style scoped>\n",
       "    .dataframe tbody tr th:only-of-type {\n",
       "        vertical-align: middle;\n",
       "    }\n",
       "\n",
       "    .dataframe tbody tr th {\n",
       "        vertical-align: top;\n",
       "    }\n",
       "\n",
       "    .dataframe thead th {\n",
       "        text-align: right;\n",
       "    }\n",
       "</style>\n",
       "<table border=\"1\" class=\"dataframe\">\n",
       "  <thead>\n",
       "    <tr style=\"text-align: right;\">\n",
       "      <th></th>\n",
       "      <th>1_dias_2_celdas_0_splits</th>\n",
       "      <th>1_dias_2_celdas_0_splits_params</th>\n",
       "      <th>2_dias_2_celdas_0_splits</th>\n",
       "      <th>2_dias_2_celdas_0_splits_params</th>\n",
       "    </tr>\n",
       "  </thead>\n",
       "  <tbody>\n",
       "    <tr>\n",
       "      <th>random_forest</th>\n",
       "      <td>3.0</td>\n",
       "      <td>hola</td>\n",
       "      <td>NaN</td>\n",
       "      <td>NaN</td>\n",
       "    </tr>\n",
       "    <tr>\n",
       "      <th>nearest_neighbor</th>\n",
       "      <td>4.0</td>\n",
       "      <td>adios</td>\n",
       "      <td>NaN</td>\n",
       "      <td>NaN</td>\n",
       "    </tr>\n",
       "    <tr>\n",
       "      <th>SVR</th>\n",
       "      <td>NaN</td>\n",
       "      <td>NaN</td>\n",
       "      <td>4.0</td>\n",
       "      <td>salu2</td>\n",
       "    </tr>\n",
       "    <tr>\n",
       "      <th>arbol_decision</th>\n",
       "      <td>NaN</td>\n",
       "      <td>NaN</td>\n",
       "      <td>NaN</td>\n",
       "      <td>NaN</td>\n",
       "    </tr>\n",
       "    <tr>\n",
       "      <th>MLP</th>\n",
       "      <td>NaN</td>\n",
       "      <td>NaN</td>\n",
       "      <td>NaN</td>\n",
       "      <td>NaN</td>\n",
       "    </tr>\n",
       "    <tr>\n",
       "      <th>Boosting</th>\n",
       "      <td>NaN</td>\n",
       "      <td>NaN</td>\n",
       "      <td>NaN</td>\n",
       "      <td>NaN</td>\n",
       "    </tr>\n",
       "    <tr>\n",
       "      <th>Adasboost</th>\n",
       "      <td>NaN</td>\n",
       "      <td>NaN</td>\n",
       "      <td>NaN</td>\n",
       "      <td>NaN</td>\n",
       "    </tr>\n",
       "    <tr>\n",
       "      <th>GradientBoostingRegressor</th>\n",
       "      <td>NaN</td>\n",
       "      <td>NaN</td>\n",
       "      <td>NaN</td>\n",
       "      <td>NaN</td>\n",
       "    </tr>\n",
       "  </tbody>\n",
       "</table>\n",
       "</div>"
      ],
      "text/plain": [
       "                           1_dias_2_celdas_0_splits  \\\n",
       "random_forest                                   3.0   \n",
       "nearest_neighbor                                4.0   \n",
       "SVR                                             NaN   \n",
       "arbol_decision                                  NaN   \n",
       "MLP                                             NaN   \n",
       "Boosting                                        NaN   \n",
       "Adasboost                                       NaN   \n",
       "GradientBoostingRegressor                       NaN   \n",
       "\n",
       "                          1_dias_2_celdas_0_splits_params  \\\n",
       "random_forest                                        hola   \n",
       "nearest_neighbor                                    adios   \n",
       "SVR                                                   NaN   \n",
       "arbol_decision                                        NaN   \n",
       "MLP                                                   NaN   \n",
       "Boosting                                              NaN   \n",
       "Adasboost                                             NaN   \n",
       "GradientBoostingRegressor                             NaN   \n",
       "\n",
       "                           2_dias_2_celdas_0_splits  \\\n",
       "random_forest                                   NaN   \n",
       "nearest_neighbor                                NaN   \n",
       "SVR                                             4.0   \n",
       "arbol_decision                                  NaN   \n",
       "MLP                                             NaN   \n",
       "Boosting                                        NaN   \n",
       "Adasboost                                       NaN   \n",
       "GradientBoostingRegressor                       NaN   \n",
       "\n",
       "                          2_dias_2_celdas_0_splits_params  \n",
       "random_forest                                         NaN  \n",
       "nearest_neighbor                                      NaN  \n",
       "SVR                                                 salu2  \n",
       "arbol_decision                                        NaN  \n",
       "MLP                                                   NaN  \n",
       "Boosting                                              NaN  \n",
       "Adasboost                                             NaN  \n",
       "GradientBoostingRegressor                             NaN  "
      ]
     },
     "execution_count": 31,
     "metadata": {},
     "output_type": "execute_result"
    }
   ],
   "source": [
    "# df para guardar resultados\n",
    "algoritmos  = ['random_forest','nearest_neighbor',\n",
    "              'SVR','arbol_decision',\n",
    "               'MLP','Boosting','Adasboost','GradientBoostingRegressor']\n",
    "df = pd.DataFrame(index=algoritmos)\n",
    "\n",
    "def reinicia_df():\n",
    "    df = pd.DataFrame(index=algoritmos)\n",
    "    df.to_pickle('resultadosKfold.pkl')\n",
    "\n",
    "def guarda_resultado(alg,dias,celdas,split,resultado,params):\n",
    "    df = pd.read_pickle('resultadosKfold.pkl')\n",
    "    print(alg,dias,celdas,resultado,params)\n",
    "    nombre_col = '{}_dias_{}_celdas_{}_splits'.format(dias,celdas,split)\n",
    "    if not nombre_col in df.columns:\n",
    "        df[nombre_col] = np.nan\n",
    "        df[nombre_col + '_params'] = np.nan\n",
    "    df.loc[alg,nombre_col] = resultado\n",
    "    df.loc[alg,nombre_col + '_params'] = params\n",
    "    df.to_pickle('resultadosKfold.pkl')\n",
    "    df.to_excel('resultadosKfold.xlsx')\n",
    "\n",
    "##\n",
    "reinicia_df()\n",
    "guarda_resultado('random_forest',1,2,0,3,'hola')\n",
    "guarda_resultado('nearest_neighbor',1,2,0,4,'adios')\n",
    "guarda_resultado('SVR',2,2,0,4,'salu2')\n",
    "df = pd.read_pickle('resultadosKfold.pkl')\n",
    "df"
   ]
  },
  {
   "cell_type": "code",
   "execution_count": 37,
   "metadata": {
    "cell_style": "center",
    "scrolled": true
   },
   "outputs": [
    {
     "name": "stdout",
     "output_type": "stream",
     "text": [
      "\n",
      "\n",
      " dfAtributosNormalizado_0_dias_0_celdas.pkl ///// KFold(n_splits=5, random_state=None, shuffle=False) \n",
      "\n",
      "-Tiempo empleado para nearest neighbor: 0.03056968847910563 minutos\n",
      "Best_params: {'n_neighbors': 15, 'weights': 'distance'}\n",
      "Best_score: -4.12592785522622\n",
      "nearest_neighbor 0_ _c -4.12592785522622 {'n_neighbors': 15, 'weights': 'distance'}\n",
      "-Tiempo empleado para SVR: 0.012137814362843832 minutos\n",
      "Best_params: {'C': 100, 'epsilon': 0.2, 'gamma': 'auto', 'kernel': 'poly'}\n",
      "Best_score: -0.06167039811094925\n",
      "SVR 0_ _c -0.06167039811094925 {'C': 100, 'epsilon': 0.2, 'gamma': 'auto', 'kernel': 'poly'}\n",
      "-Tiempo empleado para arboles decision: 0.01896129051844279 minutos\n",
      "Best_params: {'max_depth': 50, 'max_features': 'sqrt'}\n",
      "Best_score: -0.6286520892528256\n",
      "arbol_decision 0_ _c -0.6286520892528256 {'max_depth': 50, 'max_features': 'sqrt'}\n"
     ]
    },
    {
     "ename": "KeyboardInterrupt",
     "evalue": "",
     "output_type": "error",
     "traceback": [
      "\u001b[0;31m---------------------------------------------------------------------------\u001b[0m",
      "\u001b[0;31mKeyboardInterrupt\u001b[0m                         Traceback (most recent call last)",
      "\u001b[0;32m<ipython-input-37-5d33cb17338a>\u001b[0m in \u001b[0;36m<module>\u001b[0;34m\u001b[0m\n\u001b[1;32m     39\u001b[0m             \u001b[0mres\u001b[0m \u001b[0;34m+=\u001b[0m \u001b[0;34m'--> arbol_decision '\u001b[0m \u001b[0;34m+\u001b[0m \u001b[0mstr\u001b[0m\u001b[0;34m(\u001b[0m\u001b[0mmodel_result\u001b[0m\u001b[0;34m)\u001b[0m \u001b[0;34m+\u001b[0m \u001b[0;34m'\\nTiempo empleado: '\u001b[0m \u001b[0;34m+\u001b[0m \u001b[0mstr\u001b[0m\u001b[0;34m(\u001b[0m\u001b[0mtiempo\u001b[0m\u001b[0;34m)\u001b[0m\u001b[0;34m\u001b[0m\u001b[0;34m\u001b[0m\u001b[0m\n\u001b[1;32m     40\u001b[0m \u001b[0;34m\u001b[0m\u001b[0m\n\u001b[0;32m---> 41\u001b[0;31m             \u001b[0mtiempo\u001b[0m\u001b[0;34m,\u001b[0m\u001b[0mmodel_result\u001b[0m \u001b[0;34m=\u001b[0m \u001b[0mboosting\u001b[0m\u001b[0;34m(\u001b[0m\u001b[0matributos\u001b[0m\u001b[0;34m,\u001b[0m\u001b[0mresultado\u001b[0m\u001b[0;34m,\u001b[0m\u001b[0msplit\u001b[0m\u001b[0;34m)\u001b[0m\u001b[0;34m\u001b[0m\u001b[0;34m\u001b[0m\u001b[0m\n\u001b[0m\u001b[1;32m     42\u001b[0m             \u001b[0mguarda_resultado\u001b[0m\u001b[0;34m(\u001b[0m\u001b[0;34m'Boosting'\u001b[0m\u001b[0;34m,\u001b[0m\u001b[0mdias\u001b[0m\u001b[0;34m,\u001b[0m\u001b[0mceldas\u001b[0m\u001b[0;34m,\u001b[0m\u001b[0msplit\u001b[0m\u001b[0;34m,\u001b[0m\u001b[0mmodel_result\u001b[0m\u001b[0;34m.\u001b[0m\u001b[0mbest_score_\u001b[0m\u001b[0;34m,\u001b[0m\u001b[0mstr\u001b[0m\u001b[0;34m(\u001b[0m\u001b[0mmodel_result\u001b[0m\u001b[0;34m.\u001b[0m\u001b[0mbest_params_\u001b[0m\u001b[0;34m)\u001b[0m\u001b[0;34m)\u001b[0m\u001b[0;34m\u001b[0m\u001b[0;34m\u001b[0m\u001b[0m\n\u001b[1;32m     43\u001b[0m             \u001b[0mres\u001b[0m \u001b[0;34m+=\u001b[0m \u001b[0;34m'--> Boosting '\u001b[0m \u001b[0;34m+\u001b[0m \u001b[0mstr\u001b[0m\u001b[0;34m(\u001b[0m\u001b[0mmodel_result\u001b[0m\u001b[0;34m)\u001b[0m \u001b[0;34m+\u001b[0m \u001b[0;34m'\\nTiempo empleado: '\u001b[0m \u001b[0;34m+\u001b[0m \u001b[0mstr\u001b[0m\u001b[0;34m(\u001b[0m\u001b[0mtiempo\u001b[0m\u001b[0;34m)\u001b[0m\u001b[0;34m\u001b[0m\u001b[0;34m\u001b[0m\u001b[0m\n",
      "\u001b[0;32m<ipython-input-20-e31ae554741e>\u001b[0m in \u001b[0;36mboosting\u001b[0;34m(atributos, resultado, k_n)\u001b[0m\n\u001b[1;32m     12\u001b[0m \u001b[0;34m\u001b[0m\u001b[0m\n\u001b[1;32m     13\u001b[0m \u001b[0;34m\u001b[0m\u001b[0m\n\u001b[0;32m---> 14\u001b[0;31m     \u001b[0mmodel_boos\u001b[0m\u001b[0;34m.\u001b[0m\u001b[0mfit\u001b[0m\u001b[0;34m(\u001b[0m\u001b[0matributos\u001b[0m\u001b[0;34m,\u001b[0m \u001b[0mresultado\u001b[0m\u001b[0;34m)\u001b[0m\u001b[0;34m\u001b[0m\u001b[0;34m\u001b[0m\u001b[0m\n\u001b[0m\u001b[1;32m     15\u001b[0m \u001b[0;34m\u001b[0m\u001b[0m\n\u001b[1;32m     16\u001b[0m     \u001b[0mfin\u001b[0m \u001b[0;34m=\u001b[0m \u001b[0mtime\u001b[0m\u001b[0;34m(\u001b[0m\u001b[0;34m)\u001b[0m\u001b[0;34m\u001b[0m\u001b[0;34m\u001b[0m\u001b[0m\n",
      "\u001b[0;32m~/anaconda3/lib/python3.7/site-packages/sklearn/model_selection/_search.py\u001b[0m in \u001b[0;36mfit\u001b[0;34m(self, X, y, groups, **fit_params)\u001b[0m\n\u001b[1;32m    708\u001b[0m                 \u001b[0;32mreturn\u001b[0m \u001b[0mresults\u001b[0m\u001b[0;34m\u001b[0m\u001b[0;34m\u001b[0m\u001b[0m\n\u001b[1;32m    709\u001b[0m \u001b[0;34m\u001b[0m\u001b[0m\n\u001b[0;32m--> 710\u001b[0;31m             \u001b[0mself\u001b[0m\u001b[0;34m.\u001b[0m\u001b[0m_run_search\u001b[0m\u001b[0;34m(\u001b[0m\u001b[0mevaluate_candidates\u001b[0m\u001b[0;34m)\u001b[0m\u001b[0;34m\u001b[0m\u001b[0;34m\u001b[0m\u001b[0m\n\u001b[0m\u001b[1;32m    711\u001b[0m \u001b[0;34m\u001b[0m\u001b[0m\n\u001b[1;32m    712\u001b[0m         \u001b[0;31m# For multi-metric evaluation, store the best_index_, best_params_ and\u001b[0m\u001b[0;34m\u001b[0m\u001b[0;34m\u001b[0m\u001b[0;34m\u001b[0m\u001b[0m\n",
      "\u001b[0;32m~/anaconda3/lib/python3.7/site-packages/sklearn/model_selection/_search.py\u001b[0m in \u001b[0;36m_run_search\u001b[0;34m(self, evaluate_candidates)\u001b[0m\n\u001b[1;32m   1149\u001b[0m     \u001b[0;32mdef\u001b[0m \u001b[0m_run_search\u001b[0m\u001b[0;34m(\u001b[0m\u001b[0mself\u001b[0m\u001b[0;34m,\u001b[0m \u001b[0mevaluate_candidates\u001b[0m\u001b[0;34m)\u001b[0m\u001b[0;34m:\u001b[0m\u001b[0;34m\u001b[0m\u001b[0;34m\u001b[0m\u001b[0m\n\u001b[1;32m   1150\u001b[0m         \u001b[0;34m\"\"\"Search all candidates in param_grid\"\"\"\u001b[0m\u001b[0;34m\u001b[0m\u001b[0;34m\u001b[0m\u001b[0m\n\u001b[0;32m-> 1151\u001b[0;31m         \u001b[0mevaluate_candidates\u001b[0m\u001b[0;34m(\u001b[0m\u001b[0mParameterGrid\u001b[0m\u001b[0;34m(\u001b[0m\u001b[0mself\u001b[0m\u001b[0;34m.\u001b[0m\u001b[0mparam_grid\u001b[0m\u001b[0;34m)\u001b[0m\u001b[0;34m)\u001b[0m\u001b[0;34m\u001b[0m\u001b[0;34m\u001b[0m\u001b[0m\n\u001b[0m\u001b[1;32m   1152\u001b[0m \u001b[0;34m\u001b[0m\u001b[0m\n\u001b[1;32m   1153\u001b[0m \u001b[0;34m\u001b[0m\u001b[0m\n",
      "\u001b[0;32m~/anaconda3/lib/python3.7/site-packages/sklearn/model_selection/_search.py\u001b[0m in \u001b[0;36mevaluate_candidates\u001b[0;34m(candidate_params)\u001b[0m\n\u001b[1;32m    687\u001b[0m                                \u001b[0;32mfor\u001b[0m \u001b[0mparameters\u001b[0m\u001b[0;34m,\u001b[0m \u001b[0;34m(\u001b[0m\u001b[0mtrain\u001b[0m\u001b[0;34m,\u001b[0m \u001b[0mtest\u001b[0m\u001b[0;34m)\u001b[0m\u001b[0;34m\u001b[0m\u001b[0;34m\u001b[0m\u001b[0m\n\u001b[1;32m    688\u001b[0m                                in product(candidate_params,\n\u001b[0;32m--> 689\u001b[0;31m                                           cv.split(X, y, groups)))\n\u001b[0m\u001b[1;32m    690\u001b[0m \u001b[0;34m\u001b[0m\u001b[0m\n\u001b[1;32m    691\u001b[0m                 \u001b[0;32mif\u001b[0m \u001b[0mlen\u001b[0m\u001b[0;34m(\u001b[0m\u001b[0mout\u001b[0m\u001b[0;34m)\u001b[0m \u001b[0;34m<\u001b[0m \u001b[0;36m1\u001b[0m\u001b[0;34m:\u001b[0m\u001b[0;34m\u001b[0m\u001b[0;34m\u001b[0m\u001b[0m\n",
      "\u001b[0;32m~/anaconda3/lib/python3.7/site-packages/joblib/parallel.py\u001b[0m in \u001b[0;36m__call__\u001b[0;34m(self, iterable)\u001b[0m\n\u001b[1;32m   1015\u001b[0m \u001b[0;34m\u001b[0m\u001b[0m\n\u001b[1;32m   1016\u001b[0m             \u001b[0;32mwith\u001b[0m \u001b[0mself\u001b[0m\u001b[0;34m.\u001b[0m\u001b[0m_backend\u001b[0m\u001b[0;34m.\u001b[0m\u001b[0mretrieval_context\u001b[0m\u001b[0;34m(\u001b[0m\u001b[0;34m)\u001b[0m\u001b[0;34m:\u001b[0m\u001b[0;34m\u001b[0m\u001b[0;34m\u001b[0m\u001b[0m\n\u001b[0;32m-> 1017\u001b[0;31m                 \u001b[0mself\u001b[0m\u001b[0;34m.\u001b[0m\u001b[0mretrieve\u001b[0m\u001b[0;34m(\u001b[0m\u001b[0;34m)\u001b[0m\u001b[0;34m\u001b[0m\u001b[0;34m\u001b[0m\u001b[0m\n\u001b[0m\u001b[1;32m   1018\u001b[0m             \u001b[0;31m# Make sure that we get a last message telling us we are done\u001b[0m\u001b[0;34m\u001b[0m\u001b[0;34m\u001b[0m\u001b[0;34m\u001b[0m\u001b[0m\n\u001b[1;32m   1019\u001b[0m             \u001b[0melapsed_time\u001b[0m \u001b[0;34m=\u001b[0m \u001b[0mtime\u001b[0m\u001b[0;34m.\u001b[0m\u001b[0mtime\u001b[0m\u001b[0;34m(\u001b[0m\u001b[0;34m)\u001b[0m \u001b[0;34m-\u001b[0m \u001b[0mself\u001b[0m\u001b[0;34m.\u001b[0m\u001b[0m_start_time\u001b[0m\u001b[0;34m\u001b[0m\u001b[0;34m\u001b[0m\u001b[0m\n",
      "\u001b[0;32m~/anaconda3/lib/python3.7/site-packages/joblib/parallel.py\u001b[0m in \u001b[0;36mretrieve\u001b[0;34m(self)\u001b[0m\n\u001b[1;32m    907\u001b[0m             \u001b[0;32mtry\u001b[0m\u001b[0;34m:\u001b[0m\u001b[0;34m\u001b[0m\u001b[0;34m\u001b[0m\u001b[0m\n\u001b[1;32m    908\u001b[0m                 \u001b[0;32mif\u001b[0m \u001b[0mgetattr\u001b[0m\u001b[0;34m(\u001b[0m\u001b[0mself\u001b[0m\u001b[0;34m.\u001b[0m\u001b[0m_backend\u001b[0m\u001b[0;34m,\u001b[0m \u001b[0;34m'supports_timeout'\u001b[0m\u001b[0;34m,\u001b[0m \u001b[0;32mFalse\u001b[0m\u001b[0;34m)\u001b[0m\u001b[0;34m:\u001b[0m\u001b[0;34m\u001b[0m\u001b[0;34m\u001b[0m\u001b[0m\n\u001b[0;32m--> 909\u001b[0;31m                     \u001b[0mself\u001b[0m\u001b[0;34m.\u001b[0m\u001b[0m_output\u001b[0m\u001b[0;34m.\u001b[0m\u001b[0mextend\u001b[0m\u001b[0;34m(\u001b[0m\u001b[0mjob\u001b[0m\u001b[0;34m.\u001b[0m\u001b[0mget\u001b[0m\u001b[0;34m(\u001b[0m\u001b[0mtimeout\u001b[0m\u001b[0;34m=\u001b[0m\u001b[0mself\u001b[0m\u001b[0;34m.\u001b[0m\u001b[0mtimeout\u001b[0m\u001b[0;34m)\u001b[0m\u001b[0;34m)\u001b[0m\u001b[0;34m\u001b[0m\u001b[0;34m\u001b[0m\u001b[0m\n\u001b[0m\u001b[1;32m    910\u001b[0m                 \u001b[0;32melse\u001b[0m\u001b[0;34m:\u001b[0m\u001b[0;34m\u001b[0m\u001b[0;34m\u001b[0m\u001b[0m\n\u001b[1;32m    911\u001b[0m                     \u001b[0mself\u001b[0m\u001b[0;34m.\u001b[0m\u001b[0m_output\u001b[0m\u001b[0;34m.\u001b[0m\u001b[0mextend\u001b[0m\u001b[0;34m(\u001b[0m\u001b[0mjob\u001b[0m\u001b[0;34m.\u001b[0m\u001b[0mget\u001b[0m\u001b[0;34m(\u001b[0m\u001b[0;34m)\u001b[0m\u001b[0;34m)\u001b[0m\u001b[0;34m\u001b[0m\u001b[0;34m\u001b[0m\u001b[0m\n",
      "\u001b[0;32m~/anaconda3/lib/python3.7/site-packages/joblib/_parallel_backends.py\u001b[0m in \u001b[0;36mwrap_future_result\u001b[0;34m(future, timeout)\u001b[0m\n\u001b[1;32m    560\u001b[0m         AsyncResults.get from multiprocessing.\"\"\"\n\u001b[1;32m    561\u001b[0m         \u001b[0;32mtry\u001b[0m\u001b[0;34m:\u001b[0m\u001b[0;34m\u001b[0m\u001b[0;34m\u001b[0m\u001b[0m\n\u001b[0;32m--> 562\u001b[0;31m             \u001b[0;32mreturn\u001b[0m \u001b[0mfuture\u001b[0m\u001b[0;34m.\u001b[0m\u001b[0mresult\u001b[0m\u001b[0;34m(\u001b[0m\u001b[0mtimeout\u001b[0m\u001b[0;34m=\u001b[0m\u001b[0mtimeout\u001b[0m\u001b[0;34m)\u001b[0m\u001b[0;34m\u001b[0m\u001b[0;34m\u001b[0m\u001b[0m\n\u001b[0m\u001b[1;32m    563\u001b[0m         \u001b[0;32mexcept\u001b[0m \u001b[0mLokyTimeoutError\u001b[0m\u001b[0;34m:\u001b[0m\u001b[0;34m\u001b[0m\u001b[0;34m\u001b[0m\u001b[0m\n\u001b[1;32m    564\u001b[0m             \u001b[0;32mraise\u001b[0m \u001b[0mTimeoutError\u001b[0m\u001b[0;34m(\u001b[0m\u001b[0;34m)\u001b[0m\u001b[0;34m\u001b[0m\u001b[0;34m\u001b[0m\u001b[0m\n",
      "\u001b[0;32m~/anaconda3/lib/python3.7/concurrent/futures/_base.py\u001b[0m in \u001b[0;36mresult\u001b[0;34m(self, timeout)\u001b[0m\n\u001b[1;32m    428\u001b[0m                 \u001b[0;32mreturn\u001b[0m \u001b[0mself\u001b[0m\u001b[0;34m.\u001b[0m\u001b[0m__get_result\u001b[0m\u001b[0;34m(\u001b[0m\u001b[0;34m)\u001b[0m\u001b[0;34m\u001b[0m\u001b[0;34m\u001b[0m\u001b[0m\n\u001b[1;32m    429\u001b[0m \u001b[0;34m\u001b[0m\u001b[0m\n\u001b[0;32m--> 430\u001b[0;31m             \u001b[0mself\u001b[0m\u001b[0;34m.\u001b[0m\u001b[0m_condition\u001b[0m\u001b[0;34m.\u001b[0m\u001b[0mwait\u001b[0m\u001b[0;34m(\u001b[0m\u001b[0mtimeout\u001b[0m\u001b[0;34m)\u001b[0m\u001b[0;34m\u001b[0m\u001b[0;34m\u001b[0m\u001b[0m\n\u001b[0m\u001b[1;32m    431\u001b[0m \u001b[0;34m\u001b[0m\u001b[0m\n\u001b[1;32m    432\u001b[0m             \u001b[0;32mif\u001b[0m \u001b[0mself\u001b[0m\u001b[0;34m.\u001b[0m\u001b[0m_state\u001b[0m \u001b[0;32min\u001b[0m \u001b[0;34m[\u001b[0m\u001b[0mCANCELLED\u001b[0m\u001b[0;34m,\u001b[0m \u001b[0mCANCELLED_AND_NOTIFIED\u001b[0m\u001b[0;34m]\u001b[0m\u001b[0;34m:\u001b[0m\u001b[0;34m\u001b[0m\u001b[0;34m\u001b[0m\u001b[0m\n",
      "\u001b[0;32m~/anaconda3/lib/python3.7/threading.py\u001b[0m in \u001b[0;36mwait\u001b[0;34m(self, timeout)\u001b[0m\n\u001b[1;32m    294\u001b[0m         \u001b[0;32mtry\u001b[0m\u001b[0;34m:\u001b[0m    \u001b[0;31m# restore state no matter what (e.g., KeyboardInterrupt)\u001b[0m\u001b[0;34m\u001b[0m\u001b[0;34m\u001b[0m\u001b[0m\n\u001b[1;32m    295\u001b[0m             \u001b[0;32mif\u001b[0m \u001b[0mtimeout\u001b[0m \u001b[0;32mis\u001b[0m \u001b[0;32mNone\u001b[0m\u001b[0;34m:\u001b[0m\u001b[0;34m\u001b[0m\u001b[0;34m\u001b[0m\u001b[0m\n\u001b[0;32m--> 296\u001b[0;31m                 \u001b[0mwaiter\u001b[0m\u001b[0;34m.\u001b[0m\u001b[0macquire\u001b[0m\u001b[0;34m(\u001b[0m\u001b[0;34m)\u001b[0m\u001b[0;34m\u001b[0m\u001b[0;34m\u001b[0m\u001b[0m\n\u001b[0m\u001b[1;32m    297\u001b[0m                 \u001b[0mgotit\u001b[0m \u001b[0;34m=\u001b[0m \u001b[0;32mTrue\u001b[0m\u001b[0;34m\u001b[0m\u001b[0;34m\u001b[0m\u001b[0m\n\u001b[1;32m    298\u001b[0m             \u001b[0;32melse\u001b[0m\u001b[0;34m:\u001b[0m\u001b[0;34m\u001b[0m\u001b[0;34m\u001b[0m\u001b[0m\n",
      "\u001b[0;31mKeyboardInterrupt\u001b[0m: "
     ]
    }
   ],
   "source": [
    "import os\n",
    "import datetime\n",
    "\n",
    "\n",
    "splits = [KFold(n_splits=5),KFold(n_splits=10),KFold(n_splits=20)]\n",
    "\n",
    "res = ''\n",
    "reinicia_df()\n",
    "resultado = Y\n",
    "\n",
    "tiempo_inicial = time()\n",
    "\n",
    "listado_archivos = os.listdir('../pkls/')\n",
    "df = pd.DataFrame(index=algoritmos)\n",
    "for i in listado_archivos:\n",
    "    for split in splits:\n",
    "        if 'dfAtributosNormalizado' in i :\n",
    "            atributos = pd.read_pickle('../pkls/{}'.format(i))\n",
    "            dias,celdas = i[23:25],i[31:33]\n",
    "            print('\\n\\n {} ///// {} \\n'.format(i, split))\n",
    "\n",
    "            # concateno y guardo en log\n",
    "            res += str(datetime.datetime.now()) + ' --------- ' +  str(i) + '\\n'\n",
    "\n",
    "            tiempo,model_result = forest(atributos,resultado,split)\n",
    "            guarda_resultado('random_forest',dias,celdas,split,model_result.best_score_,str(model_result.best_params_))\n",
    "            res += '--> Random Forest ' + str(model_result) + '\\nTiempo empleado: ' + str(tiempo)\n",
    "\n",
    "            tiempo,model_result = vecino(atributos,resultado,split)\n",
    "            guarda_resultado('nearest_neighbor',dias,celdas,split,model_result.best_score_,str(model_result.best_params_))\n",
    "            res += '--> Vecino mas cercano ' + str(model_result) + '\\nTiempo empleado: ' + str(tiempo)\n",
    "\n",
    "            tiempo,model_result = SVR(atributos,resultado,split)\n",
    "            guarda_resultado('SVR',dias,celdas,split,model_result.best_score_,str(model_result.best_params_))\n",
    "            res += '--> SVR ' + str(model_result) + '\\nTiempo empleado: ' + str(tiempo)\n",
    "\n",
    "            tiempo,model_result = arbol_decision(atributos,resultado,split)\n",
    "            guarda_resultado('arbol_decision',dias,celdas,split,model_result.best_score_,str(model_result.best_params_))\n",
    "            res += '--> arbol_decision ' + str(model_result) + '\\nTiempo empleado: ' + str(tiempo)\n",
    "       \n",
    "            tiempo,model_result = boosting(atributos,resultado,split)\n",
    "            guarda_resultado('Boosting',dias,celdas,split,model_result.best_score_,str(model_result.best_params_))\n",
    "            res += '--> Boosting ' + str(model_result) + '\\nTiempo empleado: ' + str(tiempo)\n",
    "            \n",
    "            tiempo,model_result = adaboost(atributos,resultado,split)\n",
    "            guarda_resultado('Adaboost',dias,celdas,split,model_result.best_score_,str(model_result.best_params_))\n",
    "            res += '--> Adaboost ' + str(model_result) + '\\nTiempo empleado: ' + str(tiempo)\n",
    "            \n",
    "            tiempo,model_result = grad_boosting(atributos,resultado,split)\n",
    "            guarda_resultado('GradientBoostingRegressor',dias,celdas,split,model_result.best_score_,str(model_result.best_params_))\n",
    "            res += '--> GradientBoostingRegressor ' + str(model_result) + '\\nTiempo empleado: ' + str(tiempo)\n",
    "            \n",
    "            tiempo,model_result = MLP(atributos,resultado,split)\n",
    "            guarda_resultado('MLP',dias,celdas,split,model_result.best_score_,str(model_result.best_params_))\n",
    "            res += '--> MLP ' + str(model_result) + '\\nTiempo empleado: ' + str(tiempo)\n",
    "\n",
    "\n",
    "        f = open ('log.txt','wb')\n",
    "\n",
    "        f.write(bytes(res, encoding='utf-8'))\n",
    "        f.close()\n",
    "\n",
    "f = open ('logKfold.txt','wb')\n",
    "\n",
    "f.write(bytes('\\n\\nTiempo Total --> ' + str(time() - tiempo_inicial), encoding='utf-8'))\n",
    "f.close()\n"
   ]
  },
  {
   "cell_type": "markdown",
   "metadata": {
    "cell_style": "center"
   },
   "source": [
    "# Voting regressor"
   ]
  },
  {
   "cell_type": "code",
   "execution_count": null,
   "metadata": {},
   "outputs": [],
   "source": [
    "from sklearn.ensemble import VotingRegressor\n",
    "from sklearn.linear_model import LinearRegression"
   ]
  },
  {
   "cell_type": "code",
   "execution_count": null,
   "metadata": {},
   "outputs": [],
   "source": [
    "# def voting(atributos,resultado,k_n):\n",
    "\n",
    "#     inicio = time()\n",
    "    \n",
    "#     params = {}\n",
    "    \n",
    "#     reg1 = GradientBoostingRegressor(random_state=1, n_estimators=10)\n",
    "#     reg2 = RandomForestRegressor(random_state=1, n_estimators=10)\n",
    "#     reg3 = LinearRegression()\n",
    "#     ereg = VotingRegressor(estimators=[('gb', reg1), ('rf', reg2), ('lr', reg3)])\n",
    "    \n",
    "#     grid = GridSearchCV(estimator=ereg, param_grid=params, cv=k_n)\n",
    "\n",
    "#     ereg = grid.fit(atributos, resultado)\n",
    "    \n",
    "#     fin = time()\n",
    "#     tiempo = (fin - inicio)/60\n",
    "#     print('Tiempo empleado : {} minutos'.format(tiempo), flush=True)\n",
    "    \n",
    "#     return tiempo,ereg"
   ]
  },
  {
   "cell_type": "code",
   "execution_count": null,
   "metadata": {},
   "outputs": [],
   "source": [
    "# tiempo , modelo = voting(X,Y,3)"
   ]
  },
  {
   "cell_type": "code",
   "execution_count": null,
   "metadata": {},
   "outputs": [],
   "source": [
    "# modelo.best_score_"
   ]
  },
  {
   "cell_type": "code",
   "execution_count": null,
   "metadata": {},
   "outputs": [],
   "source": []
  }
 ],
 "metadata": {
  "kernelspec": {
   "display_name": "Python 3",
   "language": "python",
   "name": "python3"
  },
  "language_info": {
   "codemirror_mode": {
    "name": "ipython",
    "version": 3
   },
   "file_extension": ".py",
   "mimetype": "text/x-python",
   "name": "python",
   "nbconvert_exporter": "python",
   "pygments_lexer": "ipython3",
   "version": "3.7.6"
  }
 },
 "nbformat": 4,
 "nbformat_minor": 4
}
