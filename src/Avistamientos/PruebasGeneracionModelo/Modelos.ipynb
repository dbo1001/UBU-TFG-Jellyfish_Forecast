{
 "cells": [
  {
   "cell_type": "markdown",
   "metadata": {},
   "source": [
    "## imports"
   ]
  },
  {
   "cell_type": "code",
   "execution_count": 38,
   "metadata": {},
   "outputs": [],
   "source": [
    "import pandas as pd\n",
    "import matplotlib.pyplot as plt\n",
    "import numpy as np\n",
    "import xarray as xr\n",
    "# scikit\n",
    "from sklearn import datasets, linear_model\n",
    "from sklearn.metrics import mean_squared_error, r2_score\n",
    "from sklearn.model_selection import train_test_split\n",
    "\n",
    "from sklearn.datasets import make_regression"
   ]
  },
  {
   "cell_type": "markdown",
   "metadata": {},
   "source": [
    "## carga de datos"
   ]
  },
  {
   "cell_type": "code",
   "execution_count": 16,
   "metadata": {
    "scrolled": false
   },
   "outputs": [
    {
     "data": {
      "text/html": [
       "<div>\n",
       "<style scoped>\n",
       "    .dataframe tbody tr th:only-of-type {\n",
       "        vertical-align: middle;\n",
       "    }\n",
       "\n",
       "    .dataframe tbody tr th {\n",
       "        vertical-align: top;\n",
       "    }\n",
       "\n",
       "    .dataframe thead th {\n",
       "        text-align: right;\n",
       "    }\n",
       "</style>\n",
       "<table border=\"1\" class=\"dataframe\">\n",
       "  <thead>\n",
       "    <tr style=\"text-align: right;\">\n",
       "      <th></th>\n",
       "      <th>mlotst_0</th>\n",
       "      <th>zos_0</th>\n",
       "      <th>bottomT_0</th>\n",
       "      <th>thetao_0</th>\n",
       "      <th>so_0</th>\n",
       "      <th>uo_0</th>\n",
       "      <th>vo_0</th>\n",
       "      <th>mlotst_5</th>\n",
       "      <th>zos_5</th>\n",
       "      <th>bottomT_5</th>\n",
       "      <th>...</th>\n",
       "      <th>so_5</th>\n",
       "      <th>uo_5</th>\n",
       "      <th>vo_5</th>\n",
       "      <th>mlotst_10</th>\n",
       "      <th>zos_10</th>\n",
       "      <th>bottomT_10</th>\n",
       "      <th>thetao_10</th>\n",
       "      <th>so_10</th>\n",
       "      <th>uo_10</th>\n",
       "      <th>vo_10</th>\n",
       "    </tr>\n",
       "  </thead>\n",
       "  <tbody>\n",
       "    <tr>\n",
       "      <th>0</th>\n",
       "      <td>0.458610</td>\n",
       "      <td>0.000988</td>\n",
       "      <td>0.118141</td>\n",
       "      <td>0.118195</td>\n",
       "      <td>0.308355</td>\n",
       "      <td>0.000322</td>\n",
       "      <td>-0.000739</td>\n",
       "      <td>0.458610</td>\n",
       "      <td>0.000988</td>\n",
       "      <td>0.118141</td>\n",
       "      <td>...</td>\n",
       "      <td>0.308355</td>\n",
       "      <td>0.000265</td>\n",
       "      <td>-0.000480</td>\n",
       "      <td>0.458610</td>\n",
       "      <td>0.000988</td>\n",
       "      <td>0.118141</td>\n",
       "      <td>0.118188</td>\n",
       "      <td>0.308355</td>\n",
       "      <td>0.000220</td>\n",
       "      <td>-0.000361</td>\n",
       "    </tr>\n",
       "    <tr>\n",
       "      <th>1</th>\n",
       "      <td>0.164661</td>\n",
       "      <td>0.000871</td>\n",
       "      <td>0.172151</td>\n",
       "      <td>0.171491</td>\n",
       "      <td>0.496668</td>\n",
       "      <td>0.001678</td>\n",
       "      <td>0.000577</td>\n",
       "      <td>0.164661</td>\n",
       "      <td>0.000871</td>\n",
       "      <td>0.172151</td>\n",
       "      <td>...</td>\n",
       "      <td>0.497028</td>\n",
       "      <td>0.001588</td>\n",
       "      <td>0.000505</td>\n",
       "      <td>0.164661</td>\n",
       "      <td>0.000871</td>\n",
       "      <td>0.172151</td>\n",
       "      <td>0.173624</td>\n",
       "      <td>0.496916</td>\n",
       "      <td>0.001371</td>\n",
       "      <td>0.000307</td>\n",
       "    </tr>\n",
       "    <tr>\n",
       "      <th>2</th>\n",
       "      <td>0.288358</td>\n",
       "      <td>0.001631</td>\n",
       "      <td>0.129202</td>\n",
       "      <td>0.163865</td>\n",
       "      <td>0.454569</td>\n",
       "      <td>0.000249</td>\n",
       "      <td>0.001145</td>\n",
       "      <td>0.288358</td>\n",
       "      <td>0.001631</td>\n",
       "      <td>0.129202</td>\n",
       "      <td>...</td>\n",
       "      <td>0.454569</td>\n",
       "      <td>0.000050</td>\n",
       "      <td>0.000805</td>\n",
       "      <td>0.288358</td>\n",
       "      <td>0.001631</td>\n",
       "      <td>0.129202</td>\n",
       "      <td>0.163875</td>\n",
       "      <td>0.454569</td>\n",
       "      <td>-0.000025</td>\n",
       "      <td>0.000631</td>\n",
       "    </tr>\n",
       "    <tr>\n",
       "      <th>3</th>\n",
       "      <td>0.291737</td>\n",
       "      <td>0.000740</td>\n",
       "      <td>0.165685</td>\n",
       "      <td>0.165637</td>\n",
       "      <td>0.439698</td>\n",
       "      <td>-0.000072</td>\n",
       "      <td>0.001038</td>\n",
       "      <td>0.291737</td>\n",
       "      <td>0.000740</td>\n",
       "      <td>0.165685</td>\n",
       "      <td>...</td>\n",
       "      <td>0.439698</td>\n",
       "      <td>-0.000386</td>\n",
       "      <td>0.000885</td>\n",
       "      <td>0.291737</td>\n",
       "      <td>0.000740</td>\n",
       "      <td>0.165685</td>\n",
       "      <td>0.165637</td>\n",
       "      <td>0.439698</td>\n",
       "      <td>-0.000555</td>\n",
       "      <td>0.000813</td>\n",
       "    </tr>\n",
       "    <tr>\n",
       "      <th>4</th>\n",
       "      <td>0.292609</td>\n",
       "      <td>0.000250</td>\n",
       "      <td>0.163246</td>\n",
       "      <td>0.163168</td>\n",
       "      <td>0.440952</td>\n",
       "      <td>-0.000646</td>\n",
       "      <td>0.000751</td>\n",
       "      <td>0.292609</td>\n",
       "      <td>0.000250</td>\n",
       "      <td>0.163246</td>\n",
       "      <td>...</td>\n",
       "      <td>0.440952</td>\n",
       "      <td>-0.000856</td>\n",
       "      <td>0.000557</td>\n",
       "      <td>0.292609</td>\n",
       "      <td>0.000250</td>\n",
       "      <td>0.163246</td>\n",
       "      <td>0.163178</td>\n",
       "      <td>0.440952</td>\n",
       "      <td>-0.000807</td>\n",
       "      <td>0.000484</td>\n",
       "    </tr>\n",
       "  </tbody>\n",
       "</table>\n",
       "<p>5 rows × 21 columns</p>\n",
       "</div>"
      ],
      "text/plain": [
       "   mlotst_0     zos_0  bottomT_0  thetao_0      so_0      uo_0      vo_0  \\\n",
       "0  0.458610  0.000988   0.118141  0.118195  0.308355  0.000322 -0.000739   \n",
       "1  0.164661  0.000871   0.172151  0.171491  0.496668  0.001678  0.000577   \n",
       "2  0.288358  0.001631   0.129202  0.163865  0.454569  0.000249  0.001145   \n",
       "3  0.291737  0.000740   0.165685  0.165637  0.439698 -0.000072  0.001038   \n",
       "4  0.292609  0.000250   0.163246  0.163168  0.440952 -0.000646  0.000751   \n",
       "\n",
       "   mlotst_5     zos_5  bottomT_5  ...      so_5      uo_5      vo_5  \\\n",
       "0  0.458610  0.000988   0.118141  ...  0.308355  0.000265 -0.000480   \n",
       "1  0.164661  0.000871   0.172151  ...  0.497028  0.001588  0.000505   \n",
       "2  0.288358  0.001631   0.129202  ...  0.454569  0.000050  0.000805   \n",
       "3  0.291737  0.000740   0.165685  ...  0.439698 -0.000386  0.000885   \n",
       "4  0.292609  0.000250   0.163246  ...  0.440952 -0.000856  0.000557   \n",
       "\n",
       "   mlotst_10    zos_10  bottomT_10  thetao_10     so_10     uo_10     vo_10  \n",
       "0   0.458610  0.000988    0.118141   0.118188  0.308355  0.000220 -0.000361  \n",
       "1   0.164661  0.000871    0.172151   0.173624  0.496916  0.001371  0.000307  \n",
       "2   0.288358  0.001631    0.129202   0.163875  0.454569 -0.000025  0.000631  \n",
       "3   0.291737  0.000740    0.165685   0.165637  0.439698 -0.000555  0.000813  \n",
       "4   0.292609  0.000250    0.163246   0.163178  0.440952 -0.000807  0.000484  \n",
       "\n",
       "[5 rows x 21 columns]"
      ]
     },
     "execution_count": 16,
     "metadata": {},
     "output_type": "execute_result"
    }
   ],
   "source": [
    "#  CARGA DATAFRAME ATRIBUTOS\n",
    "df_atributos = pd.read_excel('dfAtributosNormalizado.xlsx').drop('Unnamed: 0',axis=1)\n",
    "df_atributos.head()"
   ]
  },
  {
   "cell_type": "code",
   "execution_count": 17,
   "metadata": {},
   "outputs": [
    {
     "data": {
      "text/html": [
       "<div>\n",
       "<style scoped>\n",
       "    .dataframe tbody tr th:only-of-type {\n",
       "        vertical-align: middle;\n",
       "    }\n",
       "\n",
       "    .dataframe tbody tr th {\n",
       "        vertical-align: top;\n",
       "    }\n",
       "\n",
       "    .dataframe thead th {\n",
       "        text-align: right;\n",
       "    }\n",
       "</style>\n",
       "<table border=\"1\" class=\"dataframe\">\n",
       "  <thead>\n",
       "    <tr style=\"text-align: right;\">\n",
       "      <th></th>\n",
       "      <th>Avistamientos</th>\n",
       "    </tr>\n",
       "  </thead>\n",
       "  <tbody>\n",
       "    <tr>\n",
       "      <th>0</th>\n",
       "      <td>1</td>\n",
       "    </tr>\n",
       "    <tr>\n",
       "      <th>1</th>\n",
       "      <td>1</td>\n",
       "    </tr>\n",
       "    <tr>\n",
       "      <th>2</th>\n",
       "      <td>1</td>\n",
       "    </tr>\n",
       "    <tr>\n",
       "      <th>3</th>\n",
       "      <td>20</td>\n",
       "    </tr>\n",
       "    <tr>\n",
       "      <th>4</th>\n",
       "      <td>151</td>\n",
       "    </tr>\n",
       "  </tbody>\n",
       "</table>\n",
       "</div>"
      ],
      "text/plain": [
       "   Avistamientos\n",
       "0              1\n",
       "1              1\n",
       "2              1\n",
       "3             20\n",
       "4            151"
      ]
     },
     "execution_count": 17,
     "metadata": {},
     "output_type": "execute_result"
    }
   ],
   "source": [
    "#  CARGA DATAFRAME AVISTAMIENTOS\n",
    "df_avistamientos = pd.read_excel('dfAvistamientos.xlsx').drop('Unnamed: 0',axis=1)\n",
    "df_avistamientos.head()"
   ]
  },
  {
   "cell_type": "code",
   "execution_count": 72,
   "metadata": {},
   "outputs": [],
   "source": [
    "# DATAFRAMES A LISTAS\n",
    "listado_atributos = df_atributos.values.tolist()\n",
    "listado_avistamientos = df_avistamientos.values.tolist()\n",
    "# CONJUNTOS DE ENTRENAMIENTO Y TEST\n",
    "atributos_train, atributos_test, avistamientos_train, avistamientos_test = train_test_split(listado_atributos,listado_avistamientos,test_size=0.2)\n",
    "atributos_train = np.array(atributos_train)\n",
    "atributos_test = np.array(atributos_test)\n",
    "avistamientos_train = np.ravel(np.array(avistamientos_train))\n",
    "avistamientos_test = np.ravel(np.array(avistamientos_test))"
   ]
  },
  {
   "cell_type": "code",
   "execution_count": 73,
   "metadata": {},
   "outputs": [],
   "source": [
    "def imprimir(mod,X_test,Y_test,Y_prediccion):\n",
    "    # COEFICIENTES (pendientes)\n",
    "    print('Coeficientes:')\n",
    "    print(mod.coef_)\n",
    "    print(mod.intercept_)\n",
    "    # The mean squared error\n",
    "    print('Error cuadrático medio: %.2f'% mean_squared_error(Y_test, Y_prediccion))\n",
    "    # The coefficient of determination: 1 is perfect prediction\n",
    "    print('Coeficiente de determinación con datos test: %.2f'% mod.score(X_test, Y_test)) \n",
    "    print('Coeficiente de determinación con datos train: %.2f'% mod.score(atributos_train, avistamientos_train)) \n",
    "\n",
    "\n",
    "    # datos que teniamos y los uqe hemos obtenido\n",
    "    # [print(Y_test[i],Y_pred[i]) for i in range(len(Y_pred))]"
   ]
  },
  {
   "attachments": {
    "image.png": {
     "image/png": "[encoded data removed]"
    }
   },
   "cell_type": "markdown",
   "metadata": {},
   "source": [
    "### Regresion Lineal\n",
    "![image.png](attachment:image.png)"
   ]
  },
  {
   "cell_type": "code",
   "execution_count": 74,
   "metadata": {},
   "outputs": [],
   "source": [
    "# REGRESION LINEAL\n",
    "lr = linear_model.LinearRegression()\n",
    "# se entrena al modelo\n",
    "lr.fit(atributos_train,avistamientos_train)\n",
    "# prediccion\n",
    "avistamientos_prediccion_lineal = lr.predict(atributos_test)"
   ]
  },
  {
   "cell_type": "code",
   "execution_count": 78,
   "metadata": {},
   "outputs": [
    {
     "name": "stdout",
     "output_type": "stream",
     "text": [
      "Coeficientes:\n",
      "[-7.24850248e+01  3.17638261e+04  2.21436730e+02  6.88549434e+03\n",
      " -1.15858467e+04 -3.11376385e+05 -2.84258897e+05 -7.24850248e+01\n",
      "  3.17638261e+04  2.21436730e+02 -6.69565967e+03  5.37065765e+03\n",
      "  2.76070844e+05  2.55963267e+05 -7.24850248e+01  3.17638261e+04\n",
      "  2.21436730e+02 -4.48680452e+03  8.20792615e+03  3.68485672e+04\n",
      "  4.42914101e+04]\n",
      "-73.70110979279913\n",
      "Error cuadrático medio: 91049.99\n",
      "Coeficiente de determinación con datos test: 0.09\n",
      "Coeficiente de determinación con datos train: 0.15\n"
     ]
    }
   ],
   "source": [
    "imprimir(lr,atributos_test,avistamientos_test,avistamientos_prediccion_lineal)"
   ]
  },
  {
   "cell_type": "markdown",
   "metadata": {},
   "source": [
    "### Random Forest"
   ]
  },
  {
   "cell_type": "code",
   "execution_count": 83,
   "metadata": {},
   "outputs": [],
   "source": [
    "from sklearn.ensemble import RandomForestRegressor\n",
    "rf = RandomForestRegressor(n_estimators=100)\n",
    "rf.fit(atributos_train,avistamientos_train)\n",
    "\n",
    "avistamientos_prediccion_rf = rf.predict(atributos_test)\n",
    "rf.score(atributos_test,avistamientos_test)"
   ]
  },
  {
   "cell_type": "markdown",
   "metadata": {},
   "source": [
    "### Vecino más cercano"
   ]
  },
  {
   "cell_type": "code",
   "execution_count": null,
   "metadata": {},
   "outputs": [],
   "source": []
  }
 ],
 "metadata": {
  "kernelspec": {
   "display_name": "Python 3",
   "language": "python",
   "name": "python3"
  },
  "language_info": {
   "codemirror_mode": {
    "name": "ipython",
    "version": 3
   },
   "file_extension": ".py",
   "mimetype": "text/x-python",
   "name": "python",
   "nbconvert_exporter": "python",
   "pygments_lexer": "ipython3",
   "version": "3.7.6"
  }
 },
 "nbformat": 4,
 "nbformat_minor": 4
}
