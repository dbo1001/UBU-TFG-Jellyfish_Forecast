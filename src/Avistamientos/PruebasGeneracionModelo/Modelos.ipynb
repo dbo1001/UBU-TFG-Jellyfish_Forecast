{
 "cells": [
  {
   "cell_type": "markdown",
   "metadata": {},
   "source": [
    "## imports"
   ]
  },
  {
   "cell_type": "code",
   "execution_count": 21,
   "metadata": {},
   "outputs": [],
   "source": [
    "import pandas as pd\n",
    "import matplotlib.pyplot as plt\n",
    "import numpy as np\n",
    "import xarray as xr\n",
    "# scikit\n",
    "from sklearn import datasets, linear_model\n",
    "from sklearn.metrics import mean_squared_error, r2_score\n",
    "from sklearn.model_selection import train_test_split\n",
    "\n",
    "from sklearn.datasets import make_regression\n",
    "from sklearn.neighbors import KNeighborsRegressor\n",
    "import time"
   ]
  },
  {
   "cell_type": "markdown",
   "metadata": {},
   "source": [
    "## carga de datos"
   ]
  },
  {
   "cell_type": "code",
   "execution_count": 53,
   "metadata": {
    "scrolled": false
   },
   "outputs": [
    {
     "data": {
      "text/html": [
       "<div>\n",
       "<style scoped>\n",
       "    .dataframe tbody tr th:only-of-type {\n",
       "        vertical-align: middle;\n",
       "    }\n",
       "\n",
       "    .dataframe tbody tr th {\n",
       "        vertical-align: top;\n",
       "    }\n",
       "\n",
       "    .dataframe thead th {\n",
       "        text-align: right;\n",
       "    }\n",
       "</style>\n",
       "<table border=\"1\" class=\"dataframe\">\n",
       "  <thead>\n",
       "    <tr style=\"text-align: right;\">\n",
       "      <th></th>\n",
       "      <th>index_0</th>\n",
       "      <th>mlotst_0</th>\n",
       "      <th>zos_0</th>\n",
       "      <th>bottomT_0</th>\n",
       "      <th>thetao_0</th>\n",
       "      <th>so_0</th>\n",
       "      <th>uo_0</th>\n",
       "      <th>vo_0</th>\n",
       "      <th>Profundidad_izq_1_0</th>\n",
       "      <th>mlotst_izq_1_0</th>\n",
       "      <th>...</th>\n",
       "      <th>uo_inf_2.1_10</th>\n",
       "      <th>vo_inf_2.1_10</th>\n",
       "      <th>Profundidad_inf_2.2_10</th>\n",
       "      <th>mlotst_inf_2.2_10</th>\n",
       "      <th>zos_inf_2.2_10</th>\n",
       "      <th>bottomT_inf_2.2_10</th>\n",
       "      <th>thetao_inf_2.2_10</th>\n",
       "      <th>so_inf_2.2_10</th>\n",
       "      <th>uo_inf_2.2_10</th>\n",
       "      <th>vo_inf_2.2_10</th>\n",
       "    </tr>\n",
       "  </thead>\n",
       "  <tbody>\n",
       "    <tr>\n",
       "      <th>0</th>\n",
       "      <td>0.243295</td>\n",
       "      <td>0.320132</td>\n",
       "      <td>0.480473</td>\n",
       "      <td>0.173296</td>\n",
       "      <td>0.110521</td>\n",
       "      <td>0.572432</td>\n",
       "      <td>0.524528</td>\n",
       "      <td>0.388423</td>\n",
       "      <td>0</td>\n",
       "      <td>0.288889</td>\n",
       "      <td>...</td>\n",
       "      <td>0.592857</td>\n",
       "      <td>0.502732</td>\n",
       "      <td>0</td>\n",
       "      <td>0.310670</td>\n",
       "      <td>0.363342</td>\n",
       "      <td>0.900723</td>\n",
       "      <td>0.146416</td>\n",
       "      <td>0.370817</td>\n",
       "      <td>0.482168</td>\n",
       "      <td>0.416797</td>\n",
       "    </tr>\n",
       "    <tr>\n",
       "      <th>1</th>\n",
       "      <td>0.013410</td>\n",
       "      <td>0.102310</td>\n",
       "      <td>0.362130</td>\n",
       "      <td>0.342146</td>\n",
       "      <td>0.060774</td>\n",
       "      <td>0.601351</td>\n",
       "      <td>0.762264</td>\n",
       "      <td>0.378356</td>\n",
       "      <td>0</td>\n",
       "      <td>0.000000</td>\n",
       "      <td>...</td>\n",
       "      <td>0.521429</td>\n",
       "      <td>0.459624</td>\n",
       "      <td>0</td>\n",
       "      <td>0.007554</td>\n",
       "      <td>0.297035</td>\n",
       "      <td>0.808179</td>\n",
       "      <td>0.009041</td>\n",
       "      <td>0.385877</td>\n",
       "      <td>0.375178</td>\n",
       "      <td>0.455399</td>\n",
       "    </tr>\n",
       "    <tr>\n",
       "      <th>2</th>\n",
       "      <td>0.241379</td>\n",
       "      <td>0.320132</td>\n",
       "      <td>0.480473</td>\n",
       "      <td>0.173296</td>\n",
       "      <td>0.110440</td>\n",
       "      <td>0.572432</td>\n",
       "      <td>0.566038</td>\n",
       "      <td>0.440436</td>\n",
       "      <td>0</td>\n",
       "      <td>0.004444</td>\n",
       "      <td>...</td>\n",
       "      <td>0.670238</td>\n",
       "      <td>0.539769</td>\n",
       "      <td>0</td>\n",
       "      <td>0.113314</td>\n",
       "      <td>0.445822</td>\n",
       "      <td>0.295052</td>\n",
       "      <td>0.807272</td>\n",
       "      <td>0.754016</td>\n",
       "      <td>0.559201</td>\n",
       "      <td>0.453312</td>\n",
       "    </tr>\n",
       "    <tr>\n",
       "      <th>3</th>\n",
       "      <td>0.283525</td>\n",
       "      <td>0.339934</td>\n",
       "      <td>0.356805</td>\n",
       "      <td>0.414651</td>\n",
       "      <td>0.166385</td>\n",
       "      <td>0.556757</td>\n",
       "      <td>0.516981</td>\n",
       "      <td>0.432886</td>\n",
       "      <td>0</td>\n",
       "      <td>0.140000</td>\n",
       "      <td>...</td>\n",
       "      <td>0.507143</td>\n",
       "      <td>0.660595</td>\n",
       "      <td>0</td>\n",
       "      <td>0.192635</td>\n",
       "      <td>0.266846</td>\n",
       "      <td>0.318156</td>\n",
       "      <td>0.505854</td>\n",
       "      <td>0.666332</td>\n",
       "      <td>0.544936</td>\n",
       "      <td>0.383933</td>\n",
       "    </tr>\n",
       "    <tr>\n",
       "      <th>4</th>\n",
       "      <td>0.289272</td>\n",
       "      <td>0.339934</td>\n",
       "      <td>0.284615</td>\n",
       "      <td>0.397160</td>\n",
       "      <td>0.141753</td>\n",
       "      <td>0.555946</td>\n",
       "      <td>0.427673</td>\n",
       "      <td>0.402685</td>\n",
       "      <td>0</td>\n",
       "      <td>0.140000</td>\n",
       "      <td>...</td>\n",
       "      <td>0.464286</td>\n",
       "      <td>0.647845</td>\n",
       "      <td>0</td>\n",
       "      <td>0.191690</td>\n",
       "      <td>0.237736</td>\n",
       "      <td>0.253599</td>\n",
       "      <td>0.225771</td>\n",
       "      <td>0.628515</td>\n",
       "      <td>0.333809</td>\n",
       "      <td>0.525822</td>\n",
       "    </tr>\n",
       "  </tbody>\n",
       "</table>\n",
       "<p>5 rows × 264 columns</p>\n",
       "</div>"
      ],
      "text/plain": [
       "    index_0  mlotst_0     zos_0  bottomT_0  thetao_0      so_0      uo_0  \\\n",
       "0  0.243295  0.320132  0.480473   0.173296  0.110521  0.572432  0.524528   \n",
       "1  0.013410  0.102310  0.362130   0.342146  0.060774  0.601351  0.762264   \n",
       "2  0.241379  0.320132  0.480473   0.173296  0.110440  0.572432  0.566038   \n",
       "3  0.283525  0.339934  0.356805   0.414651  0.166385  0.556757  0.516981   \n",
       "4  0.289272  0.339934  0.284615   0.397160  0.141753  0.555946  0.427673   \n",
       "\n",
       "       vo_0  Profundidad_izq_1_0  mlotst_izq_1_0  ...  uo_inf_2.1_10  \\\n",
       "0  0.388423                    0        0.288889  ...       0.592857   \n",
       "1  0.378356                    0        0.000000  ...       0.521429   \n",
       "2  0.440436                    0        0.004444  ...       0.670238   \n",
       "3  0.432886                    0        0.140000  ...       0.507143   \n",
       "4  0.402685                    0        0.140000  ...       0.464286   \n",
       "\n",
       "   vo_inf_2.1_10  Profundidad_inf_2.2_10  mlotst_inf_2.2_10  zos_inf_2.2_10  \\\n",
       "0       0.502732                       0           0.310670        0.363342   \n",
       "1       0.459624                       0           0.007554        0.297035   \n",
       "2       0.539769                       0           0.113314        0.445822   \n",
       "3       0.660595                       0           0.192635        0.266846   \n",
       "4       0.647845                       0           0.191690        0.237736   \n",
       "\n",
       "   bottomT_inf_2.2_10  thetao_inf_2.2_10  so_inf_2.2_10  uo_inf_2.2_10  \\\n",
       "0            0.900723           0.146416       0.370817       0.482168   \n",
       "1            0.808179           0.009041       0.385877       0.375178   \n",
       "2            0.295052           0.807272       0.754016       0.559201   \n",
       "3            0.318156           0.505854       0.666332       0.544936   \n",
       "4            0.253599           0.225771       0.628515       0.333809   \n",
       "\n",
       "   vo_inf_2.2_10  \n",
       "0       0.416797  \n",
       "1       0.455399  \n",
       "2       0.453312  \n",
       "3       0.383933  \n",
       "4       0.525822  \n",
       "\n",
       "[5 rows x 264 columns]"
      ]
     },
     "execution_count": 53,
     "metadata": {},
     "output_type": "execute_result"
    }
   ],
   "source": [
    "#  CARGA DATAFRAME ATRIBUTOS\n",
    "df_atributos = pd.read_excel('dfAtributosNormalizado2_-EstructuraFinal14dias.xlsx.xlsx').drop('Unnamed: 0',axis=1)\n",
    "df_atributos.head()"
   ]
  },
  {
   "cell_type": "code",
   "execution_count": 3,
   "metadata": {},
   "outputs": [
    {
     "data": {
      "text/html": [
       "<div>\n",
       "<style scoped>\n",
       "    .dataframe tbody tr th:only-of-type {\n",
       "        vertical-align: middle;\n",
       "    }\n",
       "\n",
       "    .dataframe tbody tr th {\n",
       "        vertical-align: top;\n",
       "    }\n",
       "\n",
       "    .dataframe thead th {\n",
       "        text-align: right;\n",
       "    }\n",
       "</style>\n",
       "<table border=\"1\" class=\"dataframe\">\n",
       "  <thead>\n",
       "    <tr style=\"text-align: right;\">\n",
       "      <th></th>\n",
       "      <th>Avistamientos</th>\n",
       "    </tr>\n",
       "  </thead>\n",
       "  <tbody>\n",
       "    <tr>\n",
       "      <th>0</th>\n",
       "      <td>1</td>\n",
       "    </tr>\n",
       "    <tr>\n",
       "      <th>1</th>\n",
       "      <td>1</td>\n",
       "    </tr>\n",
       "    <tr>\n",
       "      <th>2</th>\n",
       "      <td>1</td>\n",
       "    </tr>\n",
       "    <tr>\n",
       "      <th>3</th>\n",
       "      <td>20</td>\n",
       "    </tr>\n",
       "    <tr>\n",
       "      <th>4</th>\n",
       "      <td>151</td>\n",
       "    </tr>\n",
       "  </tbody>\n",
       "</table>\n",
       "</div>"
      ],
      "text/plain": [
       "   Avistamientos\n",
       "0              1\n",
       "1              1\n",
       "2              1\n",
       "3             20\n",
       "4            151"
      ]
     },
     "execution_count": 3,
     "metadata": {},
     "output_type": "execute_result"
    }
   ],
   "source": [
    "#  CARGA DATAFRAME AVISTAMIENTOS\n",
    "df_avistamientos = pd.read_excel('dfAvistamientos.xlsx').drop('Unnamed: 0',axis=1)\n",
    "df_avistamientos.head()"
   ]
  },
  {
   "cell_type": "code",
   "execution_count": 29,
   "metadata": {},
   "outputs": [
    {
     "data": {
      "text/plain": [
       "numpy.ndarray"
      ]
     },
     "execution_count": 29,
     "metadata": {},
     "output_type": "execute_result"
    }
   ],
   "source": [
    "# DATAFRAMES A LISTAS\n",
    "listado_atributos = df_atributos.values.tolist()\n",
    "listado_avistamientos = df_avistamientos.values.tolist()\n",
    "# CONJUNTOS DE ENTRENAMIENTO Y TEST\n",
    "atributos_train, atributos_test, avistamientos_train, avistamientos_test = train_test_split(listado_atributos,listado_avistamientos,test_size=0.2)\n",
    "atributos_train = np.array(atributos_train)\n",
    "atributos_test = np.array(atributos_test)\n",
    "avistamientos_train = np.ravel(np.array(avistamientos_train))\n",
    "avistamientos_test = np.ravel(np.array(avistamientos_test))\n",
    "type(avistamientos_train)"
   ]
  },
  {
   "cell_type": "code",
   "execution_count": null,
   "metadata": {},
   "outputs": [],
   "source": []
  },
  {
   "cell_type": "code",
   "execution_count": 5,
   "metadata": {},
   "outputs": [],
   "source": [
    "def imprimir(mod,X_test,Y_test,Y_prediccion):\n",
    "    # COEFICIENTES (pendientes)\n",
    "    print('Coeficientes:')\n",
    "    print(mod.coef_)\n",
    "    print(mod.intercept_)\n",
    "    # The mean squared error\n",
    "    print('Error cuadrático medio: %.2f'% mean_squared_error(Y_test, Y_prediccion))\n",
    "    # The coefficient of determination: 1 is perfect prediction\n",
    "    print('Coeficiente de determinación con datos test: %.2f'% mod.score(X_test, Y_test)) \n",
    "    print('Coeficiente de determinación con datos train: %.2f'% mod.score(atributos_train, avistamientos_train)) \n",
    "    print(r2_score(Y_test, Y_prediccion))\n",
    "\n",
    "    plt.plot(Y_test,'r')\n",
    "    plt.plot(Y_prediccion,'g')\n",
    "    plt.show()\n",
    "    \n",
    "    # datos que teniamos y los uqe hemos obtenido\n",
    "    # [print(Y_test[i],Y_pred[i]) for i in range(len(Y_pred))]"
   ]
  },
  {
   "attachments": {
    "image.png": {
     "image/png": "[encoded data removed]"
    }
   },
   "cell_type": "markdown",
   "metadata": {},
   "source": [
    "### Regresion Lineal\n",
    "![image.png](attachment:image.png)"
   ]
  },
  {
   "cell_type": "code",
   "execution_count": 6,
   "metadata": {},
   "outputs": [],
   "source": [
    "# REGRESION LINEAL\n",
    "lr = linear_model.LinearRegression()\n",
    "# se entrena al modelo\n",
    "lr.fit(atributos_train,avistamientos_train)\n",
    "# prediccion\n",
    "avistamientos_prediccion_lineal = lr.predict(atributos_test)"
   ]
  },
  {
   "cell_type": "code",
   "execution_count": 7,
   "metadata": {},
   "outputs": [
    {
     "data": {
      "text/plain": [
       "137964.37608665373"
      ]
     },
     "execution_count": 7,
     "metadata": {},
     "output_type": "execute_result"
    }
   ],
   "source": [
    "scores_regr = mean_squared_error(avistamientos_test, avistamientos_prediccion_lineal)\n",
    "scores_regr"
   ]
  },
  {
   "cell_type": "code",
   "execution_count": 8,
   "metadata": {},
   "outputs": [
    {
     "name": "stdout",
     "output_type": "stream",
     "text": [
      "Coeficientes:\n",
      "[-1.00975102e+12 -1.54156371e+15  6.39789232e+14  8.92480198e+14\n",
      "  1.29473993e+03 -2.74296820e+03  2.85318318e+03 -1.68012669e+03\n",
      " -1.55055968e+14  3.49004227e+14  3.05548749e+14  6.31430019e+13\n",
      "  4.43943750e+03  2.40029688e+03 -9.71482227e+03 -2.06320898e+03\n",
      "  5.00931857e+13 -3.03045773e+13 -2.87287433e+13  1.54357961e+14\n",
      " -1.39606250e+03  1.91621484e+03 -8.82325000e+03  5.99243750e+03\n",
      " -5.70767123e+13 -3.89898012e+13 -9.59655293e+13  3.94555781e+13\n",
      "  5.72565625e+03 -1.65219141e+03  6.23525781e+03 -8.51700781e+03\n",
      " -4.12917275e+12 -1.45103436e+13  1.08848689e+13  1.83477103e+12\n",
      " -6.40376562e+03 -4.28312500e+03  5.94016406e+03  7.71406250e+02\n",
      "  3.21327417e+13 -2.89221038e+13  1.09632191e+13  1.08301664e+13\n",
      " -2.35728125e+03 -3.02393750e+03  1.11140625e+02  1.40818750e+03\n",
      "  4.13069659e+13 -3.46601648e+12  8.48705927e+12 -1.19988855e+13\n",
      " -2.92298438e+04  3.71116406e+03  9.46906250e+03  2.11761914e+04\n",
      " -2.22866018e+13 -1.44225975e+13  7.95947594e+12  3.03205766e+12\n",
      "  1.84805625e+04 -1.36510469e+04 -9.47772656e+03 -2.07710000e+04\n",
      " -3.15223171e+12 -2.63390946e+12  5.72642760e+12 -5.59214416e+12\n",
      " -6.49434375e+03  8.22836719e+03  1.95744766e+04 -1.40626758e+03\n",
      "  7.04615970e+12  3.89153209e+12  1.59733921e+12  8.90788389e+12\n",
      "  1.25649375e+04  4.57138672e+03 -8.93387109e+03 -2.68520312e+03\n",
      " -3.49779578e+12  9.83422053e+11 -1.31075908e+12  6.92073125e+11\n",
      "  1.05898438e+03  6.66699219e+02  3.25500000e+02  4.56017188e+03\n",
      "  2.27772083e+13  7.73499549e+14 -3.14601939e+14 -4.48169000e+14\n",
      " -3.52843750e+02  6.98760156e+03 -2.58206250e+03  1.31776172e+03\n",
      "  3.29660336e+12 -1.70403919e+14 -1.52899109e+14 -2.93213444e+13\n",
      " -3.71918750e+03  4.81350781e+03  7.66520312e+03  1.93613281e+03\n",
      " -4.88299278e+12  1.46383883e+13  1.38530555e+13 -7.94625216e+13\n",
      " -1.03973438e+03 -5.04776562e+03  1.15457734e+04 -5.88637500e+03\n",
      " -6.57129601e+11  1.99939073e+13  4.88377374e+13 -1.94985308e+13\n",
      " -4.26118750e+03  4.97657031e+03 -6.81060938e+03  7.77485938e+03\n",
      " -1.29325729e+12  6.95402184e+12 -5.52508199e+12 -1.18299882e+12\n",
      "  6.11223438e+03 -5.07886719e+02 -5.44361719e+03  2.40616797e+03\n",
      " -3.15601956e+11  1.42771551e+13 -5.02136890e+12 -4.40178156e+12\n",
      "  2.04743359e+03  6.77813281e+03 -9.93195312e+02 -1.85715625e+03\n",
      " -6.93962503e+11  1.31725674e+12 -1.16849928e+13  2.72638261e+13\n",
      "  2.76612812e+04 -2.83544766e+04 -1.08104570e+04 -3.48314717e+04\n",
      " -1.89776085e+10  7.27919389e+12 -3.81015030e+12 -1.64633572e+12\n",
      " -1.52514062e+04  3.49377773e+04  1.35750781e+04  3.24388633e+04\n",
      " -5.35987957e+11  1.02539142e+12 -2.76134918e+12  2.80975884e+12\n",
      "  7.47693750e+03 -2.42425703e+04 -2.14407344e+04 -6.61388672e+02\n",
      "  2.34909722e+11 -1.76839768e+12 -7.83827175e+11 -4.53796905e+12\n",
      " -1.32822812e+04  8.72087891e+03  7.97496094e+03  6.76965234e+03\n",
      "  0.00000000e+00 -4.91711027e+11  6.55379540e+11 -3.46036562e+11\n",
      "  2.94156250e+02  7.32477344e+03 -1.19157422e+03 -4.04927344e+03\n",
      " -2.17674573e+13  7.68064159e+14 -3.25187294e+14 -4.44311198e+14\n",
      " -6.51804688e+02 -4.59376953e+03 -1.67769531e+02  9.84179688e+01\n",
      "  0.00000000e+00 -1.78600308e+14 -1.52649641e+14 -3.38216575e+13\n",
      "  3.95296875e+02 -7.17859766e+03  1.37442188e+03 -1.17808594e+03\n",
      "  0.00000000e+00  1.56661890e+13  1.48756878e+13 -7.48954396e+13\n",
      "  1.19744531e+03  2.97121875e+03 -1.99761719e+03  9.96078125e+02\n",
      "  0.00000000e+00  1.89958938e+13  4.71277918e+13 -1.99570473e+13\n",
      " -1.15812500e+03 -3.57178906e+03  1.05932812e+03  8.75054688e+02\n",
      "  0.00000000e+00  7.55632175e+12 -5.35978695e+12 -6.51772209e+11\n",
      " -6.29671875e+02  6.42991016e+03 -5.77761719e+02 -2.14183594e+03\n",
      "  0.00000000e+00  1.46449487e+13 -5.94185023e+12 -6.42838484e+12\n",
      " -6.84570312e+01 -4.30770312e+03  5.31003906e+02  3.61792969e+02\n",
      "  0.00000000e+00  2.14875973e+12  3.19793349e+12 -1.52649406e+13\n",
      "  7.95625000e+02  1.95042188e+04  1.56132031e+03  1.27682148e+04\n",
      "  0.00000000e+00  7.14340357e+12 -4.14932564e+12 -1.38572194e+12\n",
      " -3.16990625e+03 -1.77798906e+04 -5.13006250e+03 -1.04530947e+04\n",
      "  0.00000000e+00  1.60851803e+12 -2.96507843e+12  2.78238532e+12\n",
      " -1.74878125e+03  1.85470078e+04  1.74231250e+03  2.36843945e+03\n",
      "  0.00000000e+00 -2.12313440e+12 -8.13512054e+11 -4.36991484e+12\n",
      "  2.37534375e+03 -1.32435391e+04  1.03319141e+03 -4.39213281e+03\n",
      "  0.00000000e+00 -4.91711027e+11  6.55379540e+11 -3.46036562e+11\n",
      " -1.13900000e+03 -9.78791406e+03  1.51607812e+03  1.17582031e+02]\n",
      "-496.0866851076555\n",
      "Error cuadrático medio: 137964.38\n",
      "Coeficiente de determinación con datos test: -0.11\n",
      "Coeficiente de determinación con datos train: 0.45\n",
      "-0.1080413601538035\n"
     ]
    },
    {
     "data": {
      "image/png": "[encoded data removed]",
      "text/plain": [
       "<Figure size 432x288 with 1 Axes>"
      ]
     },
     "metadata": {
      "needs_background": "light"
     },
     "output_type": "display_data"
    }
   ],
   "source": [
    "imprimir(lr,atributos_test,avistamientos_test,avistamientos_prediccion_lineal)"
   ]
  },
  {
   "cell_type": "markdown",
   "metadata": {},
   "source": [
    "### Polinomial"
   ]
  },
  {
   "cell_type": "code",
   "execution_count": 9,
   "metadata": {
    "collapsed": true
   },
   "outputs": [
    {
     "ename": "KeyboardInterrupt",
     "evalue": "",
     "output_type": "error",
     "traceback": [
      "\u001b[0;31m---------------------------------------------------------------------------\u001b[0m",
      "\u001b[0;31mKeyboardInterrupt\u001b[0m                         Traceback (most recent call last)",
      "\u001b[0;32m<ipython-input-9-5447088e256c>\u001b[0m in \u001b[0;36m<module>\u001b[0;34m\u001b[0m\n\u001b[1;32m      5\u001b[0m model = Pipeline([('poly', PolynomialFeatures(degree=5)),\n\u001b[1;32m      6\u001b[0m                   ('linear', LinearRegression(fit_intercept=False))])\n\u001b[0;32m----> 7\u001b[0;31m \u001b[0mmodel\u001b[0m \u001b[0;34m=\u001b[0m \u001b[0mmodel\u001b[0m\u001b[0;34m.\u001b[0m\u001b[0mfit\u001b[0m\u001b[0;34m(\u001b[0m\u001b[0matributos_train\u001b[0m\u001b[0;34m,\u001b[0m\u001b[0mavistamientos_train\u001b[0m\u001b[0;34m)\u001b[0m\u001b[0;34m\u001b[0m\u001b[0;34m\u001b[0m\u001b[0m\n\u001b[0m\u001b[1;32m      8\u001b[0m \u001b[0;34m\u001b[0m\u001b[0m\n\u001b[1;32m      9\u001b[0m \u001b[0mmodel\u001b[0m\u001b[0;34m.\u001b[0m\u001b[0mnamed_steps\u001b[0m\u001b[0;34m[\u001b[0m\u001b[0;34m'linear'\u001b[0m\u001b[0;34m]\u001b[0m\u001b[0;34m.\u001b[0m\u001b[0mcoef_\u001b[0m\u001b[0;34m\u001b[0m\u001b[0;34m\u001b[0m\u001b[0m\n",
      "\u001b[0;32m~/anaconda3/envs/entornoPrueba/lib/python3.7/site-packages/sklearn/pipeline.py\u001b[0m in \u001b[0;36mfit\u001b[0;34m(self, X, y, **fit_params)\u001b[0m\n\u001b[1;32m    348\u001b[0m             \u001b[0mThis\u001b[0m \u001b[0mestimator\u001b[0m\u001b[0;34m\u001b[0m\u001b[0;34m\u001b[0m\u001b[0m\n\u001b[1;32m    349\u001b[0m         \"\"\"\n\u001b[0;32m--> 350\u001b[0;31m         \u001b[0mXt\u001b[0m\u001b[0;34m,\u001b[0m \u001b[0mfit_params\u001b[0m \u001b[0;34m=\u001b[0m \u001b[0mself\u001b[0m\u001b[0;34m.\u001b[0m\u001b[0m_fit\u001b[0m\u001b[0;34m(\u001b[0m\u001b[0mX\u001b[0m\u001b[0;34m,\u001b[0m \u001b[0my\u001b[0m\u001b[0;34m,\u001b[0m \u001b[0;34m**\u001b[0m\u001b[0mfit_params\u001b[0m\u001b[0;34m)\u001b[0m\u001b[0;34m\u001b[0m\u001b[0;34m\u001b[0m\u001b[0m\n\u001b[0m\u001b[1;32m    351\u001b[0m         with _print_elapsed_time('Pipeline',\n\u001b[1;32m    352\u001b[0m                                  self._log_message(len(self.steps) - 1)):\n",
      "\u001b[0;32m~/anaconda3/envs/entornoPrueba/lib/python3.7/site-packages/sklearn/pipeline.py\u001b[0m in \u001b[0;36m_fit\u001b[0;34m(self, X, y, **fit_params)\u001b[0m\n\u001b[1;32m    313\u001b[0m                 \u001b[0mmessage_clsname\u001b[0m\u001b[0;34m=\u001b[0m\u001b[0;34m'Pipeline'\u001b[0m\u001b[0;34m,\u001b[0m\u001b[0;34m\u001b[0m\u001b[0;34m\u001b[0m\u001b[0m\n\u001b[1;32m    314\u001b[0m                 \u001b[0mmessage\u001b[0m\u001b[0;34m=\u001b[0m\u001b[0mself\u001b[0m\u001b[0;34m.\u001b[0m\u001b[0m_log_message\u001b[0m\u001b[0;34m(\u001b[0m\u001b[0mstep_idx\u001b[0m\u001b[0;34m)\u001b[0m\u001b[0;34m,\u001b[0m\u001b[0;34m\u001b[0m\u001b[0;34m\u001b[0m\u001b[0m\n\u001b[0;32m--> 315\u001b[0;31m                 **fit_params_steps[name])\n\u001b[0m\u001b[1;32m    316\u001b[0m             \u001b[0;31m# Replace the transformer of the step with the fitted\u001b[0m\u001b[0;34m\u001b[0m\u001b[0;34m\u001b[0m\u001b[0;34m\u001b[0m\u001b[0m\n\u001b[1;32m    317\u001b[0m             \u001b[0;31m# transformer. This is necessary when loading the transformer\u001b[0m\u001b[0;34m\u001b[0m\u001b[0;34m\u001b[0m\u001b[0;34m\u001b[0m\u001b[0m\n",
      "\u001b[0;32m~/anaconda3/envs/entornoPrueba/lib/python3.7/site-packages/joblib/memory.py\u001b[0m in \u001b[0;36m__call__\u001b[0;34m(self, *args, **kwargs)\u001b[0m\n\u001b[1;32m    353\u001b[0m \u001b[0;34m\u001b[0m\u001b[0m\n\u001b[1;32m    354\u001b[0m     \u001b[0;32mdef\u001b[0m \u001b[0m__call__\u001b[0m\u001b[0;34m(\u001b[0m\u001b[0mself\u001b[0m\u001b[0;34m,\u001b[0m \u001b[0;34m*\u001b[0m\u001b[0margs\u001b[0m\u001b[0;34m,\u001b[0m \u001b[0;34m**\u001b[0m\u001b[0mkwargs\u001b[0m\u001b[0;34m)\u001b[0m\u001b[0;34m:\u001b[0m\u001b[0;34m\u001b[0m\u001b[0;34m\u001b[0m\u001b[0m\n\u001b[0;32m--> 355\u001b[0;31m         \u001b[0;32mreturn\u001b[0m \u001b[0mself\u001b[0m\u001b[0;34m.\u001b[0m\u001b[0mfunc\u001b[0m\u001b[0;34m(\u001b[0m\u001b[0;34m*\u001b[0m\u001b[0margs\u001b[0m\u001b[0;34m,\u001b[0m \u001b[0;34m**\u001b[0m\u001b[0mkwargs\u001b[0m\u001b[0;34m)\u001b[0m\u001b[0;34m\u001b[0m\u001b[0;34m\u001b[0m\u001b[0m\n\u001b[0m\u001b[1;32m    356\u001b[0m \u001b[0;34m\u001b[0m\u001b[0m\n\u001b[1;32m    357\u001b[0m     \u001b[0;32mdef\u001b[0m \u001b[0mcall_and_shelve\u001b[0m\u001b[0;34m(\u001b[0m\u001b[0mself\u001b[0m\u001b[0;34m,\u001b[0m \u001b[0;34m*\u001b[0m\u001b[0margs\u001b[0m\u001b[0;34m,\u001b[0m \u001b[0;34m**\u001b[0m\u001b[0mkwargs\u001b[0m\u001b[0;34m)\u001b[0m\u001b[0;34m:\u001b[0m\u001b[0;34m\u001b[0m\u001b[0;34m\u001b[0m\u001b[0m\n",
      "\u001b[0;32m~/anaconda3/envs/entornoPrueba/lib/python3.7/site-packages/sklearn/pipeline.py\u001b[0m in \u001b[0;36m_fit_transform_one\u001b[0;34m(transformer, X, y, weight, message_clsname, message, **fit_params)\u001b[0m\n\u001b[1;32m    726\u001b[0m     \u001b[0;32mwith\u001b[0m \u001b[0m_print_elapsed_time\u001b[0m\u001b[0;34m(\u001b[0m\u001b[0mmessage_clsname\u001b[0m\u001b[0;34m,\u001b[0m \u001b[0mmessage\u001b[0m\u001b[0;34m)\u001b[0m\u001b[0;34m:\u001b[0m\u001b[0;34m\u001b[0m\u001b[0;34m\u001b[0m\u001b[0m\n\u001b[1;32m    727\u001b[0m         \u001b[0;32mif\u001b[0m \u001b[0mhasattr\u001b[0m\u001b[0;34m(\u001b[0m\u001b[0mtransformer\u001b[0m\u001b[0;34m,\u001b[0m \u001b[0;34m'fit_transform'\u001b[0m\u001b[0;34m)\u001b[0m\u001b[0;34m:\u001b[0m\u001b[0;34m\u001b[0m\u001b[0;34m\u001b[0m\u001b[0m\n\u001b[0;32m--> 728\u001b[0;31m             \u001b[0mres\u001b[0m \u001b[0;34m=\u001b[0m \u001b[0mtransformer\u001b[0m\u001b[0;34m.\u001b[0m\u001b[0mfit_transform\u001b[0m\u001b[0;34m(\u001b[0m\u001b[0mX\u001b[0m\u001b[0;34m,\u001b[0m \u001b[0my\u001b[0m\u001b[0;34m,\u001b[0m \u001b[0;34m**\u001b[0m\u001b[0mfit_params\u001b[0m\u001b[0;34m)\u001b[0m\u001b[0;34m\u001b[0m\u001b[0;34m\u001b[0m\u001b[0m\n\u001b[0m\u001b[1;32m    729\u001b[0m         \u001b[0;32melse\u001b[0m\u001b[0;34m:\u001b[0m\u001b[0;34m\u001b[0m\u001b[0;34m\u001b[0m\u001b[0m\n\u001b[1;32m    730\u001b[0m             \u001b[0mres\u001b[0m \u001b[0;34m=\u001b[0m \u001b[0mtransformer\u001b[0m\u001b[0;34m.\u001b[0m\u001b[0mfit\u001b[0m\u001b[0;34m(\u001b[0m\u001b[0mX\u001b[0m\u001b[0;34m,\u001b[0m \u001b[0my\u001b[0m\u001b[0;34m,\u001b[0m \u001b[0;34m**\u001b[0m\u001b[0mfit_params\u001b[0m\u001b[0;34m)\u001b[0m\u001b[0;34m.\u001b[0m\u001b[0mtransform\u001b[0m\u001b[0;34m(\u001b[0m\u001b[0mX\u001b[0m\u001b[0;34m)\u001b[0m\u001b[0;34m\u001b[0m\u001b[0;34m\u001b[0m\u001b[0m\n",
      "\u001b[0;32m~/anaconda3/envs/entornoPrueba/lib/python3.7/site-packages/sklearn/base.py\u001b[0m in \u001b[0;36mfit_transform\u001b[0;34m(self, X, y, **fit_params)\u001b[0m\n\u001b[1;32m    572\u001b[0m         \u001b[0;32melse\u001b[0m\u001b[0;34m:\u001b[0m\u001b[0;34m\u001b[0m\u001b[0;34m\u001b[0m\u001b[0m\n\u001b[1;32m    573\u001b[0m             \u001b[0;31m# fit method of arity 2 (supervised transformation)\u001b[0m\u001b[0;34m\u001b[0m\u001b[0;34m\u001b[0m\u001b[0;34m\u001b[0m\u001b[0m\n\u001b[0;32m--> 574\u001b[0;31m             \u001b[0;32mreturn\u001b[0m \u001b[0mself\u001b[0m\u001b[0;34m.\u001b[0m\u001b[0mfit\u001b[0m\u001b[0;34m(\u001b[0m\u001b[0mX\u001b[0m\u001b[0;34m,\u001b[0m \u001b[0my\u001b[0m\u001b[0;34m,\u001b[0m \u001b[0;34m**\u001b[0m\u001b[0mfit_params\u001b[0m\u001b[0;34m)\u001b[0m\u001b[0;34m.\u001b[0m\u001b[0mtransform\u001b[0m\u001b[0;34m(\u001b[0m\u001b[0mX\u001b[0m\u001b[0;34m)\u001b[0m\u001b[0;34m\u001b[0m\u001b[0;34m\u001b[0m\u001b[0m\n\u001b[0m\u001b[1;32m    575\u001b[0m \u001b[0;34m\u001b[0m\u001b[0m\n\u001b[1;32m    576\u001b[0m \u001b[0;34m\u001b[0m\u001b[0m\n",
      "\u001b[0;32m~/anaconda3/envs/entornoPrueba/lib/python3.7/site-packages/sklearn/preprocessing/_data.py\u001b[0m in \u001b[0;36mfit\u001b[0;34m(self, X, y)\u001b[0m\n\u001b[1;32m   1511\u001b[0m                                           self.include_bias)\n\u001b[1;32m   1512\u001b[0m         \u001b[0mself\u001b[0m\u001b[0;34m.\u001b[0m\u001b[0mn_input_features_\u001b[0m \u001b[0;34m=\u001b[0m \u001b[0mn_features\u001b[0m\u001b[0;34m\u001b[0m\u001b[0;34m\u001b[0m\u001b[0m\n\u001b[0;32m-> 1513\u001b[0;31m         \u001b[0mself\u001b[0m\u001b[0;34m.\u001b[0m\u001b[0mn_output_features_\u001b[0m \u001b[0;34m=\u001b[0m \u001b[0msum\u001b[0m\u001b[0;34m(\u001b[0m\u001b[0;36m1\u001b[0m \u001b[0;32mfor\u001b[0m \u001b[0m_\u001b[0m \u001b[0;32min\u001b[0m \u001b[0mcombinations\u001b[0m\u001b[0;34m)\u001b[0m\u001b[0;34m\u001b[0m\u001b[0;34m\u001b[0m\u001b[0m\n\u001b[0m\u001b[1;32m   1514\u001b[0m         \u001b[0;32mreturn\u001b[0m \u001b[0mself\u001b[0m\u001b[0;34m\u001b[0m\u001b[0;34m\u001b[0m\u001b[0m\n\u001b[1;32m   1515\u001b[0m \u001b[0;34m\u001b[0m\u001b[0m\n",
      "\u001b[0;32m~/anaconda3/envs/entornoPrueba/lib/python3.7/site-packages/sklearn/preprocessing/_data.py\u001b[0m in \u001b[0;36m<genexpr>\u001b[0;34m(.0)\u001b[0m\n\u001b[1;32m   1511\u001b[0m                                           self.include_bias)\n\u001b[1;32m   1512\u001b[0m         \u001b[0mself\u001b[0m\u001b[0;34m.\u001b[0m\u001b[0mn_input_features_\u001b[0m \u001b[0;34m=\u001b[0m \u001b[0mn_features\u001b[0m\u001b[0;34m\u001b[0m\u001b[0;34m\u001b[0m\u001b[0m\n\u001b[0;32m-> 1513\u001b[0;31m         \u001b[0mself\u001b[0m\u001b[0;34m.\u001b[0m\u001b[0mn_output_features_\u001b[0m \u001b[0;34m=\u001b[0m \u001b[0msum\u001b[0m\u001b[0;34m(\u001b[0m\u001b[0;36m1\u001b[0m \u001b[0;32mfor\u001b[0m \u001b[0m_\u001b[0m \u001b[0;32min\u001b[0m \u001b[0mcombinations\u001b[0m\u001b[0;34m)\u001b[0m\u001b[0;34m\u001b[0m\u001b[0;34m\u001b[0m\u001b[0m\n\u001b[0m\u001b[1;32m   1514\u001b[0m         \u001b[0;32mreturn\u001b[0m \u001b[0mself\u001b[0m\u001b[0;34m\u001b[0m\u001b[0;34m\u001b[0m\u001b[0m\n\u001b[1;32m   1515\u001b[0m \u001b[0;34m\u001b[0m\u001b[0m\n",
      "\u001b[0;31mKeyboardInterrupt\u001b[0m: "
     ]
    }
   ],
   "source": [
    "from sklearn.preprocessing import PolynomialFeatures\n",
    "from sklearn.pipeline import Pipeline\n",
    "from sklearn.linear_model import LinearRegression\n",
    "\n",
    "model = Pipeline([('poly', PolynomialFeatures(degree=5)),\n",
    "                  ('linear', LinearRegression(fit_intercept=False))])\n",
    "model = model.fit(atributos_train,avistamientos_train)\n",
    "\n",
    "model.named_steps['linear'].coef_\n",
    "\n",
    "avistamientos_pred_pol = model.predict(atributos_test)\n"
   ]
  },
  {
   "cell_type": "code",
   "execution_count": null,
   "metadata": {},
   "outputs": [],
   "source": [
    "print(model.score(atributos_test,avistamientos_test))\n",
    "plt.plot(avistamientos_test,'r')\n",
    "plt.plot(avistamientos_pred_pol,'g')\n",
    "plt.show()"
   ]
  },
  {
   "cell_type": "markdown",
   "metadata": {},
   "source": [
    "### Random Forest"
   ]
  },
  {
   "cell_type": "code",
   "execution_count": 10,
   "metadata": {},
   "outputs": [
    {
     "data": {
      "text/plain": [
       "0.21058732570110938"
      ]
     },
     "execution_count": 10,
     "metadata": {},
     "output_type": "execute_result"
    }
   ],
   "source": [
    "from sklearn.ensemble import RandomForestRegressor\n",
    "rf = RandomForestRegressor(n_estimators=100)\n",
    "rf.fit(atributos_train,avistamientos_train)\n",
    "\n",
    "avistamientos_prediccion_rf = rf.predict(atributos_test)\n",
    "rf.score(atributos_test,avistamientos_test)"
   ]
  },
  {
   "cell_type": "code",
   "execution_count": 11,
   "metadata": {},
   "outputs": [
    {
     "data": {
      "text/plain": [
       "0.17793253494897532"
      ]
     },
     "execution_count": 11,
     "metadata": {},
     "output_type": "execute_result"
    }
   ],
   "source": [
    "rf = RandomForestRegressor(n_estimators=1000,max_features=3,max_depth=100)\n",
    "rf.fit(atributos_train,avistamientos_train)\n",
    "\n",
    "avistamientos_prediccion_rf = rf.predict(atributos_test)\n",
    "rf.score(atributos_test,avistamientos_test)\n"
   ]
  },
  {
   "cell_type": "code",
   "execution_count": 54,
   "metadata": {},
   "outputs": [
    {
     "name": "stdout",
     "output_type": "stream",
     "text": [
      "{'max_depth': 45, 'max_features': 48, 'n_estimators': 118}\n",
      "tiempor requerido 2.3363274335861206 minutos\n"
     ]
    },
    {
     "data": {
      "text/plain": [
       "0.13117388205168287"
      ]
     },
     "execution_count": 54,
     "metadata": {},
     "output_type": "execute_result"
    }
   ],
   "source": [
    "## RandomizedSearchCV\n",
    "inicio = time.time()\n",
    "from sklearn.datasets import fetch_california_housing\n",
    "from sklearn.ensemble import RandomForestRegressor\n",
    "from sklearn.model_selection import RandomizedSearchCV\n",
    "from sklearn.model_selection import train_test_split\n",
    "from scipy.stats import randint\n",
    "\n",
    "# define the parameter space that will be searched over\n",
    "param_distributions = {'n_estimators': randint(1, 500),\n",
    "                       'max_depth': randint(1, 100),\n",
    "                      'max_features': randint(1,atributos_train.shape[1])}\n",
    "\n",
    "busqueda = RandomizedSearchCV(estimator=RandomForestRegressor(random_state=0),\n",
    "                            n_iter=5,\n",
    "                            param_distributions=param_distributions,\n",
    "                            random_state=0)\n",
    "busqueda.fit(atributos_train, avistamientos_train)\n",
    "\n",
    "\n",
    "\n",
    "\n",
    "print(busqueda.best_params_)\n",
    "\n",
    "\n",
    "\n",
    "# the search object now acts like a normal random forest estimator\n",
    "# with max_depth=9 and n_estimators=4\n",
    "busqueda.score(atributos_test, avistamientos_test)\n",
    "fin= time.time()\n",
    "print('tiempo requerido {} minutos'.format((fin-inicio)/60))\n",
    "busqueda.best_score_\n"
   ]
  },
  {
   "cell_type": "code",
   "execution_count": 13,
   "metadata": {},
   "outputs": [
    {
     "name": "stdout",
     "output_type": "stream",
     "text": [
      "0.1897852227619493\n"
     ]
    },
    {
     "data": {
      "text/plain": [
       "60"
      ]
     },
     "execution_count": 13,
     "metadata": {},
     "output_type": "execute_result"
    }
   ],
   "source": [
    "print(busqueda.score(atributos_test, avistamientos_test))\n",
    "busqueda.best_index_"
   ]
  },
  {
   "cell_type": "code",
   "execution_count": 14,
   "metadata": {},
   "outputs": [
    {
     "data": {
      "text/plain": [
       "0.1684101676121953"
      ]
     },
     "execution_count": 14,
     "metadata": {},
     "output_type": "execute_result"
    }
   ],
   "source": [
    "rf = RandomForestRegressor(n_estimators=183,max_features=1,max_depth=81)\n",
    "rf.fit(atributos_train,avistamientos_train)\n",
    "\n",
    "avistamientos_prediccion_rf = rf.predict(atributos_test)\n",
    "rf.score(atributos_test,avistamientos_test)"
   ]
  },
  {
   "cell_type": "code",
   "execution_count": 15,
   "metadata": {},
   "outputs": [
    {
     "name": "stdout",
     "output_type": "stream",
     "text": [
      "0.16891884653100142\n"
     ]
    },
    {
     "data": {
      "image/png": "[encoded data removed]",
      "text/plain": [
       "<Figure size 432x288 with 1 Axes>"
      ]
     },
     "metadata": {
      "needs_background": "light"
     },
     "output_type": "display_data"
    }
   ],
   "source": [
    "rf = RandomForestRegressor(n_estimators=183,max_features=1,max_depth=81)\n",
    "rf.fit(atributos_train,avistamientos_train)\n",
    "\n",
    "avistamientos_prediccion_rf = rf.predict(atributos_test)\n",
    "print(rf.score(atributos_test,avistamientos_test)\n",
    ")\n",
    "plt.plot(avistamientos_test,'r')\n",
    "plt.plot(avistamientos_prediccion_rf,'g')\n",
    "plt.show()"
   ]
  },
  {
   "cell_type": "markdown",
   "metadata": {},
   "source": [
    "### Vecino más cercano"
   ]
  },
  {
   "cell_type": "code",
   "execution_count": 55,
   "metadata": {
    "scrolled": true
   },
   "outputs": [
    {
     "name": "stdout",
     "output_type": "stream",
     "text": [
      "0.16196757535849826\n"
     ]
    },
    {
     "data": {
      "image/png": "[encoded data removed]",
      "text/plain": [
       "<Figure size 432x288 with 1 Axes>"
      ]
     },
     "metadata": {
      "needs_background": "light"
     },
     "output_type": "display_data"
    }
   ],
   "source": [
    "\n",
    "neigh = KNeighborsRegressor(n_neighbors=10)\n",
    "neigh.fit(atributos_train,avistamientos_train)\n",
    "\n",
    "avistamientos_prediccion_vecinos = neigh.predict(atributos_test)\n",
    "print(neigh.score(atributos_test,avistamientos_test))\n",
    "\n",
    "plt.plot(avistamientos_test,'r')\n",
    "plt.plot(avistamientos_prediccion_vecinos,'g')\n",
    "plt.show()\n",
    "# [print('{} - {}'.format(avistamientos_test[i],avistamientos_prediccion_vecinos[i])) for i in range(len(avistamientos_test))]"
   ]
  },
  {
   "cell_type": "code",
   "execution_count": 58,
   "metadata": {},
   "outputs": [
    {
     "data": {
      "text/plain": [
       "0.2774038463256684"
      ]
     },
     "execution_count": 58,
     "metadata": {},
     "output_type": "execute_result"
    }
   ],
   "source": [
    "\n",
    "\n",
    "k_range=list(range(1,atributos_train.shape[1]))\n",
    "# options=['uniform', 'distance']\n",
    "\n",
    "#specify \"parameter distribution\" rather than \"parameter grid\"\n",
    "param_grid=dict(n_neighbors=k_range)\n",
    "\n",
    "knn=KNeighborsRegressor()\n",
    "# rand = RandomizedSearchCV(knn, param_grid, cv=10, scoring='accuracy', n_iter=10, random_state=5)\n",
    "rand = RandomizedSearchCV(knn, param_grid, n_iter=100, random_state=10)\n",
    "rand.fit(atributos_train,avistamientos_train)\n",
    "rand.best_score_"
   ]
  },
  {
   "cell_type": "markdown",
   "metadata": {},
   "source": [
    "### SVM"
   ]
  },
  {
   "cell_type": "code",
   "execution_count": 56,
   "metadata": {},
   "outputs": [
    {
     "name": "stdout",
     "output_type": "stream",
     "text": [
      "-0.07139607682780325\n"
     ]
    },
    {
     "data": {
      "image/png": "[encoded data removed]",
      "text/plain": [
       "<Figure size 432x288 with 1 Axes>"
      ]
     },
     "metadata": {
      "needs_background": "light"
     },
     "output_type": "display_data"
    }
   ],
   "source": [
    "from sklearn import svm\n",
    "svm_reg = svm.SVR()\n",
    "svm_reg.fit(atributos_train,avistamientos_train)\n",
    "\n",
    "avistamientos_prediccion_svm = svm_reg.predict(atributos_test)\n",
    "print(svm_reg.score(atributos_test,avistamientos_test))\n",
    "\n",
    "plt.plot(avistamientos_test,'r')\n",
    "plt.plot(avistamientos_prediccion_svm,'g')\n",
    "plt.show()"
   ]
  },
  {
   "cell_type": "markdown",
   "metadata": {},
   "source": [
    "### arboles de decision"
   ]
  },
  {
   "cell_type": "code",
   "execution_count": 57,
   "metadata": {},
   "outputs": [
    {
     "name": "stdout",
     "output_type": "stream",
     "text": [
      "-0.7325404683300718\n"
     ]
    },
    {
     "data": {
      "image/png": "[encoded data removed]",
      "text/plain": [
       "<Figure size 432x288 with 1 Axes>"
      ]
     },
     "metadata": {
      "needs_background": "light"
     },
     "output_type": "display_data"
    }
   ],
   "source": [
    "from sklearn.tree import DecisionTreeRegressor\n",
    "dectree = DecisionTreeRegressor(max_depth= 50 )\n",
    "\n",
    "dectree.fit(atributos_train,avistamientos_train)\n",
    "\n",
    "avistamientos_prediccion_dectree = dectree.predict(atributos_test)\n",
    "print(dectree.score(atributos_test,avistamientos_test))\n",
    "\n",
    "plt.plot(avistamientos_test,'r')\n",
    "plt.plot(avistamientos_prediccion_dectree,'g')\n",
    "plt.show()"
   ]
  },
  {
   "cell_type": "code",
   "execution_count": null,
   "metadata": {},
   "outputs": [],
   "source": []
  }
 ],
 "metadata": {
  "kernelspec": {
   "display_name": "Python 3",
   "language": "python",
   "name": "python3"
  },
  "language_info": {
   "codemirror_mode": {
    "name": "ipython",
    "version": 3
   },
   "file_extension": ".py",
   "mimetype": "text/x-python",
   "name": "python",
   "nbconvert_exporter": "python",
   "pygments_lexer": "ipython3",
   "version": "3.7.6"
  }
 },
 "nbformat": 4,
 "nbformat_minor": 4
}
