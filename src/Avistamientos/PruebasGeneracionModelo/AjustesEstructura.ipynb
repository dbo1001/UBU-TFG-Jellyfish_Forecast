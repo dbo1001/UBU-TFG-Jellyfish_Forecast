{
 "cells": [
  {
   "cell_type": "markdown",
   "metadata": {},
   "source": [
    "### Se van a normalizar los datos y a reordenar las filas"
   ]
  },
  {
   "cell_type": "code",
   "execution_count": 13,
   "metadata": {},
   "outputs": [],
   "source": [
    "import pandas as pd\n",
    "from tqdm.notebook import tqdm\n",
    "from sklearn import preprocessing\n",
    "import numpy as np"
   ]
  },
  {
   "cell_type": "code",
   "execution_count": 2,
   "metadata": {},
   "outputs": [
    {
     "data": {
      "text/html": [
       "<div>\n",
       "<style scoped>\n",
       "    .dataframe tbody tr th:only-of-type {\n",
       "        vertical-align: middle;\n",
       "    }\n",
       "\n",
       "    .dataframe tbody tr th {\n",
       "        vertical-align: top;\n",
       "    }\n",
       "\n",
       "    .dataframe thead th {\n",
       "        text-align: right;\n",
       "    }\n",
       "</style>\n",
       "<table border=\"1\" class=\"dataframe\">\n",
       "  <thead>\n",
       "    <tr style=\"text-align: right;\">\n",
       "      <th></th>\n",
       "      <th>col1</th>\n",
       "      <th>col2</th>\n",
       "    </tr>\n",
       "  </thead>\n",
       "  <tbody>\n",
       "    <tr>\n",
       "      <th>0</th>\n",
       "      <td>1</td>\n",
       "      <td>4</td>\n",
       "    </tr>\n",
       "    <tr>\n",
       "      <th>1</th>\n",
       "      <td>2</td>\n",
       "      <td>5</td>\n",
       "    </tr>\n",
       "    <tr>\n",
       "      <th>2</th>\n",
       "      <td>3</td>\n",
       "      <td>6</td>\n",
       "    </tr>\n",
       "    <tr>\n",
       "      <th>3</th>\n",
       "      <td>4</td>\n",
       "      <td>5</td>\n",
       "    </tr>\n",
       "    <tr>\n",
       "      <th>4</th>\n",
       "      <td>5</td>\n",
       "      <td>6</td>\n",
       "    </tr>\n",
       "    <tr>\n",
       "      <th>5</th>\n",
       "      <td>6</td>\n",
       "      <td>7</td>\n",
       "    </tr>\n",
       "    <tr>\n",
       "      <th>6</th>\n",
       "      <td>7</td>\n",
       "      <td>8</td>\n",
       "    </tr>\n",
       "    <tr>\n",
       "      <th>7</th>\n",
       "      <td>8</td>\n",
       "      <td>2</td>\n",
       "    </tr>\n",
       "    <tr>\n",
       "      <th>8</th>\n",
       "      <td>9</td>\n",
       "      <td>3</td>\n",
       "    </tr>\n",
       "    <tr>\n",
       "      <th>9</th>\n",
       "      <td>0</td>\n",
       "      <td>4</td>\n",
       "    </tr>\n",
       "  </tbody>\n",
       "</table>\n",
       "</div>"
      ],
      "text/plain": [
       "   col1  col2\n",
       "0     1     4\n",
       "1     2     5\n",
       "2     3     6\n",
       "3     4     5\n",
       "4     5     6\n",
       "5     6     7\n",
       "6     7     8\n",
       "7     8     2\n",
       "8     9     3\n",
       "9     0     4"
      ]
     },
     "execution_count": 2,
     "metadata": {},
     "output_type": "execute_result"
    }
   ],
   "source": [
    "# Diccionario de prueba\n",
    "a = {\n",
    "    'col1': [1,2,3,4,5,6,7,8,9,0],\n",
    "    'col2': [4,5,6,5,6,7,8,2,3,4]\n",
    "}\n",
    "\n",
    "df = pd.DataFrame(a)\n",
    "df"
   ]
  },
  {
   "cell_type": "code",
   "execution_count": 3,
   "metadata": {},
   "outputs": [
    {
     "data": {
      "text/html": [
       "<div>\n",
       "<style scoped>\n",
       "    .dataframe tbody tr th:only-of-type {\n",
       "        vertical-align: middle;\n",
       "    }\n",
       "\n",
       "    .dataframe tbody tr th {\n",
       "        vertical-align: top;\n",
       "    }\n",
       "\n",
       "    .dataframe thead th {\n",
       "        text-align: right;\n",
       "    }\n",
       "</style>\n",
       "<table border=\"1\" class=\"dataframe\">\n",
       "  <thead>\n",
       "    <tr style=\"text-align: right;\">\n",
       "      <th></th>\n",
       "      <th>col1_0</th>\n",
       "      <th>col2_0</th>\n",
       "      <th>col1_5</th>\n",
       "      <th>col2_5</th>\n",
       "      <th>col1_10</th>\n",
       "      <th>col2_10</th>\n",
       "    </tr>\n",
       "  </thead>\n",
       "  <tbody>\n",
       "  </tbody>\n",
       "</table>\n",
       "</div>"
      ],
      "text/plain": [
       "Empty DataFrame\n",
       "Columns: [col1_0, col2_0, col1_5, col2_5, col1_10, col2_10]\n",
       "Index: []"
      ]
     },
     "execution_count": 3,
     "metadata": {},
     "output_type": "execute_result"
    }
   ],
   "source": [
    "columnas = []\n",
    "profundidades = ['_0','_5','_10']\n",
    "\n",
    "# añado etiqueta de profundidad\n",
    "for i in range(3):\n",
    "    columnas_aux = df.columns + profundidades[i]\n",
    "    [columnas.append(x) for x in columnas_aux]\n",
    "    \n",
    "df_2 = pd.DataFrame(columns=columnas)\n",
    "df_2"
   ]
  },
  {
   "cell_type": "code",
   "execution_count": 4,
   "metadata": {},
   "outputs": [
    {
     "name": "stdout",
     "output_type": "stream",
     "text": [
      "   col1  col2\n",
      "0     1     4\n",
      "1     2     5\n",
      "2     3     6\n",
      "[1, 4, 2, 5, 3, 6]\n",
      "   col1  col2\n",
      "3     4     5\n",
      "4     5     6\n",
      "5     6     7\n",
      "[4, 5, 5, 6, 6, 7]\n",
      "   col1  col2\n",
      "6     7     8\n",
      "7     8     2\n",
      "8     9     3\n",
      "[7, 8, 8, 2, 9, 3]\n"
     ]
    }
   ],
   "source": [
    "# concateno datos de la tres profundidades en una sola\n",
    "for cont in range(int(df.shape[0]/3)):\n",
    "    inicio = cont*3\n",
    "    df_aux = df.loc[inicio:inicio+2]\n",
    "    print(df_aux)\n",
    "    lista = []\n",
    "\n",
    "    for fila in df_aux.values.tolist():\n",
    "        for elem in fila :\n",
    "            lista.append(elem)\n",
    "    print(lista)\n",
    "    df_2.loc[cont] = lista\n",
    "    "
   ]
  },
  {
   "cell_type": "code",
   "execution_count": 5,
   "metadata": {
    "scrolled": true
   },
   "outputs": [
    {
     "data": {
      "text/html": [
       "<div>\n",
       "<style scoped>\n",
       "    .dataframe tbody tr th:only-of-type {\n",
       "        vertical-align: middle;\n",
       "    }\n",
       "\n",
       "    .dataframe tbody tr th {\n",
       "        vertical-align: top;\n",
       "    }\n",
       "\n",
       "    .dataframe thead th {\n",
       "        text-align: right;\n",
       "    }\n",
       "</style>\n",
       "<table border=\"1\" class=\"dataframe\">\n",
       "  <thead>\n",
       "    <tr style=\"text-align: right;\">\n",
       "      <th></th>\n",
       "      <th>col1_0</th>\n",
       "      <th>col2_0</th>\n",
       "      <th>col1_5</th>\n",
       "      <th>col2_5</th>\n",
       "      <th>col1_10</th>\n",
       "      <th>col2_10</th>\n",
       "    </tr>\n",
       "  </thead>\n",
       "  <tbody>\n",
       "    <tr>\n",
       "      <th>0</th>\n",
       "      <td>1</td>\n",
       "      <td>4</td>\n",
       "      <td>2</td>\n",
       "      <td>5</td>\n",
       "      <td>3</td>\n",
       "      <td>6</td>\n",
       "    </tr>\n",
       "    <tr>\n",
       "      <th>1</th>\n",
       "      <td>4</td>\n",
       "      <td>5</td>\n",
       "      <td>5</td>\n",
       "      <td>6</td>\n",
       "      <td>6</td>\n",
       "      <td>7</td>\n",
       "    </tr>\n",
       "    <tr>\n",
       "      <th>2</th>\n",
       "      <td>7</td>\n",
       "      <td>8</td>\n",
       "      <td>8</td>\n",
       "      <td>2</td>\n",
       "      <td>9</td>\n",
       "      <td>3</td>\n",
       "    </tr>\n",
       "  </tbody>\n",
       "</table>\n",
       "</div>"
      ],
      "text/plain": [
       "  col1_0 col2_0 col1_5 col2_5 col1_10 col2_10\n",
       "0      1      4      2      5       3       6\n",
       "1      4      5      5      6       6       7\n",
       "2      7      8      8      2       9       3"
      ]
     },
     "execution_count": 5,
     "metadata": {},
     "output_type": "execute_result"
    }
   ],
   "source": [
    "df_2"
   ]
  },
  {
   "cell_type": "markdown",
   "metadata": {},
   "source": [
    "# Con estructura avistamientos"
   ]
  },
  {
   "cell_type": "code",
   "execution_count": 3,
   "metadata": {
    "scrolled": false
   },
   "outputs": [],
   "source": [
    "# Estructura quitando las columnas de las coordenadas pues no nos sirven\n",
    "def cargar(nombre):\n",
    "    df = pd.read_excel(nombre)\n",
    "    df = df.fillna(method='ffill', axis=0).set_index(['Latitud','Longitud','Fecha','Avistamientos','Profundidad'])#.drop(['level_0','index'],axis = 1)\n",
    "    # Eliminar columnas Coords\n",
    "    cols = [c for c in df.columns if 'C' not in c]\n",
    "    df_inicial=df[cols]\n",
    "\n",
    "    return df_inicial"
   ]
  },
  {
   "cell_type": "code",
   "execution_count": 4,
   "metadata": {},
   "outputs": [],
   "source": [
    "profundidades = ['_0','_5','_10']\n",
    "\n",
    "# añado etiqueta de profundidad\n",
    "def renombra_atributos(df):\n",
    "    columnas = []\n",
    "    for i in range(3):\n",
    "        columnas_aux = df.columns + profundidades[i]\n",
    "        [columnas.append(x) for x in columnas_aux]\n",
    "    df_atributos = pd.DataFrame(columns=columnas)\n",
    "    return df_atributos\n",
    "# df_atributos"
   ]
  },
  {
   "cell_type": "code",
   "execution_count": 5,
   "metadata": {
    "scrolled": false
   },
   "outputs": [],
   "source": [
    "def unifica_lineas(df):\n",
    "    df_atributos = renombra_atributos(df)\n",
    "    # meto tres profundidades consecutivas\n",
    "    total_lineas = df.shape[0]/3\n",
    "    pbar = tqdm(total = total_lineas)\n",
    "    for cont in range(int(df.shape[0]/3)):\n",
    "        pbar.update(1)\n",
    "        inicio = cont*3\n",
    "        df_aux = df.iloc[inicio:inicio+3]\n",
    "        lista = list()\n",
    "\n",
    "        for fila in df_aux.values.tolist():\n",
    "            for elem in fila :\n",
    "                lista.append(elem)\n",
    "\n",
    "        dict_atr = dict(zip(df_atributos.columns,lista))\n",
    "        df_atr_aux = pd.DataFrame(dict_atr,index=[0])\n",
    "        df_atributos = pd.concat([df_atributos,df_atr_aux])\n",
    "    pbar.update(0)\n",
    "    return df_atributos"
   ]
  },
  {
   "cell_type": "markdown",
   "metadata": {},
   "source": [
    "## normalizar"
   ]
  },
  {
   "cell_type": "code",
   "execution_count": null,
   "metadata": {},
   "outputs": [],
   "source": []
  },
  {
   "cell_type": "code",
   "execution_count": 23,
   "metadata": {
    "scrolled": false
   },
   "outputs": [
    {
     "data": {
      "text/plain": [
       "Latitud     Longitud    Fecha       Avistamientos  Profundidad\n",
       "-42.666667  -74.083333  2015-05-27  1.0            0.494025       0.296335\n",
       "                                                   5.078224       0.296335\n",
       "                                                   9.572997       0.296335\n",
       "-41.833333  -73.833333  2014-06-04  1.0            0.494025       0.021990\n",
       "                                                   5.078224       0.021990\n",
       "                                                                    ...   \n",
       "-18.500000  -70.333333  2014-08-17  1.0            5.078224       0.028272\n",
       "                                                   9.572997       0.028272\n",
       "-18.416667  -70.333333  2015-08-18  1.0            0.494025       0.058639\n",
       "                                                   5.078224       0.058639\n",
       "                                                   9.572997       0.058639\n",
       "Name: mlotst, Length: 1569, dtype: float64"
      ]
     },
     "execution_count": 23,
     "metadata": {},
     "output_type": "execute_result"
    }
   ],
   "source": [
    "# sin uso de bibliotecas \n",
    "df = pd.read_excel('../4EstructuraFinalSinMissings.xlsx')\n",
    "df = df.fillna(method='ffill', axis=0).set_index(['Latitud','Longitud','Fecha','Avistamientos','Profundidad'])\n",
    "df = df['mlotst']\n",
    "normalized_df=(df-df.min())/(df.max()-df.min())\n",
    "\n",
    "normalized_df"
   ]
  },
  {
   "cell_type": "code",
   "execution_count": 24,
   "metadata": {},
   "outputs": [
    {
     "data": {
      "text/plain": [
       "0.336787582088216"
      ]
     },
     "execution_count": 24,
     "metadata": {},
     "output_type": "execute_result"
    }
   ],
   "source": [
    "49.592583 / 147.2518157958984"
   ]
  },
  {
   "cell_type": "code",
   "execution_count": 25,
   "metadata": {},
   "outputs": [
    {
     "data": {
      "text/plain": [
       "1.0"
      ]
     },
     "execution_count": 25,
     "metadata": {},
     "output_type": "execute_result"
    }
   ],
   "source": [
    "n=(1-0)/(2-0)\n",
    "n=(1--1)/(2--1)\n",
    "n=(1--1)/(1--1)\n",
    "\n",
    "n"
   ]
  },
  {
   "cell_type": "code",
   "execution_count": 26,
   "metadata": {},
   "outputs": [
    {
     "data": {
      "text/plain": [
       "array([[ 0.40824829, -0.40824829,  0.81649658],\n",
       "       [ 1.        ,  0.        ,  0.        ],\n",
       "       [ 0.        ,  0.70710678, -0.70710678]])"
      ]
     },
     "execution_count": 26,
     "metadata": {},
     "output_type": "execute_result"
    }
   ],
   "source": [
    "# con scikit learn ejemplos\n",
    "\n",
    "\n",
    "X = [[ 1., -1.,  2.],\n",
    "     [ 2.,  0.,  0.],\n",
    "     [ 0.,  1., -1.]]\n",
    "X_normalized = preprocessing.normalize(X, norm='l2')\n",
    "\n",
    "X_normalized\n",
    "\n"
   ]
  },
  {
   "cell_type": "code",
   "execution_count": 27,
   "metadata": {},
   "outputs": [
    {
     "data": {
      "text/plain": [
       "array([[ 0.25, -0.25,  0.5 ],\n",
       "       [ 1.  ,  0.  ,  0.  ],\n",
       "       [ 0.  ,  0.5 , -0.5 ]])"
      ]
     },
     "execution_count": 27,
     "metadata": {},
     "output_type": "execute_result"
    }
   ],
   "source": [
    "X = [[ 1., -1.,  2.],\n",
    "     [ 2.,  0.,  0.],\n",
    "     [ 0.,  1., -1.]]\n",
    "X_normalized = preprocessing.normalize(X, norm='l1')\n",
    "\n",
    "X_normalized"
   ]
  },
  {
   "cell_type": "code",
   "execution_count": 6,
   "metadata": {},
   "outputs": [],
   "source": [
    "# con estructura\n",
    "def normaliza_normalize(df_atributos):\n",
    "    X = df_atributos.values.tolist()\n",
    "    x_normalizado = preprocessing.normalize(X, norm='l2')\n",
    "\n",
    "    x_normalizado\n",
    "\n",
    "    df_norm = pd.DataFrame(x_normalizado,columns=df_atributos.columns)\n",
    "    df_norm.to_excel('dfAtributosNormalizado.xlsx')"
   ]
  },
  {
   "cell_type": "code",
   "execution_count": 24,
   "metadata": {},
   "outputs": [],
   "source": [
    "def normaliza_min_max(df_atributos,nombre):\n",
    "    X = df_atributos.values.tolist()\n",
    "    min_max = preprocessing.MinMaxScaler()\n",
    "    x_normalizado_2 = min_max.fit_transform(X)\n",
    "    x_normalizado_2\n",
    "    df_norm = pd.DataFrame(x_normalizado_2,columns=df_atributos.columns)\n",
    "#     df_norm.to_excel('dfAtributosNormalizado2_{}.xlsx'.format(nombre[3:]))\n",
    "    return df_norm"
   ]
  },
  {
   "cell_type": "markdown",
   "metadata": {},
   "source": [
    "## listado avistamientos"
   ]
  },
  {
   "cell_type": "code",
   "execution_count": 8,
   "metadata": {
    "scrolled": false
   },
   "outputs": [],
   "source": [
    "def lista_avistamientos(nombre):\n",
    "    df = pd.read_excel('../4EstructuraFinalSinMissings.xlsx')\n",
    "    df = df.fillna(method='ffill', axis=0)#.drop(['level_0','index'],axis = 1)\n",
    "    listado_avistamientos = df.Avistamientos.values.tolist()\n",
    "    avistamientos = [x for x in listado_avistamientos[::3]]\n",
    "    df_avistamientos = pd.DataFrame(avistamientos,columns=['Avistamientos'])\n",
    "    df_avistamientos.to_excel('dfAvistamientos.xlsx')\n",
    "    return df_avistamientos"
   ]
  },
  {
   "cell_type": "code",
   "execution_count": 9,
   "metadata": {},
   "outputs": [],
   "source": [
    "# coloca las tres profundidades en una misma linea\n",
    "def ejecuta(nombre):\n",
    "    df_inicial = cargar(nombre)\n",
    "    df_atributos = unifica_lineas(df_inicial)\n",
    "    df_atri_norm = normaliza_min_max(df_atributos,nombre)\n",
    "    df_avis_norm = lista_avistamientos(nombre)\n",
    "    return df_atri_norm,df_avis_norm"
   ]
  },
  {
   "cell_type": "code",
   "execution_count": 52,
   "metadata": {},
   "outputs": [
    {
     "data": {
      "application/vnd.jupyter.widget-view+json": {
       "model_id": "7c987affb11145148db7ed292be8a5ab",
       "version_major": 2,
       "version_minor": 0
      },
      "text/plain": [
       "HBox(children=(FloatProgress(value=0.0, max=523.0), HTML(value='')))"
      ]
     },
     "metadata": {},
     "output_type": "display_data"
    },
    {
     "name": "stdout",
     "output_type": "stream",
     "text": [
      "\n"
     ]
    }
   ],
   "source": [
    "df_atri_norm,df_avis_norm = ejecuta('../4EstructuraFinalSinMissings.xlsx')"
   ]
  },
  {
   "cell_type": "code",
   "execution_count": 53,
   "metadata": {},
   "outputs": [
    {
     "data": {
      "text/html": [
       "<div>\n",
       "<style scoped>\n",
       "    .dataframe tbody tr th:only-of-type {\n",
       "        vertical-align: middle;\n",
       "    }\n",
       "\n",
       "    .dataframe tbody tr th {\n",
       "        vertical-align: top;\n",
       "    }\n",
       "\n",
       "    .dataframe thead th {\n",
       "        text-align: right;\n",
       "    }\n",
       "</style>\n",
       "<table border=\"1\" class=\"dataframe\">\n",
       "  <thead>\n",
       "    <tr style=\"text-align: right;\">\n",
       "      <th></th>\n",
       "      <th>mlotst_0</th>\n",
       "      <th>zos_0</th>\n",
       "      <th>bottomT_0</th>\n",
       "      <th>thetao_0</th>\n",
       "      <th>so_0</th>\n",
       "      <th>uo_0</th>\n",
       "      <th>vo_0</th>\n",
       "      <th>mlotst_5</th>\n",
       "      <th>zos_5</th>\n",
       "      <th>bottomT_5</th>\n",
       "      <th>...</th>\n",
       "      <th>so_5</th>\n",
       "      <th>uo_5</th>\n",
       "      <th>vo_5</th>\n",
       "      <th>mlotst_10</th>\n",
       "      <th>zos_10</th>\n",
       "      <th>bottomT_10</th>\n",
       "      <th>thetao_10</th>\n",
       "      <th>so_10</th>\n",
       "      <th>uo_10</th>\n",
       "      <th>vo_10</th>\n",
       "    </tr>\n",
       "  </thead>\n",
       "  <tbody>\n",
       "    <tr>\n",
       "      <th>0</th>\n",
       "      <td>0.296335</td>\n",
       "      <td>0.366700</td>\n",
       "      <td>0.462185</td>\n",
       "      <td>0.172787</td>\n",
       "      <td>0.523447</td>\n",
       "      <td>0.478261</td>\n",
       "      <td>0.356818</td>\n",
       "      <td>0.296335</td>\n",
       "      <td>0.366700</td>\n",
       "      <td>0.462185</td>\n",
       "      <td>...</td>\n",
       "      <td>0.460545</td>\n",
       "      <td>0.463016</td>\n",
       "      <td>0.403107</td>\n",
       "      <td>0.296335</td>\n",
       "      <td>0.366700</td>\n",
       "      <td>0.462185</td>\n",
       "      <td>0.175338</td>\n",
       "      <td>0.407069</td>\n",
       "      <td>0.450433</td>\n",
       "      <td>0.418796</td>\n",
       "    </tr>\n",
       "    <tr>\n",
       "      <th>1</th>\n",
       "      <td>0.021990</td>\n",
       "      <td>0.339537</td>\n",
       "      <td>0.360498</td>\n",
       "      <td>0.042349</td>\n",
       "      <td>0.534854</td>\n",
       "      <td>1.000000</td>\n",
       "      <td>0.429545</td>\n",
       "      <td>0.021990</td>\n",
       "      <td>0.339537</td>\n",
       "      <td>0.360498</td>\n",
       "      <td>...</td>\n",
       "      <td>0.496126</td>\n",
       "      <td>1.000000</td>\n",
       "      <td>0.460343</td>\n",
       "      <td>0.021990</td>\n",
       "      <td>0.339537</td>\n",
       "      <td>0.360498</td>\n",
       "      <td>0.055174</td>\n",
       "      <td>0.446197</td>\n",
       "      <td>1.000000</td>\n",
       "      <td>0.480627</td>\n",
       "    </tr>\n",
       "    <tr>\n",
       "      <th>2</th>\n",
       "      <td>0.056544</td>\n",
       "      <td>0.534205</td>\n",
       "      <td>0.224177</td>\n",
       "      <td>0.151868</td>\n",
       "      <td>0.536882</td>\n",
       "      <td>0.920444</td>\n",
       "      <td>0.248485</td>\n",
       "      <td>0.056544</td>\n",
       "      <td>0.534205</td>\n",
       "      <td>0.224177</td>\n",
       "      <td>...</td>\n",
       "      <td>0.475753</td>\n",
       "      <td>0.905860</td>\n",
       "      <td>0.310711</td>\n",
       "      <td>0.056544</td>\n",
       "      <td>0.534205</td>\n",
       "      <td>0.224177</td>\n",
       "      <td>0.144479</td>\n",
       "      <td>0.427264</td>\n",
       "      <td>0.871030</td>\n",
       "      <td>0.340478</td>\n",
       "    </tr>\n",
       "    <tr>\n",
       "      <th>3</th>\n",
       "      <td>0.083770</td>\n",
       "      <td>0.360664</td>\n",
       "      <td>0.465062</td>\n",
       "      <td>0.173490</td>\n",
       "      <td>0.523447</td>\n",
       "      <td>0.484736</td>\n",
       "      <td>0.315909</td>\n",
       "      <td>0.083770</td>\n",
       "      <td>0.360664</td>\n",
       "      <td>0.465062</td>\n",
       "      <td>...</td>\n",
       "      <td>0.463415</td>\n",
       "      <td>0.490874</td>\n",
       "      <td>0.371218</td>\n",
       "      <td>0.083770</td>\n",
       "      <td>0.360664</td>\n",
       "      <td>0.465062</td>\n",
       "      <td>0.178867</td>\n",
       "      <td>0.410855</td>\n",
       "      <td>0.488932</td>\n",
       "      <td>0.389118</td>\n",
       "    </tr>\n",
       "    <tr>\n",
       "      <th>4</th>\n",
       "      <td>0.107853</td>\n",
       "      <td>0.338531</td>\n",
       "      <td>0.457759</td>\n",
       "      <td>0.167413</td>\n",
       "      <td>0.525222</td>\n",
       "      <td>0.469010</td>\n",
       "      <td>0.399242</td>\n",
       "      <td>0.107853</td>\n",
       "      <td>0.338531</td>\n",
       "      <td>0.457759</td>\n",
       "      <td>...</td>\n",
       "      <td>0.462554</td>\n",
       "      <td>0.452450</td>\n",
       "      <td>0.439902</td>\n",
       "      <td>0.107853</td>\n",
       "      <td>0.338531</td>\n",
       "      <td>0.457759</td>\n",
       "      <td>0.170270</td>\n",
       "      <td>0.409277</td>\n",
       "      <td>0.437921</td>\n",
       "      <td>0.451772</td>\n",
       "    </tr>\n",
       "  </tbody>\n",
       "</table>\n",
       "<p>5 rows × 21 columns</p>\n",
       "</div>"
      ],
      "text/plain": [
       "   mlotst_0     zos_0  bottomT_0  thetao_0      so_0      uo_0      vo_0  \\\n",
       "0  0.296335  0.366700   0.462185  0.172787  0.523447  0.478261  0.356818   \n",
       "1  0.021990  0.339537   0.360498  0.042349  0.534854  1.000000  0.429545   \n",
       "2  0.056544  0.534205   0.224177  0.151868  0.536882  0.920444  0.248485   \n",
       "3  0.083770  0.360664   0.465062  0.173490  0.523447  0.484736  0.315909   \n",
       "4  0.107853  0.338531   0.457759  0.167413  0.525222  0.469010  0.399242   \n",
       "\n",
       "   mlotst_5     zos_5  bottomT_5  ...      so_5      uo_5      vo_5  \\\n",
       "0  0.296335  0.366700   0.462185  ...  0.460545  0.463016  0.403107   \n",
       "1  0.021990  0.339537   0.360498  ...  0.496126  1.000000  0.460343   \n",
       "2  0.056544  0.534205   0.224177  ...  0.475753  0.905860  0.310711   \n",
       "3  0.083770  0.360664   0.465062  ...  0.463415  0.490874  0.371218   \n",
       "4  0.107853  0.338531   0.457759  ...  0.462554  0.452450  0.439902   \n",
       "\n",
       "   mlotst_10    zos_10  bottomT_10  thetao_10     so_10     uo_10     vo_10  \n",
       "0   0.296335  0.366700    0.462185   0.175338  0.407069  0.450433  0.418796  \n",
       "1   0.021990  0.339537    0.360498   0.055174  0.446197  1.000000  0.480627  \n",
       "2   0.056544  0.534205    0.224177   0.144479  0.427264  0.871030  0.340478  \n",
       "3   0.083770  0.360664    0.465062   0.178867  0.410855  0.488932  0.389118  \n",
       "4   0.107853  0.338531    0.457759   0.170270  0.409277  0.437921  0.451772  \n",
       "\n",
       "[5 rows x 21 columns]"
      ]
     },
     "execution_count": 53,
     "metadata": {},
     "output_type": "execute_result"
    }
   ],
   "source": [
    "df_atri_norm.head()"
   ]
  },
  {
   "cell_type": "code",
   "execution_count": 54,
   "metadata": {},
   "outputs": [
    {
     "data": {
      "text/html": [
       "<div>\n",
       "<style scoped>\n",
       "    .dataframe tbody tr th:only-of-type {\n",
       "        vertical-align: middle;\n",
       "    }\n",
       "\n",
       "    .dataframe tbody tr th {\n",
       "        vertical-align: top;\n",
       "    }\n",
       "\n",
       "    .dataframe thead th {\n",
       "        text-align: right;\n",
       "    }\n",
       "</style>\n",
       "<table border=\"1\" class=\"dataframe\">\n",
       "  <thead>\n",
       "    <tr style=\"text-align: right;\">\n",
       "      <th></th>\n",
       "      <th>Avistamientos</th>\n",
       "    </tr>\n",
       "  </thead>\n",
       "  <tbody>\n",
       "    <tr>\n",
       "      <th>0</th>\n",
       "      <td>1.0</td>\n",
       "    </tr>\n",
       "    <tr>\n",
       "      <th>1</th>\n",
       "      <td>1.0</td>\n",
       "    </tr>\n",
       "    <tr>\n",
       "      <th>2</th>\n",
       "      <td>1.0</td>\n",
       "    </tr>\n",
       "    <tr>\n",
       "      <th>3</th>\n",
       "      <td>20.0</td>\n",
       "    </tr>\n",
       "    <tr>\n",
       "      <th>4</th>\n",
       "      <td>151.0</td>\n",
       "    </tr>\n",
       "  </tbody>\n",
       "</table>\n",
       "</div>"
      ],
      "text/plain": [
       "   Avistamientos\n",
       "0            1.0\n",
       "1            1.0\n",
       "2            1.0\n",
       "3           20.0\n",
       "4          151.0"
      ]
     },
     "execution_count": 54,
     "metadata": {},
     "output_type": "execute_result"
    }
   ],
   "source": [
    "df_avis_norm.head()"
   ]
  },
  {
   "cell_type": "code",
   "execution_count": 15,
   "metadata": {},
   "outputs": [
    {
     "data": {
      "application/vnd.jupyter.widget-view+json": {
       "model_id": "49b17c6f77254042966487473193ed13",
       "version_major": 2,
       "version_minor": 0
      },
      "text/plain": [
       "HBox(children=(FloatProgress(value=0.0, max=523.0), HTML(value='')))"
      ]
     },
     "metadata": {},
     "output_type": "display_data"
    },
    {
     "data": {
      "application/vnd.jupyter.widget-view+json": {
       "model_id": "f6607dad3a084befab05895b229b695c",
       "version_major": 2,
       "version_minor": 0
      },
      "text/plain": [
       "HBox(children=(FloatProgress(value=0.0, max=523.0), HTML(value='')))"
      ]
     },
     "metadata": {},
     "output_type": "display_data"
    },
    {
     "data": {
      "application/vnd.jupyter.widget-view+json": {
       "model_id": "fbe9e36feb20481e85a78ec321a5ca32",
       "version_major": 2,
       "version_minor": 0
      },
      "text/plain": [
       "HBox(children=(FloatProgress(value=0.0, max=523.0), HTML(value='')))"
      ]
     },
     "metadata": {},
     "output_type": "display_data"
    },
    {
     "data": {
      "application/vnd.jupyter.widget-view+json": {
       "model_id": "ba7dc2077e174e9e8c250ff680c0da02",
       "version_major": 2,
       "version_minor": 0
      },
      "text/plain": [
       "HBox(children=(FloatProgress(value=0.0, max=523.0), HTML(value='')))"
      ]
     },
     "metadata": {},
     "output_type": "display_data"
    },
    {
     "data": {
      "application/vnd.jupyter.widget-view+json": {
       "model_id": "4758bbd645d04c4699e017338c2950be",
       "version_major": 2,
       "version_minor": 0
      },
      "text/plain": [
       "HBox(children=(FloatProgress(value=0.0, max=523.0), HTML(value='')))"
      ]
     },
     "metadata": {},
     "output_type": "display_data"
    },
    {
     "data": {
      "application/vnd.jupyter.widget-view+json": {
       "model_id": "100c072d304c4cadacd0c7443cdde55c",
       "version_major": 2,
       "version_minor": 0
      },
      "text/plain": [
       "HBox(children=(FloatProgress(value=0.0, max=523.0), HTML(value='')))"
      ]
     },
     "metadata": {},
     "output_type": "display_data"
    }
   ],
   "source": [
    "for i in [0,7,14,30,45,60]:\n",
    "    df_atri_norm,df_avis_norm = ejecuta('../-EstructuraFinal{}dias.xlsx'.format(i))"
   ]
  },
  {
   "cell_type": "code",
   "execution_count": 26,
   "metadata": {},
   "outputs": [
    {
     "data": {
      "application/vnd.jupyter.widget-view+json": {
       "model_id": "c98314eaff2d448f96eab17fea401dd6",
       "version_major": 2,
       "version_minor": 0
      },
      "text/plain": [
       "HBox(children=(FloatProgress(value=0.0, max=668.0), HTML(value='')))"
      ]
     },
     "metadata": {},
     "output_type": "display_data"
    },
    {
     "name": "stdout",
     "output_type": "stream",
     "text": [
      "\n"
     ]
    },
    {
     "ename": "ValueError",
     "evalue": "could not convert string to float: '[-43.33333333333333, -74.16666666666666]'",
     "output_type": "error",
     "traceback": [
      "\u001b[0;31m---------------------------------------------------------------------------\u001b[0m",
      "\u001b[0;31mValueError\u001b[0m                                Traceback (most recent call last)",
      "\u001b[0;32m<ipython-input-26-69347a9bd84e>\u001b[0m in \u001b[0;36m<module>\u001b[0;34m\u001b[0m\n\u001b[1;32m      2\u001b[0m \u001b[0mdf\u001b[0m \u001b[0;34m=\u001b[0m \u001b[0munifica_lineas\u001b[0m\u001b[0;34m(\u001b[0m\u001b[0mdf\u001b[0m\u001b[0;34m)\u001b[0m\u001b[0;34m\u001b[0m\u001b[0;34m\u001b[0m\u001b[0m\n\u001b[1;32m      3\u001b[0m \u001b[0;31m# df = df['mlotst_0']\u001b[0m\u001b[0;34m\u001b[0m\u001b[0;34m\u001b[0m\u001b[0;34m\u001b[0m\u001b[0m\n\u001b[0;32m----> 4\u001b[0;31m \u001b[0mdf\u001b[0m \u001b[0;34m=\u001b[0m \u001b[0mnormaliza_min_max\u001b[0m\u001b[0;34m(\u001b[0m\u001b[0mdf\u001b[0m\u001b[0;34m,\u001b[0m\u001b[0;34m''\u001b[0m\u001b[0;34m)\u001b[0m\u001b[0;34m\u001b[0m\u001b[0;34m\u001b[0m\u001b[0m\n\u001b[0m\u001b[1;32m      5\u001b[0m \u001b[0mdf\u001b[0m\u001b[0;34m\u001b[0m\u001b[0;34m\u001b[0m\u001b[0m\n",
      "\u001b[0;32m<ipython-input-24-44b376bccfbb>\u001b[0m in \u001b[0;36mnormaliza_min_max\u001b[0;34m(df_atributos, nombre)\u001b[0m\n\u001b[1;32m      2\u001b[0m     \u001b[0mX\u001b[0m \u001b[0;34m=\u001b[0m \u001b[0mdf_atributos\u001b[0m\u001b[0;34m.\u001b[0m\u001b[0mvalues\u001b[0m\u001b[0;34m.\u001b[0m\u001b[0mtolist\u001b[0m\u001b[0;34m(\u001b[0m\u001b[0;34m)\u001b[0m\u001b[0;34m\u001b[0m\u001b[0;34m\u001b[0m\u001b[0m\n\u001b[1;32m      3\u001b[0m     \u001b[0mmin_max\u001b[0m \u001b[0;34m=\u001b[0m \u001b[0mpreprocessing\u001b[0m\u001b[0;34m.\u001b[0m\u001b[0mMinMaxScaler\u001b[0m\u001b[0;34m(\u001b[0m\u001b[0;34m)\u001b[0m\u001b[0;34m\u001b[0m\u001b[0;34m\u001b[0m\u001b[0m\n\u001b[0;32m----> 4\u001b[0;31m     \u001b[0mx_normalizado_2\u001b[0m \u001b[0;34m=\u001b[0m \u001b[0mmin_max\u001b[0m\u001b[0;34m.\u001b[0m\u001b[0mfit_transform\u001b[0m\u001b[0;34m(\u001b[0m\u001b[0mX\u001b[0m\u001b[0;34m)\u001b[0m\u001b[0;34m\u001b[0m\u001b[0;34m\u001b[0m\u001b[0m\n\u001b[0m\u001b[1;32m      5\u001b[0m     \u001b[0mx_normalizado_2\u001b[0m\u001b[0;34m\u001b[0m\u001b[0;34m\u001b[0m\u001b[0m\n\u001b[1;32m      6\u001b[0m     \u001b[0mdf_norm\u001b[0m \u001b[0;34m=\u001b[0m \u001b[0mpd\u001b[0m\u001b[0;34m.\u001b[0m\u001b[0mDataFrame\u001b[0m\u001b[0;34m(\u001b[0m\u001b[0mx_normalizado_2\u001b[0m\u001b[0;34m,\u001b[0m\u001b[0mcolumns\u001b[0m\u001b[0;34m=\u001b[0m\u001b[0mdf_atributos\u001b[0m\u001b[0;34m.\u001b[0m\u001b[0mcolumns\u001b[0m\u001b[0;34m)\u001b[0m\u001b[0;34m\u001b[0m\u001b[0;34m\u001b[0m\u001b[0m\n",
      "\u001b[0;32m~/anaconda3/envs/entornoPrueba/lib/python3.7/site-packages/sklearn/base.py\u001b[0m in \u001b[0;36mfit_transform\u001b[0;34m(self, X, y, **fit_params)\u001b[0m\n\u001b[1;32m    569\u001b[0m         \u001b[0;32mif\u001b[0m \u001b[0my\u001b[0m \u001b[0;32mis\u001b[0m \u001b[0;32mNone\u001b[0m\u001b[0;34m:\u001b[0m\u001b[0;34m\u001b[0m\u001b[0;34m\u001b[0m\u001b[0m\n\u001b[1;32m    570\u001b[0m             \u001b[0;31m# fit method of arity 1 (unsupervised transformation)\u001b[0m\u001b[0;34m\u001b[0m\u001b[0;34m\u001b[0m\u001b[0;34m\u001b[0m\u001b[0m\n\u001b[0;32m--> 571\u001b[0;31m             \u001b[0;32mreturn\u001b[0m \u001b[0mself\u001b[0m\u001b[0;34m.\u001b[0m\u001b[0mfit\u001b[0m\u001b[0;34m(\u001b[0m\u001b[0mX\u001b[0m\u001b[0;34m,\u001b[0m \u001b[0;34m**\u001b[0m\u001b[0mfit_params\u001b[0m\u001b[0;34m)\u001b[0m\u001b[0;34m.\u001b[0m\u001b[0mtransform\u001b[0m\u001b[0;34m(\u001b[0m\u001b[0mX\u001b[0m\u001b[0;34m)\u001b[0m\u001b[0;34m\u001b[0m\u001b[0;34m\u001b[0m\u001b[0m\n\u001b[0m\u001b[1;32m    572\u001b[0m         \u001b[0;32melse\u001b[0m\u001b[0;34m:\u001b[0m\u001b[0;34m\u001b[0m\u001b[0;34m\u001b[0m\u001b[0m\n\u001b[1;32m    573\u001b[0m             \u001b[0;31m# fit method of arity 2 (supervised transformation)\u001b[0m\u001b[0;34m\u001b[0m\u001b[0;34m\u001b[0m\u001b[0;34m\u001b[0m\u001b[0m\n",
      "\u001b[0;32m~/anaconda3/envs/entornoPrueba/lib/python3.7/site-packages/sklearn/preprocessing/_data.py\u001b[0m in \u001b[0;36mfit\u001b[0;34m(self, X, y)\u001b[0m\n\u001b[1;32m    337\u001b[0m         \u001b[0;31m# Reset internal state before fitting\u001b[0m\u001b[0;34m\u001b[0m\u001b[0;34m\u001b[0m\u001b[0;34m\u001b[0m\u001b[0m\n\u001b[1;32m    338\u001b[0m         \u001b[0mself\u001b[0m\u001b[0;34m.\u001b[0m\u001b[0m_reset\u001b[0m\u001b[0;34m(\u001b[0m\u001b[0;34m)\u001b[0m\u001b[0;34m\u001b[0m\u001b[0;34m\u001b[0m\u001b[0m\n\u001b[0;32m--> 339\u001b[0;31m         \u001b[0;32mreturn\u001b[0m \u001b[0mself\u001b[0m\u001b[0;34m.\u001b[0m\u001b[0mpartial_fit\u001b[0m\u001b[0;34m(\u001b[0m\u001b[0mX\u001b[0m\u001b[0;34m,\u001b[0m \u001b[0my\u001b[0m\u001b[0;34m)\u001b[0m\u001b[0;34m\u001b[0m\u001b[0;34m\u001b[0m\u001b[0m\n\u001b[0m\u001b[1;32m    340\u001b[0m \u001b[0;34m\u001b[0m\u001b[0m\n\u001b[1;32m    341\u001b[0m     \u001b[0;32mdef\u001b[0m \u001b[0mpartial_fit\u001b[0m\u001b[0;34m(\u001b[0m\u001b[0mself\u001b[0m\u001b[0;34m,\u001b[0m \u001b[0mX\u001b[0m\u001b[0;34m,\u001b[0m \u001b[0my\u001b[0m\u001b[0;34m=\u001b[0m\u001b[0;32mNone\u001b[0m\u001b[0;34m)\u001b[0m\u001b[0;34m:\u001b[0m\u001b[0;34m\u001b[0m\u001b[0;34m\u001b[0m\u001b[0m\n",
      "\u001b[0;32m~/anaconda3/envs/entornoPrueba/lib/python3.7/site-packages/sklearn/preprocessing/_data.py\u001b[0m in \u001b[0;36mpartial_fit\u001b[0;34m(self, X, y)\u001b[0m\n\u001b[1;32m    371\u001b[0m         X = check_array(X,\n\u001b[1;32m    372\u001b[0m                         \u001b[0mestimator\u001b[0m\u001b[0;34m=\u001b[0m\u001b[0mself\u001b[0m\u001b[0;34m,\u001b[0m \u001b[0mdtype\u001b[0m\u001b[0;34m=\u001b[0m\u001b[0mFLOAT_DTYPES\u001b[0m\u001b[0;34m,\u001b[0m\u001b[0;34m\u001b[0m\u001b[0;34m\u001b[0m\u001b[0m\n\u001b[0;32m--> 373\u001b[0;31m                         force_all_finite=\"allow-nan\")\n\u001b[0m\u001b[1;32m    374\u001b[0m \u001b[0;34m\u001b[0m\u001b[0m\n\u001b[1;32m    375\u001b[0m         \u001b[0mdata_min\u001b[0m \u001b[0;34m=\u001b[0m \u001b[0mnp\u001b[0m\u001b[0;34m.\u001b[0m\u001b[0mnanmin\u001b[0m\u001b[0;34m(\u001b[0m\u001b[0mX\u001b[0m\u001b[0;34m,\u001b[0m \u001b[0maxis\u001b[0m\u001b[0;34m=\u001b[0m\u001b[0;36m0\u001b[0m\u001b[0;34m)\u001b[0m\u001b[0;34m\u001b[0m\u001b[0;34m\u001b[0m\u001b[0m\n",
      "\u001b[0;32m~/anaconda3/envs/entornoPrueba/lib/python3.7/site-packages/sklearn/utils/validation.py\u001b[0m in \u001b[0;36mcheck_array\u001b[0;34m(array, accept_sparse, accept_large_sparse, dtype, order, copy, force_all_finite, ensure_2d, allow_nd, ensure_min_samples, ensure_min_features, warn_on_dtype, estimator)\u001b[0m\n\u001b[1;32m    529\u001b[0m                     \u001b[0marray\u001b[0m \u001b[0;34m=\u001b[0m \u001b[0marray\u001b[0m\u001b[0;34m.\u001b[0m\u001b[0mastype\u001b[0m\u001b[0;34m(\u001b[0m\u001b[0mdtype\u001b[0m\u001b[0;34m,\u001b[0m \u001b[0mcasting\u001b[0m\u001b[0;34m=\u001b[0m\u001b[0;34m\"unsafe\"\u001b[0m\u001b[0;34m,\u001b[0m \u001b[0mcopy\u001b[0m\u001b[0;34m=\u001b[0m\u001b[0;32mFalse\u001b[0m\u001b[0;34m)\u001b[0m\u001b[0;34m\u001b[0m\u001b[0;34m\u001b[0m\u001b[0m\n\u001b[1;32m    530\u001b[0m                 \u001b[0;32melse\u001b[0m\u001b[0;34m:\u001b[0m\u001b[0;34m\u001b[0m\u001b[0;34m\u001b[0m\u001b[0m\n\u001b[0;32m--> 531\u001b[0;31m                     \u001b[0marray\u001b[0m \u001b[0;34m=\u001b[0m \u001b[0mnp\u001b[0m\u001b[0;34m.\u001b[0m\u001b[0masarray\u001b[0m\u001b[0;34m(\u001b[0m\u001b[0marray\u001b[0m\u001b[0;34m,\u001b[0m \u001b[0morder\u001b[0m\u001b[0;34m=\u001b[0m\u001b[0morder\u001b[0m\u001b[0;34m,\u001b[0m \u001b[0mdtype\u001b[0m\u001b[0;34m=\u001b[0m\u001b[0mdtype\u001b[0m\u001b[0;34m)\u001b[0m\u001b[0;34m\u001b[0m\u001b[0;34m\u001b[0m\u001b[0m\n\u001b[0m\u001b[1;32m    532\u001b[0m             \u001b[0;32mexcept\u001b[0m \u001b[0mComplexWarning\u001b[0m\u001b[0;34m:\u001b[0m\u001b[0;34m\u001b[0m\u001b[0;34m\u001b[0m\u001b[0m\n\u001b[1;32m    533\u001b[0m                 raise ValueError(\"Complex data not supported\\n\"\n",
      "\u001b[0;32m~/anaconda3/envs/entornoPrueba/lib/python3.7/site-packages/numpy/core/_asarray.py\u001b[0m in \u001b[0;36masarray\u001b[0;34m(a, dtype, order)\u001b[0m\n\u001b[1;32m     83\u001b[0m \u001b[0;34m\u001b[0m\u001b[0m\n\u001b[1;32m     84\u001b[0m     \"\"\"\n\u001b[0;32m---> 85\u001b[0;31m     \u001b[0;32mreturn\u001b[0m \u001b[0marray\u001b[0m\u001b[0;34m(\u001b[0m\u001b[0ma\u001b[0m\u001b[0;34m,\u001b[0m \u001b[0mdtype\u001b[0m\u001b[0;34m,\u001b[0m \u001b[0mcopy\u001b[0m\u001b[0;34m=\u001b[0m\u001b[0;32mFalse\u001b[0m\u001b[0;34m,\u001b[0m \u001b[0morder\u001b[0m\u001b[0;34m=\u001b[0m\u001b[0morder\u001b[0m\u001b[0;34m)\u001b[0m\u001b[0;34m\u001b[0m\u001b[0;34m\u001b[0m\u001b[0m\n\u001b[0m\u001b[1;32m     86\u001b[0m \u001b[0;34m\u001b[0m\u001b[0m\n\u001b[1;32m     87\u001b[0m \u001b[0;34m\u001b[0m\u001b[0m\n",
      "\u001b[0;31mValueError\u001b[0m: could not convert string to float: '[-43.33333333333333, -74.16666666666666]'"
     ]
    }
   ],
   "source": [
    "df = pd.read_excel('../3estruct_0dias_0celdas.xlsx').set_index(['Latitud','Longitud','Fecha','Avistamientos','Profundidad'])\n",
    "df = unifica_lineas(df)\n",
    "# df = df['mlotst_0']\n",
    "df = normaliza_min_max(df,'')\n",
    "df"
   ]
  }
 ],
 "metadata": {
  "kernelspec": {
   "display_name": "Python 3",
   "language": "python",
   "name": "python3"
  },
  "language_info": {
   "codemirror_mode": {
    "name": "ipython",
    "version": 3
   },
   "file_extension": ".py",
   "mimetype": "text/x-python",
   "name": "python",
   "nbconvert_exporter": "python",
   "pygments_lexer": "ipython3",
   "version": "3.7.6"
  }
 },
 "nbformat": 4,
 "nbformat_minor": 4
}
