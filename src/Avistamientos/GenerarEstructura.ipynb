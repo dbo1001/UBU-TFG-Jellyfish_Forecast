{
 "cells": [
  {
   "cell_type": "code",
   "execution_count": 89,
   "metadata": {},
   "outputs": [],
   "source": [
    "import pandas as pd\n",
    "import numpy as np\n",
    "from math import floor\n",
    "import math\n",
    "import os\n",
    "from datetime import datetime\n",
    "import xarray as xr\n",
    "from tqdm.notebook import tqdm\n",
    "from sklearn import preprocessing\n",
    "from time import time\n",
    "from joblib import dump, load"
   ]
  },
  {
   "cell_type": "code",
   "execution_count": 2,
   "metadata": {},
   "outputs": [],
   "source": [
    "def guarda_dataframe(df,nombre,subcarpeta = False):\n",
    "    \"\"\"\n",
    "    Guarda el dataframe pasado como parametro en formato .pkl y .xlsx\n",
    "    \n",
    "    Parametros:\n",
    "    df -- dataframe a guardar\n",
    "    nombre -- nombre de los ficheros a guardar\n",
    "    subcarpeta -- en caso de ser True, guarda los ficheros en una \n",
    "                subcarpeta, en caso contrario, se guarda en el \n",
    "                directorio actual\n",
    "    \"\"\"\n",
    "    if subcarpeta:\n",
    "        df.to_pickle('./pkls/{}.pkl'.format(nombre))\n",
    "        df.to_excel('./Excels/{}.xlsx'.format(nombre))\n",
    "    else:\n",
    "        df.to_pickle('{}.pkl'.format(nombre))\n",
    "        df.to_excel('{}.xlsx'.format(nombre))\n",
    "    \n"
   ]
  },
  {
   "cell_type": "markdown",
   "metadata": {},
   "source": [
    "# Listado de playas con avistamientos y fechas"
   ]
  },
  {
   "cell_type": "markdown",
   "metadata": {},
   "source": [
    "## con primer grupo de datos"
   ]
  },
  {
   "cell_type": "code",
   "execution_count": 3,
   "metadata": {},
   "outputs": [
    {
     "data": {
      "text/html": [
       "<div>\n",
       "<style scoped>\n",
       "    .dataframe tbody tr th:only-of-type {\n",
       "        vertical-align: middle;\n",
       "    }\n",
       "\n",
       "    .dataframe tbody tr th {\n",
       "        vertical-align: top;\n",
       "    }\n",
       "\n",
       "    .dataframe thead th {\n",
       "        text-align: right;\n",
       "    }\n",
       "</style>\n",
       "<table border=\"1\" class=\"dataframe\">\n",
       "  <thead>\n",
       "    <tr style=\"text-align: right;\">\n",
       "      <th></th>\n",
       "      <th>Latitud</th>\n",
       "      <th>Longitud</th>\n",
       "      <th>Fecha</th>\n",
       "      <th>Avistamientos</th>\n",
       "    </tr>\n",
       "  </thead>\n",
       "  <tbody>\n",
       "    <tr>\n",
       "      <th>3</th>\n",
       "      <td>-25.4</td>\n",
       "      <td>-70.4833</td>\n",
       "      <td>2014-05-01</td>\n",
       "      <td>1</td>\n",
       "    </tr>\n",
       "    <tr>\n",
       "      <th>4</th>\n",
       "      <td>-18.4631</td>\n",
       "      <td>-70.3053</td>\n",
       "      <td>2014-05-01</td>\n",
       "      <td>1</td>\n",
       "    </tr>\n",
       "    <tr>\n",
       "      <th>5</th>\n",
       "      <td>-27.0658</td>\n",
       "      <td>-70.8259</td>\n",
       "      <td>2014-05-09</td>\n",
       "      <td>13</td>\n",
       "    </tr>\n",
       "    <tr>\n",
       "      <th>6</th>\n",
       "      <td>-18.4933</td>\n",
       "      <td>-70.3261</td>\n",
       "      <td>2014-05-10</td>\n",
       "      <td>15</td>\n",
       "    </tr>\n",
       "    <tr>\n",
       "      <th>7</th>\n",
       "      <td>-27.122</td>\n",
       "      <td>-70.8576</td>\n",
       "      <td>2014-05-10</td>\n",
       "      <td>23</td>\n",
       "    </tr>\n",
       "    <tr>\n",
       "      <th>...</th>\n",
       "      <td>...</td>\n",
       "      <td>...</td>\n",
       "      <td>...</td>\n",
       "      <td>...</td>\n",
       "    </tr>\n",
       "    <tr>\n",
       "      <th>671</th>\n",
       "      <td>-27.1176</td>\n",
       "      <td>-70.8552</td>\n",
       "      <td>2016-03-12</td>\n",
       "      <td>2</td>\n",
       "    </tr>\n",
       "    <tr>\n",
       "      <th>672</th>\n",
       "      <td>-27.0833</td>\n",
       "      <td>-70.8431</td>\n",
       "      <td>2016-03-12</td>\n",
       "      <td>2</td>\n",
       "    </tr>\n",
       "    <tr>\n",
       "      <th>673</th>\n",
       "      <td>-26.9905</td>\n",
       "      <td>-70.7899</td>\n",
       "      <td>2016-03-12</td>\n",
       "      <td>2</td>\n",
       "    </tr>\n",
       "    <tr>\n",
       "      <th>674</th>\n",
       "      <td>-26.9905</td>\n",
       "      <td>-70.7899</td>\n",
       "      <td>2016-03-13</td>\n",
       "      <td>5</td>\n",
       "    </tr>\n",
       "    <tr>\n",
       "      <th>675</th>\n",
       "      <td>-26.3566</td>\n",
       "      <td>-70.6408</td>\n",
       "      <td>2016-03-13</td>\n",
       "      <td>2</td>\n",
       "    </tr>\n",
       "  </tbody>\n",
       "</table>\n",
       "<p>673 rows × 4 columns</p>\n",
       "</div>"
      ],
      "text/plain": [
       "0    Latitud Longitud      Fecha Avistamientos\n",
       "3      -25.4 -70.4833 2014-05-01             1\n",
       "4   -18.4631 -70.3053 2014-05-01             1\n",
       "5   -27.0658 -70.8259 2014-05-09            13\n",
       "6   -18.4933 -70.3261 2014-05-10            15\n",
       "7    -27.122 -70.8576 2014-05-10            23\n",
       "..       ...      ...        ...           ...\n",
       "671 -27.1176 -70.8552 2016-03-12             2\n",
       "672 -27.0833 -70.8431 2016-03-12             2\n",
       "673 -26.9905 -70.7899 2016-03-12             2\n",
       "674 -26.9905 -70.7899 2016-03-13             5\n",
       "675 -26.3566 -70.6408 2016-03-13             2\n",
       "\n",
       "[673 rows x 4 columns]"
      ]
     },
     "execution_count": 3,
     "metadata": {},
     "output_type": "execute_result"
    }
   ],
   "source": [
    "avistamientos_df = pd.read_excel(\"./#ExcelsAvistamientosIniciales/Physalia_Ambiental_R.xlsx\")\n",
    "# avistamientos_df = pd.read_excel(\"../Physala_Data/Datos_Physalia_20171010.xls\")\n",
    "\n",
    "columnas = avistamientos_df.iloc[0]\n",
    "\n",
    "#Quito las 3 primeras filas, debido al formato de la excell\n",
    "avistamientos_df = avistamientos_df.iloc[3:] \n",
    "avistamientos_df.columns = columnas\n",
    "\n",
    "# Me quedo solo con los datos de avistamientos\n",
    "avistamientos_df = avistamientos_df[[\"Latitud\",\"Longitud\",\"Año\",\"Mes\",\"Día\",\"Avistamientos\"]]\n",
    "\n",
    "#Transdormaciones para sacar con fecha (datetime)\n",
    "avistamientos_fecha_df=avistamientos_df[[\"Año\",\"Mes\",\"Día\"]]\n",
    "avistamientos_fecha_df.columns = [\"year\",\"month\",\"day\"]\n",
    "\n",
    "fecha = pd.to_datetime(avistamientos_fecha_df)\n",
    "\n",
    "avistamientos_df[\"Fecha\"]=fecha\n",
    "avistamientos_df=avistamientos_df[[\"Latitud\",\"Longitud\",\"Fecha\",\"Avistamientos\"]]\n",
    "avistamientos_df"
   ]
  },
  {
   "cell_type": "code",
   "execution_count": 4,
   "metadata": {
    "scrolled": false
   },
   "outputs": [
    {
     "data": {
      "image/png": "[encoded data removed]",
      "text/plain": [
       "<Figure size 1080x576 with 1 Axes>"
      ]
     },
     "metadata": {
      "needs_background": "light"
     },
     "output_type": "display_data"
    }
   ],
   "source": [
    "import matplotlib.pyplot as plt\n",
    "plot_size = (15, 8)\n",
    "# ordeno valores \n",
    "a = avistamientos_df.sort_values(by='Fecha')[['Fecha','Avistamientos']]\n",
    "a = a.set_index('Fecha')\n",
    "\n",
    "# gráfica de la serie temporal\n",
    "ax = a.plot(figsize=plot_size, marker='o', legend=False)\n",
    "ax.set(xlabel='', ylabel='Avistamientos')\n",
    "plt.show()"
   ]
  },
  {
   "cell_type": "markdown",
   "metadata": {},
   "source": [
    "## con segundo grupo de datos"
   ]
  },
  {
   "cell_type": "code",
   "execution_count": 5,
   "metadata": {},
   "outputs": [],
   "source": [
    "avistamientos_2_df = pd.read_excel(\"./#ExcelsAvistamientosIniciales/Datos_Physalia_20171010.xls\")\n",
    "\n",
    "# elimino filas con tipo de atributo \"Categoria\" que van del 1 al tres y no siguen la mismas reglas que los numericos\n",
    "avistamientos_2_df = avistamientos_2_df[avistamientos_2_df['Tipo.Abund'] == 'numero']\n",
    "# cambio signo de coordenadas \n",
    "avistamientos_2_df['Lat.dec'] = avistamientos_2_df['Lat.dec'].multiply(-1)\n",
    "avistamientos_2_df['Long.dec'] = avistamientos_2_df['Long.dec'].multiply(-1)\n",
    "\n",
    "#filtro las columnas que nos interesan\n",
    "avistamientos_2_df = avistamientos_2_df[['Lat.dec','Long.dec','Date','Abundancia']]\n",
    "avistamientos_2_df.columns = ['Latitud','Longitud','Fecha','Avistamientos']"
   ]
  },
  {
   "cell_type": "code",
   "execution_count": 6,
   "metadata": {},
   "outputs": [
    {
     "name": "stdout",
     "output_type": "stream",
     "text": [
      "      Latitud  Longitud      Fecha  Avistamientos\n",
      "1121      NaN       NaN 2017-03-31             30\n",
      "1129      NaN       NaN 2017-04-06             21\n",
      "1143      NaN       NaN 2017-04-09              6\n",
      "1220      NaN       NaN 2017-05-16             80\n"
     ]
    }
   ],
   "source": [
    "#filas sin datos\n",
    "filas_nan = avistamientos_2_df[avistamientos_2_df.isna().any(axis=1)] # filas con valores vacios\n",
    "print(filas_nan)\n",
    "# eliminar esas filas\n",
    "avistamientos_2_df = avistamientos_2_df.drop(filas_nan.index.values)\n"
   ]
  },
  {
   "cell_type": "code",
   "execution_count": 7,
   "metadata": {},
   "outputs": [
    {
     "data": {
      "image/png": "[encoded data removed]",
      "text/plain": [
       "<Figure size 1080x576 with 1 Axes>"
      ]
     },
     "metadata": {
      "needs_background": "light"
     },
     "output_type": "display_data"
    }
   ],
   "source": [
    "import matplotlib.pyplot as plt\n",
    "plot_size = (15, 8)\n",
    "# ordeno valores \n",
    "a = avistamientos_2_df.sort_values(by='Fecha')[['Fecha','Avistamientos']]\n",
    "a = a.set_index('Fecha')\n",
    "\n",
    "# gráfica de la serie temporal\n",
    "ax = a.plot(figsize=plot_size, marker='o', legend=False)\n",
    "ax.set(xlabel='', ylabel='Avistamientos')\n",
    "plt.show()"
   ]
  },
  {
   "cell_type": "code",
   "execution_count": 8,
   "metadata": {},
   "outputs": [
    {
     "data": {
      "text/html": [
       "<div>\n",
       "<style scoped>\n",
       "    .dataframe tbody tr th:only-of-type {\n",
       "        vertical-align: middle;\n",
       "    }\n",
       "\n",
       "    .dataframe tbody tr th {\n",
       "        vertical-align: top;\n",
       "    }\n",
       "\n",
       "    .dataframe thead th {\n",
       "        text-align: right;\n",
       "    }\n",
       "</style>\n",
       "<table border=\"1\" class=\"dataframe\">\n",
       "  <thead>\n",
       "    <tr style=\"text-align: right;\">\n",
       "      <th></th>\n",
       "      <th>Latitud</th>\n",
       "      <th>Longitud</th>\n",
       "      <th>Fecha</th>\n",
       "      <th>Avistamientos</th>\n",
       "    </tr>\n",
       "  </thead>\n",
       "  <tbody>\n",
       "    <tr>\n",
       "      <th>0</th>\n",
       "      <td>-18.463056</td>\n",
       "      <td>-70.305278</td>\n",
       "      <td>2014-05-01</td>\n",
       "      <td>1</td>\n",
       "    </tr>\n",
       "    <tr>\n",
       "      <th>1</th>\n",
       "      <td>-25.400000</td>\n",
       "      <td>-70.483333</td>\n",
       "      <td>2014-05-01</td>\n",
       "      <td>1</td>\n",
       "    </tr>\n",
       "    <tr>\n",
       "      <th>2</th>\n",
       "      <td>-27.065847</td>\n",
       "      <td>-70.825936</td>\n",
       "      <td>2014-05-09</td>\n",
       "      <td>13</td>\n",
       "    </tr>\n",
       "    <tr>\n",
       "      <th>3</th>\n",
       "      <td>-18.493333</td>\n",
       "      <td>-70.326111</td>\n",
       "      <td>2014-05-10</td>\n",
       "      <td>15</td>\n",
       "    </tr>\n",
       "    <tr>\n",
       "      <th>4</th>\n",
       "      <td>-27.121997</td>\n",
       "      <td>-70.857606</td>\n",
       "      <td>2014-05-10</td>\n",
       "      <td>23</td>\n",
       "    </tr>\n",
       "    <tr>\n",
       "      <th>...</th>\n",
       "      <td>...</td>\n",
       "      <td>...</td>\n",
       "      <td>...</td>\n",
       "      <td>...</td>\n",
       "    </tr>\n",
       "    <tr>\n",
       "      <th>1209</th>\n",
       "      <td>-33.359197</td>\n",
       "      <td>-71.669692</td>\n",
       "      <td>2017-05-07</td>\n",
       "      <td>6</td>\n",
       "    </tr>\n",
       "    <tr>\n",
       "      <th>1210</th>\n",
       "      <td>-34.756150</td>\n",
       "      <td>-71.486914</td>\n",
       "      <td>2017-05-08</td>\n",
       "      <td>700</td>\n",
       "    </tr>\n",
       "    <tr>\n",
       "      <th>1211</th>\n",
       "      <td>-41.858347</td>\n",
       "      <td>-74.020769</td>\n",
       "      <td>2017-05-08</td>\n",
       "      <td>20</td>\n",
       "    </tr>\n",
       "    <tr>\n",
       "      <th>1218</th>\n",
       "      <td>-33.022886</td>\n",
       "      <td>-71.569536</td>\n",
       "      <td>2017-05-10</td>\n",
       "      <td>33</td>\n",
       "    </tr>\n",
       "    <tr>\n",
       "      <th>1223</th>\n",
       "      <td>-41.796025</td>\n",
       "      <td>-73.463744</td>\n",
       "      <td>2017-05-18</td>\n",
       "      <td>133</td>\n",
       "    </tr>\n",
       "  </tbody>\n",
       "</table>\n",
       "<p>886 rows × 4 columns</p>\n",
       "</div>"
      ],
      "text/plain": [
       "        Latitud   Longitud      Fecha  Avistamientos\n",
       "0    -18.463056 -70.305278 2014-05-01              1\n",
       "1    -25.400000 -70.483333 2014-05-01              1\n",
       "2    -27.065847 -70.825936 2014-05-09             13\n",
       "3    -18.493333 -70.326111 2014-05-10             15\n",
       "4    -27.121997 -70.857606 2014-05-10             23\n",
       "...         ...        ...        ...            ...\n",
       "1209 -33.359197 -71.669692 2017-05-07              6\n",
       "1210 -34.756150 -71.486914 2017-05-08            700\n",
       "1211 -41.858347 -74.020769 2017-05-08             20\n",
       "1218 -33.022886 -71.569536 2017-05-10             33\n",
       "1223 -41.796025 -73.463744 2017-05-18            133\n",
       "\n",
       "[886 rows x 4 columns]"
      ]
     },
     "execution_count": 8,
     "metadata": {},
     "output_type": "execute_result"
    }
   ],
   "source": [
    "#guarda df\n",
    "guarda_dataframe(avistamientos_2_df,'1_avistamientos_origen')\n",
    "\n",
    "avistamientos_2_df"
   ]
  },
  {
   "cell_type": "code",
   "execution_count": 9,
   "metadata": {},
   "outputs": [],
   "source": [
    "## para leer los .pkl\n",
    "# a  = pd.read_pickle('1_avistamientos.pkl')"
   ]
  },
  {
   "cell_type": "markdown",
   "metadata": {},
   "source": [
    "# Redondeo con salto entre cuadrantes de dataSet original (0,0833)\n",
    "Redondeo de latitud y longitud para juntar lecturas de una misma playa con coordenadas muy proximas\n",
    "\n",
    "Se exporta el dataframe generado a un excel"
   ]
  },
  {
   "cell_type": "code",
   "execution_count": 10,
   "metadata": {},
   "outputs": [],
   "source": [
    "df_avistamientos  = pd.read_pickle('1_avistamientos_origen.pkl')"
   ]
  },
  {
   "cell_type": "code",
   "execution_count": 11,
   "metadata": {},
   "outputs": [],
   "source": [
    "def redondeo(coordenadas, base=1/12):\n",
    "    \"\"\"\n",
    "    Devuelve las coordenadas pasadas redondeadas\n",
    "    \n",
    "    Parametros:\n",
    "    coordenadas -- lista de latitud y longitud\n",
    "    base -- base del redondeo\n",
    "    \"\"\"\n",
    "    return  base * round(coordenadas/base)\n",
    "\n",
    "#Se añaden atributos con la longitud y latitud redondeadas a cada cuarto de grado\n",
    "df_avistamientos[\"Lat_floor\"] = df_avistamientos.Latitud.map(redondeo)\n",
    "df_avistamientos[\"Long_floor\"] = df_avistamientos.Longitud.map(redondeo)\n",
    "\n",
    "#Descarto latitudes sin redondear\n",
    "df = df_avistamientos[['Lat_floor', 'Long_floor',\"Fecha\",\"Avistamientos\"]]\n",
    "\n",
    "#DataFrame total avistamientos de playas en esa cuadricula\n",
    "df_sum = df.groupby(['Lat_floor', 'Long_floor',\"Fecha\"]).sum()\n",
    "\n",
    "#DataFrame número de playas en esa cuadricula\n",
    "df_count = df.groupby(['Lat_floor', 'Long_floor',\"Fecha\"]).count()\n",
    "\n",
    "#Dataframe con el total de avistamientos y el número de playas\n",
    "df_join = df_sum.join(df_count,lsuffix=\"I\",rsuffix=\"R\")\n",
    "df_join.columns=['Suma', 'N_Playas']\n",
    "df_join['Media_Playas'] = df_join.Suma /df_join.N_Playas\n",
    "\n",
    "#Se ordenan temporalmente\n",
    "df_join = df_join.sort_values(by=['Fecha','Lat_floor','Long_floor' ]).reset_index().set_index(['Fecha','Lat_floor','Long_floor' ])\n",
    "\n",
    "# DataFrame de avistamientos procesado\n",
    "guarda_dataframe(df_join,'2_avistamientos_redondeo')\n"
   ]
  },
  {
   "cell_type": "code",
   "execution_count": 12,
   "metadata": {
    "scrolled": true
   },
   "outputs": [
    {
     "data": {
      "text/html": [
       "<div>\n",
       "<style scoped>\n",
       "    .dataframe tbody tr th:only-of-type {\n",
       "        vertical-align: middle;\n",
       "    }\n",
       "\n",
       "    .dataframe tbody tr th {\n",
       "        vertical-align: top;\n",
       "    }\n",
       "\n",
       "    .dataframe thead th {\n",
       "        text-align: right;\n",
       "    }\n",
       "</style>\n",
       "<table border=\"1\" class=\"dataframe\">\n",
       "  <thead>\n",
       "    <tr style=\"text-align: right;\">\n",
       "      <th></th>\n",
       "      <th></th>\n",
       "      <th></th>\n",
       "      <th>Suma</th>\n",
       "      <th>N_Playas</th>\n",
       "      <th>Media_Playas</th>\n",
       "    </tr>\n",
       "    <tr>\n",
       "      <th>Fecha</th>\n",
       "      <th>Lat_floor</th>\n",
       "      <th>Long_floor</th>\n",
       "      <th></th>\n",
       "      <th></th>\n",
       "      <th></th>\n",
       "    </tr>\n",
       "  </thead>\n",
       "  <tbody>\n",
       "    <tr>\n",
       "      <th rowspan=\"2\" valign=\"top\">2014-05-01</th>\n",
       "      <th>-25.416667</th>\n",
       "      <th>-70.500000</th>\n",
       "      <td>1</td>\n",
       "      <td>1</td>\n",
       "      <td>1.0</td>\n",
       "    </tr>\n",
       "    <tr>\n",
       "      <th>-18.500000</th>\n",
       "      <th>-70.333333</th>\n",
       "      <td>1</td>\n",
       "      <td>1</td>\n",
       "      <td>1.0</td>\n",
       "    </tr>\n",
       "    <tr>\n",
       "      <th>2014-05-09</th>\n",
       "      <th>-27.083333</th>\n",
       "      <th>-70.833333</th>\n",
       "      <td>13</td>\n",
       "      <td>1</td>\n",
       "      <td>13.0</td>\n",
       "    </tr>\n",
       "    <tr>\n",
       "      <th rowspan=\"2\" valign=\"top\">2014-05-10</th>\n",
       "      <th>-27.083333</th>\n",
       "      <th>-70.833333</th>\n",
       "      <td>23</td>\n",
       "      <td>1</td>\n",
       "      <td>23.0</td>\n",
       "    </tr>\n",
       "    <tr>\n",
       "      <th>-18.500000</th>\n",
       "      <th>-70.333333</th>\n",
       "      <td>15</td>\n",
       "      <td>1</td>\n",
       "      <td>15.0</td>\n",
       "    </tr>\n",
       "    <tr>\n",
       "      <th>...</th>\n",
       "      <th>...</th>\n",
       "      <th>...</th>\n",
       "      <td>...</td>\n",
       "      <td>...</td>\n",
       "      <td>...</td>\n",
       "    </tr>\n",
       "    <tr>\n",
       "      <th rowspan=\"3\" valign=\"top\">2017-05-08</th>\n",
       "      <th>-34.750000</th>\n",
       "      <th>-71.500000</th>\n",
       "      <td>700</td>\n",
       "      <td>1</td>\n",
       "      <td>700.0</td>\n",
       "    </tr>\n",
       "    <tr>\n",
       "      <th>-27.333333</th>\n",
       "      <th>-70.916667</th>\n",
       "      <td>5</td>\n",
       "      <td>1</td>\n",
       "      <td>5.0</td>\n",
       "    </tr>\n",
       "    <tr>\n",
       "      <th>-27.083333</th>\n",
       "      <th>-70.833333</th>\n",
       "      <td>15</td>\n",
       "      <td>2</td>\n",
       "      <td>7.5</td>\n",
       "    </tr>\n",
       "    <tr>\n",
       "      <th>2017-05-10</th>\n",
       "      <th>-33.000000</th>\n",
       "      <th>-71.583333</th>\n",
       "      <td>33</td>\n",
       "      <td>1</td>\n",
       "      <td>33.0</td>\n",
       "    </tr>\n",
       "    <tr>\n",
       "      <th>2017-05-18</th>\n",
       "      <th>-41.833333</th>\n",
       "      <th>-73.500000</th>\n",
       "      <td>133</td>\n",
       "      <td>1</td>\n",
       "      <td>133.0</td>\n",
       "    </tr>\n",
       "  </tbody>\n",
       "</table>\n",
       "<p>668 rows × 3 columns</p>\n",
       "</div>"
      ],
      "text/plain": [
       "                                  Suma  N_Playas  Media_Playas\n",
       "Fecha      Lat_floor  Long_floor                              \n",
       "2014-05-01 -25.416667 -70.500000     1         1           1.0\n",
       "           -18.500000 -70.333333     1         1           1.0\n",
       "2014-05-09 -27.083333 -70.833333    13         1          13.0\n",
       "2014-05-10 -27.083333 -70.833333    23         1          23.0\n",
       "           -18.500000 -70.333333    15         1          15.0\n",
       "...                                ...       ...           ...\n",
       "2017-05-08 -34.750000 -71.500000   700         1         700.0\n",
       "           -27.333333 -70.916667     5         1           5.0\n",
       "           -27.083333 -70.833333    15         2           7.5\n",
       "2017-05-10 -33.000000 -71.583333    33         1          33.0\n",
       "2017-05-18 -41.833333 -73.500000   133         1         133.0\n",
       "\n",
       "[668 rows x 3 columns]"
      ]
     },
     "execution_count": 12,
     "metadata": {},
     "output_type": "execute_result"
    }
   ],
   "source": [
    "df_join"
   ]
  },
  {
   "cell_type": "markdown",
   "metadata": {},
   "source": [
    "# Estructura uniendo avistamientos y condiciones oceánicas"
   ]
  },
  {
   "cell_type": "code",
   "execution_count": 13,
   "metadata": {},
   "outputs": [],
   "source": [
    "df_join = pd.read_pickle('2_avistamientos_redondeo.pkl')"
   ]
  },
  {
   "cell_type": "code",
   "execution_count": 14,
   "metadata": {
    "scrolled": true
   },
   "outputs": [],
   "source": [
    "df_playas = df_join.reset_index()\n",
    "# Cojo las columnas que me interesan\n",
    "df_playas = df_playas[[\"Suma\",\"Lat_floor\",\"Long_floor\",\"Fecha\"]]\n",
    "# Renombro las columnas \n",
    "df_playas = df_playas.rename(columns={\"Suma\": \"Avistamientos\", \"Lat_floor\": \"Latitud\", \"Long_floor\": \"Longitud\"})\n",
    "# Ordeno por fecha\n",
    "df_playas = df_playas.sort_values(by=[\"Fecha\"])\n",
    "guarda_dataframe(df=df_playas,nombre='2_avistamientos_redondeo')"
   ]
  },
  {
   "cell_type": "markdown",
   "metadata": {},
   "source": [
    "### características"
   ]
  },
  {
   "cell_type": "code",
   "execution_count": 15,
   "metadata": {},
   "outputs": [],
   "source": [
    "df_playas # DataFrame con avistamientos en cada playa\n",
    "cuadrantes = { # Numero de cuadrantes que se concatenarán con las playas\n",
    "    'izquierda': 0 ,\n",
    "    'arriba': 0 ,\n",
    "    'abajo': 0\n",
    "}\n",
    "dias_desfase = 15\n",
    "salto = 1/12 # Salto de coordenadas entre los cuadrantes\n",
    "listado_archivos = os.listdir('W:\\DatosCopernicusTFG\\descargas') # Listo todos los archivos de Copernicus\n",
    "variables = ['Coord','Profundidad','mlotst','zos','bottomT','thetao','so','uo','vo']"
   ]
  },
  {
   "cell_type": "code",
   "execution_count": 16,
   "metadata": {},
   "outputs": [],
   "source": [
    "def busca_archivo(fecha):\n",
    "    \"\"\"\n",
    "    Devuelve el archivo .nc de la fecha pasada por parametro\n",
    "    \n",
    "    Parametros:\n",
    "    fecha -- fecha en formato AñoMesDia (20140105)\n",
    "    \"\"\"\n",
    "    texto ='_{}_'.format(str(fecha).split()[0].replace('-',''))\n",
    "    archivo = [x for x in listado_archivos if str(texto) in x]\n",
    "    data = xr.open_dataset('W:\\DatosCopernicusTFG\\descargas\\{}'.format(archivo[0])) # cargo el archivo\n",
    "    return data # devuelvo dataset\n",
    "\n",
    "def dame_datos(latitud,longitud,ds):\n",
    "    \"\"\"\n",
    "    Devuelve los datos del dataset en las coordenadas pasadas\n",
    "    \n",
    "    Parametros:\n",
    "    latitud -- latitud \n",
    "    longitud -- longitud\n",
    "    ds -- dataset del que extraer los valores\n",
    "    \"\"\"\n",
    "    return ds.sel({'latitude':latitud,'longitude': longitud})\n",
    "\n",
    "def comprueba_datos(latitud,longitud,ds):\n",
    "    \"\"\"\n",
    "    Comprueba si el dataset contiene valores en las coordenadas pasadas\n",
    "    \n",
    "    Devuelve las coordenadas mas cercanas con datos \n",
    "    \n",
    "    Parametros:\n",
    "    latitud -- latitud\n",
    "    longitud -- longitud\n",
    "    ds -- dataset del que extraer los valores\n",
    "    \"\"\"\n",
    "    valor = dame_datos(latitud,longitud,ds)\n",
    "    while math.isnan(valor.mlotst[0]):\n",
    "        longitud = longitud - salto\n",
    "        valor = dame_datos(latitud,longitud,ds)\n",
    "    return latitud,longitud # devuelvo las coordenadas con datos\n",
    "\n",
    "def crea_DF():\n",
    "    \"\"\"\n",
    "    Devuelve un dataframe con las columnas especificadas teniendo en cuenta los valores de le diccionario \"cuadrantes\"\n",
    "    \"\"\"\n",
    "    df_resultados = None\n",
    "    df_resultados = pd.DataFrame(columns=[\"Avistamientos\",\"Latitud\",\"Longitud\",\"Fecha\",'Coord',\"Profundidad\",\"mlotst\",'zos','bottomT','thetao','so','uo','vo']) # columnas básicas\n",
    "    for izquierda in range(cuadrantes['izquierda']): # por cada cuadrante a la izquierda meto un grupo de columnas\n",
    "        var_aux = [str(x+'_izq_'+str(izquierda+1)) for x in variables]\n",
    "        df_aux = pd.DataFrame(columns=var_aux)\n",
    "        df_resultados = df_resultados.join(df_aux)\n",
    "        for superior in range (cuadrantes['arriba']): # por cada cuadrante a la superior meto un grupo de columnas\n",
    "            var_aux = [x+'_sup_'+str(izquierda+1)+'.'+str(superior+1) for x in variables]\n",
    "            df_aux = pd.DataFrame(columns=var_aux)\n",
    "            df_resultados = df_resultados.join(df_aux)\n",
    "        for inferior in range (cuadrantes['abajo']): # por cada cuadrante a la inferior meto un grupo de columnas    \n",
    "            var_aux = [x+'_inf_'+str(izquierda+1)+'.'+str(inferior+1) for x in variables]\n",
    "            df_aux = pd.DataFrame(columns=var_aux)\n",
    "            df_resultados = df_resultados.join(df_aux)\n",
    "    return df_resultados\n",
    "\n",
    "def meto_en_df(df_resultados,row,coordenadas,df,indice,variables_actuales):\n",
    "    \"\"\"\n",
    "    Introduce los valores en el dataframe df_resultados\n",
    "    \n",
    "    Parametros:\n",
    "    df_resultados -- dataframe al que añadir los valores de coordenadas y variables\n",
    "    row -- valores de numero de avistamientos, coordenadas y fecha del avistamiento\n",
    "    coordenadas -- coordenadas de las variables\n",
    "    df -- dataframe con las variables oceanicas\n",
    "    indice -- linea en la uqe insetar la linea\n",
    "    variables_actuales -- variables en las que introducir los valores pasados en df\n",
    "    \"\"\"\n",
    "    for x in range(3):\n",
    "        df_resultados.loc[indice + x,[\"Avistamientos\",\"Latitud\",\"Longitud\",\"Fecha\"]] = row.values.tolist() # meto en df_resulados los datos de ese cuadrante\n",
    "        vars = df.loc[x,['depth', 'mlotst','zos','bottomT','thetao','so','uo','vo']].values.tolist()\n",
    "        vars.insert(0,coordenadas)\n",
    "        df_resultados.loc[indice + x,variables_actuales] = vars # meto coordenadas reales utilizadas y datos \n",
    "    return df_resultados\n",
    "\n",
    "def dameCoordIzq(lat,long,n_saltos):\n",
    "    \"\"\"\n",
    "    Devuelve las coordenadas del siguiente cuandrante a la izquierda\n",
    "    \n",
    "    Parametros:\n",
    "    lat -- latitud\n",
    "    long -- longitud\n",
    "    n_saltos -- numero de cuadrantes a saltar\n",
    "    \"\"\"\n",
    "    return [lat,long-(salto*n_saltos)]\n",
    "\n",
    "def dameCoordSuperior(lat,long,n_saltos):\n",
    "    \"\"\"\n",
    "    Devuelve las coordenadas del siguiente cuadrante por arriba\n",
    "    \n",
    "    Parametros:\n",
    "    lat -- latitud\n",
    "    long -- longitud\n",
    "    n_saltos -- numero de cuadrantes a saltar\n",
    "    \"\"\"\n",
    "    coordenadas = dameCoordIzq(lat,long,n_saltos)\n",
    "    return [lat+(salto*n_saltos),long]\n",
    "\n",
    "def dameCoordInferior(lat,long,n_saltos):\n",
    "    \"\"\"\n",
    "    Devuelve las coordenadas del siguiente cuandrante por abajo\n",
    "    \n",
    "    Parametros:\n",
    "    lat -- latitud\n",
    "    long -- longitud\n",
    "    n_saltos -- numero de cuadrantes a saltar\n",
    "    \"\"\"\n",
    "    return [lat-(salto*n_saltos),long]\n",
    "\n",
    "def resta_fecha(fecha,dias):\n",
    "    \"\"\"\n",
    "    Devuelve la fecha restando en numero de dias indicado\n",
    "    \n",
    "    Parametros:\n",
    "    fecha -- fecha en formato AñoMesDia (20140105)\n",
    "    dias -- numero de dias a restar\n",
    "    \"\"\"\n",
    "    return fecha - pd.Timedelta(days=dias)"
   ]
  },
  {
   "cell_type": "code",
   "execution_count": 17,
   "metadata": {},
   "outputs": [],
   "source": [
    "# x = df = pd.read_pickle('2_avistamientos_redondeo.pkl')\n",
    "# x = x.loc[5]\n",
    "# print(x['Fecha'])\n",
    "# ds = busca_archivo(resta_fecha(x['Fecha'],0)) # busco el archivo de la fecha \n"
   ]
  },
  {
   "cell_type": "code",
   "execution_count": 82,
   "metadata": {},
   "outputs": [],
   "source": [
    "def crea_estr(df):\n",
    "    \"\"\"\n",
    "    Devuelve un data frame con los a vistamientos y los datos oceanicos asociados a las coordenadas de los mismos\n",
    "    \"\"\"\n",
    "    df_resultados = crea_DF() # creo df con columnas necesarias\n",
    "    #print(df_resultados)\n",
    "    total_lineas = df.shape[0]\n",
    "    pbar = tqdm(total = total_lineas)\n",
    "    for contador,[index, row] in enumerate(df.iterrows()): # por cada playa\n",
    "#         print(contador,end='\\r')\n",
    "        pbar.update(1)\n",
    "        ds = busca_archivo(resta_fecha(row['Fecha'],dias_desfase)) # busco el archivo de la fecha \n",
    "        coordenadas = comprueba_datos(row['Latitud'],row['Longitud'],ds) # miro a ver si el cuadrante tiene datos, sino cojo el siguiente por la izquierda\n",
    "\n",
    "        df = dame_datos(coordenadas[0],coordenadas[1],ds).to_dataframe().reset_index() # dataframe con los datso oceanicos de esas coordenadas y en esa fecha\n",
    "        df_resultados = meto_en_df(df_resultados,row,list(coordenadas),df,contador * 3,variables)\n",
    "#         print('--{}'.format(contador))\n",
    "        # datos de las celdas extras\n",
    "        for izquierda in range(cuadrantes['izquierda']): # por cada cuadrante a la izquierda, añado datos\n",
    "            coordenadas = dameCoordIzq(coordenadas[0],coordenadas[1],izquierda+1)\n",
    "            df = dame_datos(coordenadas[0],coordenadas[1],ds).to_dataframe().reset_index() \n",
    "            var_aux = [x+'_izq_'+str(izquierda+1) for x in variables]\n",
    "            df_resultados = meto_en_df(df_resultados,row,coordenadas,df,contador * 3,var_aux)\n",
    "            coord_aux = coordenadas\n",
    "            for superior in range (cuadrantes['arriba']): # por cada cuadrante a la superior, añado datos\n",
    "                coord_aux = dameCoordSuperior(coord_aux[0],coord_aux[1],superior+1)\n",
    "                df = dame_datos(coord_aux[0],coord_aux[1],ds).to_dataframe().reset_index() \n",
    "                var_aux = [x+'_sup_'+str(izquierda+1)+'.'+str(superior+1) for x in variables]\n",
    "                df_resultados = meto_en_df(df_resultados,row,coord_aux,df,contador * 3,var_aux)\n",
    "            coord_aux = coordenadas\n",
    "            for inferior in range (cuadrantes['abajo']): # por cada cuadrante a la inferior, añado datos  \n",
    "                coord_aux = dameCoordInferior(coord_aux[0],coord_aux[1],inferior+1)\n",
    "                df = dame_datos(coord_aux[0],coord_aux[1],ds).to_dataframe().reset_index() \n",
    "                var_aux = [x+'_inf_'+str(izquierda+1)+'.'+str(inferior+1) for x in variables]\n",
    "                df_resultados = meto_en_df(df_resultados,row,coord_aux,df,contador * 3,var_aux)\n",
    "\n",
    "#         if contador == 5:\n",
    "#             break\n",
    "    return df_resultados"
   ]
  },
  {
   "cell_type": "code",
   "execution_count": 19,
   "metadata": {
    "scrolled": true
   },
   "outputs": [],
   "source": [
    "# creo estructura de datos\n",
    "\n",
    "# df_resultados = crea_estr(df_playas)\n",
    "# df_resultados.head()"
   ]
  },
  {
   "cell_type": "code",
   "execution_count": 20,
   "metadata": {},
   "outputs": [],
   "source": [
    "# df_resultados.head()"
   ]
  },
  {
   "cell_type": "code",
   "execution_count": 21,
   "metadata": {},
   "outputs": [],
   "source": [
    "# #Guardo la estructura\n",
    "# df_resultados = df_resultados.reset_index().set_index(['Fecha','Latitud','Longitud','Avistamientos','Profundidad'])\n",
    "# guarda_dataframe(df_resultados,nombre='3_estructura')\n",
    "# df_resultados.to_excel('3EstructuraFinal.xlsx')\n",
    "# df_resultados.head()"
   ]
  },
  {
   "cell_type": "code",
   "execution_count": 22,
   "metadata": {},
   "outputs": [],
   "source": [
    "# for i in [0,7,14,30,45,60]:\n",
    "#     dias_desfase = i\n",
    "#     df_resultados = crea_estr()\n",
    "#     df_resultados = df_resultados.reset_index().set_index(['Latitud','Longitud','Fecha','Avistamientos','Profundidad'])\n",
    "#     df_resultados.to_excel('-EstructuraFinal{}dias.xlsx'.format(i))\n",
    "# df_resultados.head()"
   ]
  },
  {
   "cell_type": "markdown",
   "metadata": {},
   "source": [
    "## Estructura sin rellenar huecos sin datos"
   ]
  },
  {
   "cell_type": "code",
   "execution_count": 23,
   "metadata": {},
   "outputs": [],
   "source": [
    "# def crea_estr():\n",
    "#     df_resultados = crea_DF() # creo df con columnas necesarias\n",
    "#     #print(df_resultados)\n",
    "#     total_lineas = df_playas.shape[0]\n",
    "#     pbar = tqdm(total = total_lineas)\n",
    "#     for contador,[index, row] in enumerate(df_playas.iterrows()): # por cada playa\n",
    "# #         print(contador,end='\\r')\n",
    "#         pbar.update(1)\n",
    "#         ds = busca_archivo(row['Fecha']) # busco el archivo de la fecha \n",
    "#         coordenadas = [row['Latitud'],row['Longitud']]\n",
    "\n",
    "#         df = dame_datos(row['Latitud'],row['Longitud'],ds).to_dataframe().reset_index() # dataframe con los datso oceanicos de esas coordenadas y en esa fecha\n",
    "#         df_resultados = meto_en_df(df_resultados,row,[row['Latitud'],row['Longitud']],df,contador * 3,variables)\n",
    "        \n",
    "#         # datos de las celdas extras\n",
    "#         for izquierda in range(cuadrantes['izquierda']): # por cada cuadrante a la izquierda, añado datos\n",
    "#             coordenadas = dameCoordIzq(coordenadas[0],coordenadas[1],izquierda+1)\n",
    "#             df = dame_datos(coordenadas[0],coordenadas[1],ds).to_dataframe().reset_index() \n",
    "#             var_aux = [x+'_izq_'+str(izquierda+1) for x in variables]\n",
    "#             df_resultados = meto_en_df(df_resultados,row,coordenadas,df,contador * 3,var_aux)\n",
    "#             coord_aux = coordenadas\n",
    "#             for superior in range (cuadrantes['arriba']): # por cada cuadrante a la superior, añado datos\n",
    "#                 coord_aux = dameCoordSuperior(coord_aux[0],coord_aux[1],superior+1)\n",
    "#                 df = dame_datos(coord_aux[0],coord_aux[1],ds).to_dataframe().reset_index() \n",
    "#                 var_aux = [x+'_sup_'+str(izquierda+1)+'.'+str(superior+1) for x in variables]\n",
    "#                 df_resultados = meto_en_df(df_resultados,row,coord_aux,df,contador * 3,var_aux)\n",
    "#             coord_aux = coordenadas\n",
    "#             for inferior in range (cuadrantes['abajo']): # por cada cuadrante a la inferior, añado datos  \n",
    "#                 coord_aux = dameCoordInferior(coord_aux[0],coord_aux[1],inferior+1)\n",
    "#                 df = dame_datos(coord_aux[0],coord_aux[1],ds).to_dataframe().reset_index() \n",
    "#                 var_aux = [x+'_inf_'+str(izquierda+1)+'.'+str(inferior+1) for x in variables]\n",
    "#                 df_resultados = meto_en_df(df_resultados,row,coord_aux,df,contador * 3,var_aux)\n",
    "        \n",
    "#     return df_resultados"
   ]
  },
  {
   "cell_type": "code",
   "execution_count": 24,
   "metadata": {},
   "outputs": [],
   "source": [
    "# df_resultados_con_vacios = crea_estr()"
   ]
  },
  {
   "cell_type": "code",
   "execution_count": 25,
   "metadata": {},
   "outputs": [],
   "source": [
    "# df_resultados_con_vacios.head()"
   ]
  },
  {
   "cell_type": "code",
   "execution_count": 26,
   "metadata": {},
   "outputs": [],
   "source": [
    "# df_resultados_con_vacios.to_excel('3EstructuraCoordEnTierra.xlsx')"
   ]
  },
  {
   "cell_type": "markdown",
   "metadata": {},
   "source": [
    "# Rellenar datos de celdas vacios\n",
    "Con datos de la coordenada más cercana por la izquierda"
   ]
  },
  {
   "cell_type": "code",
   "execution_count": 27,
   "metadata": {},
   "outputs": [],
   "source": [
    "def comprueba_datos_thetao(latitud,longitud,ds):\n",
    "    \"\"\"\n",
    "    Comprueba que el dataset pasado tenga datos en las coordenadas especificadas\n",
    "    \n",
    "    Devuelve las mismas coordenadas si tienen datos y sino devuelve las del cuadrante por la izquierda \n",
    "    mas cercano que contenga\n",
    "    \n",
    "    latitud -- latitud\n",
    "    longitud -- longitud\n",
    "    ds -- dataset\n",
    "    \"\"\"\n",
    "    valor = dame_datos(latitud,longitud,ds)\n",
    "    while math.isnan(valor.thetao[0][2]):\n",
    "        longitud = float(longitud) - salto\n",
    "        valor = dame_datos(latitud,longitud,ds)\n",
    "    return latitud,longitud # devuelvo las coordenadas con datos"
   ]
  },
  {
   "cell_type": "code",
   "execution_count": 28,
   "metadata": {},
   "outputs": [],
   "source": [
    "# datos_excel = pd.read_excel('EstructuraFinal.xlsx').reset_index() # leo estructura de datos que contiene huecos sin informacion\n",
    "# datos = datos_excel.drop(['Unnamed: 0'],axis=1).sort_values(by=['Latitud','Longitud','Profundidad','Fecha']) \n",
    "\n",
    "# datos_excel = df_resultados.copy().reset_index()\n",
    "# datos = datos_excel.sort_values(by=['Latitud','Longitud','Fecha']) "
   ]
  },
  {
   "cell_type": "code",
   "execution_count": 29,
   "metadata": {},
   "outputs": [],
   "source": [
    "# datos"
   ]
  },
  {
   "cell_type": "code",
   "execution_count": 87,
   "metadata": {},
   "outputs": [],
   "source": [
    "def rellenar_huecos(df):\n",
    "    \"\"\"\n",
    "    Rellena las lineas sin datos en el dataframe recibido y le devuelve completo\n",
    "    \n",
    "    Parametros:\n",
    "    df -- dataframe\n",
    "    \"\"\"\n",
    "    filas_nan = df[df.isna().any(axis=1)] # filas con valores vacios\n",
    "    datos_copia = df.copy()\n",
    "    total_lineas = filas_nan.shape[0]\n",
    "    pbar = tqdm(total = total_lineas)\n",
    "    for indice, fila in filas_nan.iterrows():\n",
    "        pbar.update(1)\n",
    "        for index, value in fila.isna().items():\n",
    "            if value:\n",
    "                nombre_original = index\n",
    "                nombre = 'Coord'\n",
    "                try:\n",
    "                    nombre_original = index[:index.index('_')] # nombre de la columna en el DataSet\n",
    "                    nombre = nombre + index[index.index('_'):] # nombre de la columna de coordenadas de ese punto\n",
    "                except:\n",
    "                    pass\n",
    "                coordenadas = fila[nombre]\n",
    "#                 coordenadas = [0,0]\n",
    "#                 coordenadas[0] = coord[1:coord.index(',')]\n",
    "#                 coordenadas[1] = coord[coord.index(',')+1:coord.index(']')]\n",
    "                archivo = busca_archivo(fila['Fecha'])\n",
    "                coordenadas = comprueba_datos_thetao(coordenadas[0],coordenadas[1],archivo)\n",
    "                datos_fila = dame_datos(coordenadas[0],coordenadas[1],archivo)\n",
    "                valor =datos_fila.sel({'depth':fila['Profundidad']}).to_dataframe().reset_index()[nombre_original].values[0]\n",
    "                datos_copia.loc[indice,index] = valor\n",
    "    return datos_copia"
   ]
  },
  {
   "cell_type": "code",
   "execution_count": null,
   "metadata": {},
   "outputs": [],
   "source": []
  },
  {
   "cell_type": "code",
   "execution_count": 62,
   "metadata": {
    "scrolled": true
   },
   "outputs": [],
   "source": [
    "# datos_sin_huecos = rellenar_huecos(datos)"
   ]
  },
  {
   "cell_type": "code",
   "execution_count": 63,
   "metadata": {},
   "outputs": [],
   "source": [
    "# filas_nan_2 = datos_sin_huecos[datos_sin_huecos.isna().any(axis=1)] # compruebo que se hayan rellenado todos los vacios\n",
    "# filas_nan_2.head()"
   ]
  },
  {
   "cell_type": "code",
   "execution_count": 64,
   "metadata": {},
   "outputs": [],
   "source": [
    "# datos_sin_huecos = datos_sin_huecos.reset_index().set_index(['Latitud','Longitud','Fecha','Avistamientos','Profundidad']).drop(['index'],axis = 1)\n",
    "# datos_sin_huecos.to_excel('4EstructuraFinalSinMissings.xlsx')"
   ]
  },
  {
   "cell_type": "code",
   "execution_count": 65,
   "metadata": {},
   "outputs": [],
   "source": [
    "# datos_sin_huecos"
   ]
  },
  {
   "cell_type": "markdown",
   "metadata": {},
   "source": [
    "## Ajustes estructura + normalización"
   ]
  },
  {
   "cell_type": "code",
   "execution_count": 35,
   "metadata": {},
   "outputs": [],
   "source": [
    "# Estructura quitando las columnas de las coordenadas pues no nos sirven\n",
    "def cargar(nombre):\n",
    "    \"\"\"\n",
    "    Elimina las columnas que no son de datos para la estructura final del archivo con el nombre pasado\n",
    "    \n",
    "    Parametros:\n",
    "    nombre -- nombre del dataframe a modificar\n",
    "    \"\"\"\n",
    "    df = pd.read_pickle(nombre)\n",
    "    df = df.fillna(method='ffill', axis=0).set_index(['Latitud','Longitud','Fecha','Avistamientos','Profundidad'])#.drop(['level_0','index'],axis = 1)\n",
    "    # Eliminar columnas Coords\n",
    "    cols = [c for c in df.columns if 'Coord' not in c and 'Profundidad' not in c]\n",
    "\n",
    "    df_inicial=df[cols]\n",
    "\n",
    "    return df_inicial"
   ]
  },
  {
   "cell_type": "code",
   "execution_count": 36,
   "metadata": {},
   "outputs": [],
   "source": [
    "profundidades = ['_0','_5','_10']\n",
    "\n",
    "# añado etiqueta de profundidad\n",
    "def renombra_atributos(df):\n",
    "    \"\"\"\n",
    "    Renombra las columnas del dataframe pasado con las profundidades \n",
    "    \n",
    "    Parametros:\n",
    "    df -- dataframe a modificar\n",
    "    \"\"\"\n",
    "    columnas = []\n",
    "    for i in range(3):\n",
    "        columnas_aux = df.columns + profundidades[i]\n",
    "        [columnas.append(x) for x in columnas_aux]\n",
    "    df_atributos = pd.DataFrame(columns=columnas)\n",
    "    return df_atributos\n",
    "# df_atributos"
   ]
  },
  {
   "cell_type": "code",
   "execution_count": 37,
   "metadata": {},
   "outputs": [],
   "source": [
    "def unifica_lineas(df):\n",
    "    \"\"\"\n",
    "    Se concatenan las filas de las tres profundidades\n",
    "    \n",
    "    Parametros:\n",
    "    df -- dataframe a modificar\n",
    "    \"\"\"\n",
    "    df_atributos = renombra_atributos(df)\n",
    "    # meto tres profundidades consecutivas\n",
    "    total_lineas = df.shape[0]/3\n",
    "    pbar = tqdm(total = total_lineas)\n",
    "    for cont in range(int(df.shape[0]/3)):\n",
    "        pbar.update(1)\n",
    "        inicio = cont*3\n",
    "        df_aux = df.iloc[inicio:inicio+3]\n",
    "        lista = list()\n",
    "\n",
    "        for fila in df_aux.values.tolist():\n",
    "            for elem in fila :\n",
    "                lista.append(elem)\n",
    "\n",
    "        dict_atr = dict(zip(df_atributos.columns,lista))\n",
    "        df_atr_aux = pd.DataFrame(dict_atr,index=[0])\n",
    "        df_atributos = pd.concat([df_atributos,df_atr_aux])\n",
    "    pbar.update(0)\n",
    "    return df_atributos"
   ]
  },
  {
   "cell_type": "code",
   "execution_count": 91,
   "metadata": {},
   "outputs": [],
   "source": [
    "from sklearn.preprocessing import MinMaxScaler\n",
    "def normaliza_min_max(df_atributos,nombre,dias,celdas):\n",
    "    \"\"\"\n",
    "    Normaliza los datos del dataframe pasado\n",
    "    \"\"\"\n",
    "    X = df_atributos.values.tolist()\n",
    "    min_max = preprocessing.MinMaxScaler()\n",
    "    normalizador = min_max.fit(X)\n",
    "    dump(normalizador, 'normalizador.pkl') \n",
    "    x_normalizado_2 = min_max.transform(X)\n",
    "    x_normalizado_2\n",
    "    df_norm = pd.DataFrame(x_normalizado_2,columns=df_atributos.columns)\n",
    "#     df_norm.to_excel('dfAtributosNormalizado2_{}.xlsx'.format(nombre[3:]))\n",
    "    guarda_dataframe(df_norm,'dfAtributosNormalizado_{}_dias_{}_celdas'.format(dias,celdas),True)\n",
    "    return df_norm"
   ]
  },
  {
   "cell_type": "code",
   "execution_count": 39,
   "metadata": {},
   "outputs": [],
   "source": [
    "def lista_avistamientos(nombre):\n",
    "    \"\"\"\n",
    "    Agrupa los avistamientos de cada tres filas ya que al concatenar las tres profundidades los avistamientos estaban repetidos\n",
    "    \n",
    "    Parametros:\n",
    "    nombre -- nombre del dataframe a modificar\n",
    "    \"\"\"\n",
    "    df = pd.read_pickle(nombre)\n",
    "    df = df.fillna(method='ffill', axis=0)#.drop(['level_0','index'],axis = 1)\n",
    "    listado_avistamientos = df.Avistamientos.values.tolist()\n",
    "    avistamientos = [x for x in listado_avistamientos[::3]]\n",
    "    df_avistamientos = pd.DataFrame(avistamientos,columns=['Avistamientos'])\n",
    "    guarda_dataframe(df_avistamientos,'dfAvistamientos',True)\n",
    "    return df_avistamientos"
   ]
  },
  {
   "cell_type": "code",
   "execution_count": 40,
   "metadata": {},
   "outputs": [],
   "source": [
    "def ejecuta(nombre,dias,celdas):\n",
    "    \"\"\"\n",
    "    Coloca las tres profundidades en una misma linea y los normaliza\n",
    "    \n",
    "    Devuelve el dataframe normalizado y el dataframe de los avistmaientos\n",
    "    \n",
    "    Parametros:\n",
    "    nombre -- nombre del dataframe a modificar\n",
    "    dias -- dias de desfase en la fecha\n",
    "    celdas -- numero de celdas a tener en cuenta alrededor del punto de avistamiento\n",
    "    \"\"\"\n",
    "    df_inicial = cargar(nombre)\n",
    "    df_atributos = unifica_lineas(df_inicial)\n",
    "    df_atri_norm = normaliza_min_max(df_atributos,nombre,dias,celdas)\n",
    "    df_avis_norm = lista_avistamientos(nombre)\n",
    "    return df_atri_norm,df_avis_norm"
   ]
  },
  {
   "cell_type": "markdown",
   "metadata": {},
   "source": [
    "# Proceso completo con diferentes configuraciones"
   ]
  },
  {
   "cell_type": "code",
   "execution_count": 92,
   "metadata": {
    "scrolled": true
   },
   "outputs": [
    {
     "name": "stdout",
     "output_type": "stream",
     "text": [
      "0.0 minutos\n",
      "2dias 2celdas\n"
     ]
    },
    {
     "data": {
      "application/vnd.jupyter.widget-view+json": {
       "model_id": "163eb975836b4052ad10bf6a33c53cba",
       "version_major": 2,
       "version_minor": 0
      },
      "text/plain": [
       "HBox(children=(FloatProgress(value=0.0, max=668.0), HTML(value='')))"
      ]
     },
     "metadata": {},
     "output_type": "display_data"
    },
    {
     "data": {
      "application/vnd.jupyter.widget-view+json": {
       "model_id": "47b830ed6abd4422ad849728d866d4fa",
       "version_major": 2,
       "version_minor": 0
      },
      "text/plain": [
       "HBox(children=(FloatProgress(value=0.0, max=493.0), HTML(value='')))"
      ]
     },
     "metadata": {},
     "output_type": "display_data"
    },
    {
     "data": {
      "application/vnd.jupyter.widget-view+json": {
       "model_id": "1e738f741b4b40a1ab3d77a42ae84969",
       "version_major": 2,
       "version_minor": 0
      },
      "text/plain": [
       "HBox(children=(FloatProgress(value=0.0, max=668.0), HTML(value='')))"
      ]
     },
     "metadata": {},
     "output_type": "display_data"
    }
   ],
   "source": [
    "# configs = {'num_dias':[0,7,14,30,60],\n",
    "#            'celdas':[0,2,4]}\n",
    "\n",
    "configs = {'num_dias':[2],\n",
    "           'celdas':[2]}\n",
    "\n",
    "df_revision = None\n",
    "\n",
    "df = pd.read_pickle('2_avistamientos_redondeo.pkl')\n",
    "inicio = time()\n",
    "for d in configs['num_dias']:\n",
    "    dias_desfase = d # dias de desfase respecto la fecha de avistamiento\n",
    "    for c in configs['celdas']:\n",
    "        print('{} minutos'.format((time() - inicio)/60))\n",
    "        cuadrantes['izquierda'],cuadrantes['arriba'],cuadrantes['abajo'] = c,c,c\n",
    "        print('{}dias {}celdas'.format(d,c))\n",
    "        df_res = crea_estr(df)\n",
    "        df_res = df_res.sort_values(by=['Fecha','Latitud','Longitud'])\n",
    "        df_revision = df_res\n",
    "#         print(df_res)\n",
    "        df_res = rellenar_huecos(df_res)\n",
    "        guarda_dataframe(df_res,'3estruct_{}dias_{}celdas'.format(d,c),True)\n",
    "        ejecuta(nombre='./pkls/3estruct_{}dias_{}celdas.pkl'.format(d,c),dias=d,celdas=c)\n",
    "        \n",
    "        "
   ]
  },
  {
   "cell_type": "code",
   "execution_count": 81,
   "metadata": {},
   "outputs": [],
   "source": [
    "df_revision\n",
    "df_revision.to_excel('aaa.xlsx')"
   ]
  },
  {
   "cell_type": "code",
   "execution_count": null,
   "metadata": {},
   "outputs": [],
   "source": []
  },
  {
   "cell_type": "code",
   "execution_count": null,
   "metadata": {},
   "outputs": [],
   "source": []
  }
 ],
 "metadata": {
  "kernelspec": {
   "display_name": "Python 3",
   "language": "python",
   "name": "python3"
  },
  "language_info": {
   "codemirror_mode": {
    "name": "ipython",
    "version": 3
   },
   "file_extension": ".py",
   "mimetype": "text/x-python",
   "name": "python",
   "nbconvert_exporter": "python",
   "pygments_lexer": "ipython3",
   "version": "3.7.6"
  }
 },
 "nbformat": 4,
 "nbformat_minor": 4
}
