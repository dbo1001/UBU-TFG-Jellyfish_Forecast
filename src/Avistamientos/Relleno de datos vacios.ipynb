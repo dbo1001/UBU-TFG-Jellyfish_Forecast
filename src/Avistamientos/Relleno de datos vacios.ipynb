{
 "cells": [
  {
   "cell_type": "code",
   "execution_count": 97,
   "metadata": {},
   "outputs": [],
   "source": [
    "import pandas as pd\n",
    "import numpy as np\n",
    "import math as m"
   ]
  },
  {
   "cell_type": "code",
   "execution_count": 59,
   "metadata": {},
   "outputs": [],
   "source": [
    "datos = pd.read_excel('EstructuraFinal.xlsx')\n",
    "datos = datos.drop(['Unnamed: 0'],axis=1).sort_values(by=['Latitud','Longitud','Profundidad','Fecha'])"
   ]
  },
  {
   "cell_type": "code",
   "execution_count": 60,
   "metadata": {
    "scrolled": false
   },
   "outputs": [
    {
     "data": {
      "text/html": [
       "<div>\n",
       "<style scoped>\n",
       "    .dataframe tbody tr th:only-of-type {\n",
       "        vertical-align: middle;\n",
       "    }\n",
       "\n",
       "    .dataframe tbody tr th {\n",
       "        vertical-align: top;\n",
       "    }\n",
       "\n",
       "    .dataframe thead th {\n",
       "        text-align: right;\n",
       "    }\n",
       "</style>\n",
       "<table border=\"1\" class=\"dataframe\">\n",
       "  <thead>\n",
       "    <tr style=\"text-align: right;\">\n",
       "      <th></th>\n",
       "      <th>Avistamientos</th>\n",
       "      <th>Latitud</th>\n",
       "      <th>Longitud</th>\n",
       "      <th>Fecha</th>\n",
       "      <th>Coord</th>\n",
       "      <th>Profundidad</th>\n",
       "      <th>mlotst</th>\n",
       "      <th>zos</th>\n",
       "      <th>bottomT</th>\n",
       "      <th>thetao</th>\n",
       "      <th>...</th>\n",
       "      <th>vo_izq_2</th>\n",
       "      <th>Coord_izq_3</th>\n",
       "      <th>Profundidad_izq_3</th>\n",
       "      <th>mlotst_izq_3</th>\n",
       "      <th>zos_izq_3</th>\n",
       "      <th>bottomT_izq_3</th>\n",
       "      <th>thetao_izq_3</th>\n",
       "      <th>so_izq_3</th>\n",
       "      <th>uo_izq_3</th>\n",
       "      <th>vo_izq_3</th>\n",
       "    </tr>\n",
       "  </thead>\n",
       "  <tbody>\n",
       "    <tr>\n",
       "      <th>380</th>\n",
       "      <td>1</td>\n",
       "      <td>-41.833333</td>\n",
       "      <td>-73.583333</td>\n",
       "      <td>2015-05-23</td>\n",
       "      <td>(-41.83333333333334, -73.74999999999999)</td>\n",
       "      <td>9.572997</td>\n",
       "      <td>10.834071</td>\n",
       "      <td>0.102847</td>\n",
       "      <td>12.157201</td>\n",
       "      <td>NaN</td>\n",
       "      <td>...</td>\n",
       "      <td>0.24659</td>\n",
       "      <td>[-41.83333333333334, -74.24999999999999]</td>\n",
       "      <td>9.572997</td>\n",
       "      <td>39.368881</td>\n",
       "      <td>0.103458</td>\n",
       "      <td>9.452284</td>\n",
       "      <td>12.658193</td>\n",
       "      <td>33.365887</td>\n",
       "      <td>-0.034181</td>\n",
       "      <td>-0.09949</td>\n",
       "    </tr>\n",
       "  </tbody>\n",
       "</table>\n",
       "<p>1 rows × 40 columns</p>\n",
       "</div>"
      ],
      "text/plain": [
       "     Avistamientos    Latitud   Longitud      Fecha  \\\n",
       "380              1 -41.833333 -73.583333 2015-05-23   \n",
       "\n",
       "                                        Coord  Profundidad     mlotst  \\\n",
       "380  (-41.83333333333334, -73.74999999999999)     9.572997  10.834071   \n",
       "\n",
       "          zos    bottomT  thetao  ...  vo_izq_2  \\\n",
       "380  0.102847  12.157201     NaN  ...   0.24659   \n",
       "\n",
       "                                  Coord_izq_3  Profundidad_izq_3 mlotst_izq_3  \\\n",
       "380  [-41.83333333333334, -74.24999999999999]           9.572997    39.368881   \n",
       "\n",
       "     zos_izq_3  bottomT_izq_3  thetao_izq_3   so_izq_3  uo_izq_3  vo_izq_3  \n",
       "380   0.103458       9.452284     12.658193  33.365887 -0.034181  -0.09949  \n",
       "\n",
       "[1 rows x 40 columns]"
      ]
     },
     "execution_count": 60,
     "metadata": {},
     "output_type": "execute_result"
    }
   ],
   "source": [
    "# datos.loc[datos['mlotst'] == 0]\n",
    "# datos['mlotst']\n",
    "# for i in datos['mlotst']:\n",
    "#     print(i)\n",
    "datos.loc[np.isnan(datos['thetao'])]"
   ]
  },
  {
   "cell_type": "code",
   "execution_count": 132,
   "metadata": {
    "scrolled": false
   },
   "outputs": [
    {
     "name": "stdout",
     "output_type": "stream",
     "text": [
      "<class 'str'>\n",
      "<class 'str'>\n",
      "<class 'str'>\n",
      "<class 'str'>\n",
      "<class 'str'>\n",
      "<class 'str'>\n",
      "<class 'str'>\n",
      "<class 'str'>\n",
      "<class 'str'>\n",
      "<class 'str'>\n",
      "<class 'str'>\n",
      "<class 'str'>\n"
     ]
    }
   ],
   "source": [
    "filas_nan = datos[datos.isna().any(axis=1)] # filas con valores vacios\n",
    "for index, fila in filas_nan.iterrows():\n",
    "    num = fila.isna() # columnas con valores nan\n",
    "    for index, value in num.items():\n",
    "        if value:\n",
    "            nombre = 'Coord'\n",
    "            try:\n",
    "                nombre = nombre + index[index.index('_'):]\n",
    "            except:\n",
    "                pass\n",
    "            coordenadas = fila[nombre]\n",
    "            print(type(coordenadas))"
   ]
  },
  {
   "cell_type": "code",
   "execution_count": null,
   "metadata": {},
   "outputs": [],
   "source": []
  }
 ],
 "metadata": {
  "kernelspec": {
   "display_name": "Python 3",
   "language": "python",
   "name": "python3"
  },
  "language_info": {
   "codemirror_mode": {
    "name": "ipython",
    "version": 3
   },
   "file_extension": ".py",
   "mimetype": "text/x-python",
   "name": "python",
   "nbconvert_exporter": "python",
   "pygments_lexer": "ipython3",
   "version": "3.7.6"
  }
 },
 "nbformat": 4,
 "nbformat_minor": 4
}
